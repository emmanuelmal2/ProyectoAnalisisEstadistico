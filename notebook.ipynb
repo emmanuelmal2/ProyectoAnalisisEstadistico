{
 "cells": [
  {
   "cell_type": "markdown",
   "metadata": {
    "id": "3rYiDeEH0q0f"
   },
   "source": [
    "# ¿Cuál es la mejor tarifa?\n",
    "\n",
    "## Propósito del Proyecto y Plan de Análisis\n",
    "Megaline, un operador de telecomunicaciones, ofrece dos planes de prepago: **Surf** y **Ultimate**.  \n",
    "El objetivo principal de este proyecto es determinar cuál de los dos planes genera más ingresos para la empresa.  \n",
    "\n",
    "Para lograr esto, se analizarán los datos de 500 clientes de Megaline en 2018, evaluando su comportamiento en cuanto a:  \n",
    "- Duración de llamadas  \n",
    "- Cantidad de mensajes enviados  \n",
    "- Consumo de Internet  \n",
    "- Ingresos generados por cada plan  \n",
    "\n",
    "---\n",
    "El proceso de análisis se dividirá en las siguientes etapas:\n",
    "\n",
    "1. Carga y Exploración de Datos\n",
    "- Importar los datos desde los archivos proporcionados.  \n",
    "- Explorar la estructura de cada tabla, verificando tipos de datos, valores nulos y duplicados.  \n",
    "\n",
    "2. Limpieza y Preparación de Datos\n",
    "- Convertir columnas de fecha a formato datetime.  \n",
    "- Reemplazar valores nulos y eliminar duplicados.  \n",
    "- Fusionar múltiples fuentes de datos en un DataFrame unificado.  \n",
    "\n",
    "3. Análisis del Comportamiento de los Usuarios\n",
    "- Evaluar el uso de llamadas, mensajes y datos móviles en cada plan.  \n",
    "- Comparar duración promedio de llamadas, cantidad de mensajes enviados y consumo de datos.  \n",
    "- Visualizar distribuciones con histogramas y diagramas de caja.  \n",
    "\n",
    "4. Análisis de Ingresos por Plan\n",
    "- Calcular ingresos generados por cada usuario (tarifa base + cargos por excedentes).  \n",
    "- Identificar tendencias en los ingresos.  \n",
    "\n",
    "5. Pruebas de Hipótesis\n",
    "- Determinar si hay una diferencia significativa en los ingresos de cada plan.    \n",
    "\n",
    "6. Conclusiones y Recomendaciones\n",
    "- Determinar qué plan es más rentable.    \n",
    "\n",
    "---\n",
    "\n",
    "## **Objetivo Final**\n",
    "Este análisis proporcionará a Megaline **datos valiosos sobre el comportamiento de sus clientes y la rentabilidad de sus planes**, permitiéndole tomar decisiones informadas para optimizar su estrategia de ventas y retención de clientes.  \n",
    "\n",
    "---\n"
   ]
  },
  {
   "cell_type": "markdown",
   "metadata": {
    "id": "MQi4IPy70q0y"
   },
   "source": [
    "## Inicialización"
   ]
  },
  {
   "cell_type": "code",
   "execution_count": 1,
   "metadata": {
    "id": "MtYIuBxu0q0z"
   },
   "outputs": [],
   "source": [
    "# Cargar todas las librerías\n",
    "import pandas as pd\n",
    "import matplotlib.pyplot as plt\n",
    "import numpy as np\n",
    "from scipy import stats"
   ]
  },
  {
   "cell_type": "markdown",
   "metadata": {
    "id": "4ysWWC5i0q00"
   },
   "source": [
    "## Cargar datos"
   ]
  },
  {
   "cell_type": "code",
   "execution_count": null,
   "metadata": {
    "id": "CCqPW7rS0q01"
   },
   "outputs": [],
   "source": [
    "# Cargar los archivos de datos en diferentes DataFrames\n",
    "\n",
    "calls = pd.read_csv('/datasets/megaline_calls.csv')\n",
    "internet = pd.read_csv('/datasets/megaline_internet.csv')\n",
    "messages = pd.read_csv('/datasets/megaline_messages.csv')\n",
    "plans = pd.read_csv('/datasets/megaline_plans.csv')\n",
    "users = pd.read_csv('/datasets/megaline_users.csv')"
   ]
  },
  {
   "cell_type": "markdown",
   "metadata": {
    "id": "69qqoJ3r0q01"
   },
   "source": [
    "## Preparar los datos"
   ]
  },
  {
   "cell_type": "code",
   "execution_count": 3,
   "metadata": {},
   "outputs": [
    {
     "name": "stdout",
     "output_type": "stream",
     "text": [
      "<class 'pandas.core.frame.DataFrame'>\n",
      "RangeIndex: 137735 entries, 0 to 137734\n",
      "Data columns (total 4 columns):\n",
      " #   Column     Non-Null Count   Dtype  \n",
      "---  ------     --------------   -----  \n",
      " 0   id         137735 non-null  object \n",
      " 1   user_id    137735 non-null  int64  \n",
      " 2   call_date  137735 non-null  object \n",
      " 3   duration   137735 non-null  float64\n",
      "dtypes: float64(1), int64(1), object(2)\n",
      "memory usage: 4.2+ MB\n",
      "None\n"
     ]
    }
   ],
   "source": [
    "# Tabla calls\n",
    "print(calls.info())\n"
   ]
  },
  {
   "cell_type": "code",
   "execution_count": 4,
   "metadata": {},
   "outputs": [
    {
     "name": "stdout",
     "output_type": "stream",
     "text": [
      "<class 'pandas.core.frame.DataFrame'>\n",
      "RangeIndex: 104825 entries, 0 to 104824\n",
      "Data columns (total 4 columns):\n",
      " #   Column        Non-Null Count   Dtype  \n",
      "---  ------        --------------   -----  \n",
      " 0   id            104825 non-null  object \n",
      " 1   user_id       104825 non-null  int64  \n",
      " 2   session_date  104825 non-null  object \n",
      " 3   mb_used       104825 non-null  float64\n",
      "dtypes: float64(1), int64(1), object(2)\n",
      "memory usage: 3.2+ MB\n",
      "None\n"
     ]
    }
   ],
   "source": [
    "# Tabla internet \n",
    "print(internet.info())"
   ]
  },
  {
   "cell_type": "code",
   "execution_count": 5,
   "metadata": {},
   "outputs": [
    {
     "name": "stdout",
     "output_type": "stream",
     "text": [
      "<class 'pandas.core.frame.DataFrame'>\n",
      "RangeIndex: 76051 entries, 0 to 76050\n",
      "Data columns (total 3 columns):\n",
      " #   Column        Non-Null Count  Dtype \n",
      "---  ------        --------------  ----- \n",
      " 0   id            76051 non-null  object\n",
      " 1   user_id       76051 non-null  int64 \n",
      " 2   message_date  76051 non-null  object\n",
      "dtypes: int64(1), object(2)\n",
      "memory usage: 1.7+ MB\n",
      "None\n"
     ]
    }
   ],
   "source": [
    "# Tabla messages\n",
    "print(messages.info())"
   ]
  },
  {
   "cell_type": "code",
   "execution_count": 6,
   "metadata": {},
   "outputs": [
    {
     "name": "stdout",
     "output_type": "stream",
     "text": [
      "<class 'pandas.core.frame.DataFrame'>\n",
      "RangeIndex: 2 entries, 0 to 1\n",
      "Data columns (total 8 columns):\n",
      " #   Column                 Non-Null Count  Dtype  \n",
      "---  ------                 --------------  -----  \n",
      " 0   messages_included      2 non-null      int64  \n",
      " 1   mb_per_month_included  2 non-null      int64  \n",
      " 2   minutes_included       2 non-null      int64  \n",
      " 3   usd_monthly_pay        2 non-null      int64  \n",
      " 4   usd_per_gb             2 non-null      int64  \n",
      " 5   usd_per_message        2 non-null      float64\n",
      " 6   usd_per_minute         2 non-null      float64\n",
      " 7   plan_name              2 non-null      object \n",
      "dtypes: float64(2), int64(5), object(1)\n",
      "memory usage: 256.0+ bytes\n",
      "None\n"
     ]
    }
   ],
   "source": [
    "# Tabla plans\n",
    "print(plans.info())"
   ]
  },
  {
   "cell_type": "code",
   "execution_count": 7,
   "metadata": {},
   "outputs": [
    {
     "name": "stdout",
     "output_type": "stream",
     "text": [
      "<class 'pandas.core.frame.DataFrame'>\n",
      "RangeIndex: 500 entries, 0 to 499\n",
      "Data columns (total 8 columns):\n",
      " #   Column      Non-Null Count  Dtype \n",
      "---  ------      --------------  ----- \n",
      " 0   user_id     500 non-null    int64 \n",
      " 1   first_name  500 non-null    object\n",
      " 2   last_name   500 non-null    object\n",
      " 3   age         500 non-null    int64 \n",
      " 4   city        500 non-null    object\n",
      " 5   reg_date    500 non-null    object\n",
      " 6   plan        500 non-null    object\n",
      " 7   churn_date  34 non-null     object\n",
      "dtypes: int64(2), object(6)\n",
      "memory usage: 31.4+ KB\n",
      "None\n"
     ]
    }
   ],
   "source": [
    "# Tabla users\n",
    "print(users.info())"
   ]
  },
  {
   "cell_type": "markdown",
   "metadata": {
    "id": "ohBhimvH0q01"
   },
   "source": [
    "## Tarifas"
   ]
  },
  {
   "cell_type": "code",
   "execution_count": null,
   "metadata": {
    "id": "GptqP3Q40q02"
   },
   "outputs": [
    {
     "name": "stdout",
     "output_type": "stream",
     "text": [
      "<class 'pandas.core.frame.DataFrame'>\n",
      "RangeIndex: 2 entries, 0 to 1\n",
      "Data columns (total 8 columns):\n",
      " #   Column                 Non-Null Count  Dtype  \n",
      "---  ------                 --------------  -----  \n",
      " 0   messages_included      2 non-null      int64  \n",
      " 1   mb_per_month_included  2 non-null      int64  \n",
      " 2   minutes_included       2 non-null      int64  \n",
      " 3   usd_monthly_pay        2 non-null      int64  \n",
      " 4   usd_per_gb             2 non-null      int64  \n",
      " 5   usd_per_message        2 non-null      float64\n",
      " 6   usd_per_minute         2 non-null      float64\n",
      " 7   plan_name              2 non-null      object \n",
      "dtypes: float64(2), int64(5), object(1)\n",
      "memory usage: 256.0+ bytes\n",
      "None\n",
      "\n",
      "Numero de duplicados 0\n",
      "\n"
     ]
    }
   ],
   "source": [
    "# Visualizando la información general/resumida sobre el DataFrame de las tarifas\n",
    "\n",
    "print(plans.info())\n",
    "print('\\nNumero de duplicados {}\\n'.format(plans.duplicated().sum()))"
   ]
  },
  {
   "cell_type": "code",
   "execution_count": null,
   "metadata": {
    "id": "64xzjwL70q02"
   },
   "outputs": [
    {
     "name": "stdout",
     "output_type": "stream",
     "text": [
      "   messages_included  mb_per_month_included  minutes_included  \\\n",
      "0                 50                  15360               500   \n",
      "1               1000                  30720              3000   \n",
      "\n",
      "   usd_monthly_pay  usd_per_gb  usd_per_message  usd_per_minute plan_name  \n",
      "0               20          10             0.03            0.03      surf  \n",
      "1               70           7             0.01            0.01  ultimate  \n"
     ]
    }
   ],
   "source": [
    "# Visualizando una muestra de los datos para las tarifas\n",
    "print(plans.head())\n"
   ]
  },
  {
   "cell_type": "markdown",
   "metadata": {
    "id": "mEc_3_hs0q02"
   },
   "source": [
    "En general el DataFrame parece estar bien estructurado y sin problemas evidentes. No hay datos ausentes en este DataFrame, lo cual es positivo. Los tipos de datos tambien parecen correctos ya que concuerdan con lo esperado y sus valores son parecen consistentes.\n"
   ]
  },
  {
   "cell_type": "markdown",
   "metadata": {
    "id": "1n2X6WXf0q04"
   },
   "source": [
    "## Usuarios/as"
   ]
  },
  {
   "cell_type": "code",
   "execution_count": null,
   "metadata": {
    "id": "2NgjWFqx0q05"
   },
   "outputs": [
    {
     "name": "stdout",
     "output_type": "stream",
     "text": [
      "<class 'pandas.core.frame.DataFrame'>\n",
      "RangeIndex: 500 entries, 0 to 499\n",
      "Data columns (total 8 columns):\n",
      " #   Column      Non-Null Count  Dtype \n",
      "---  ------      --------------  ----- \n",
      " 0   user_id     500 non-null    int64 \n",
      " 1   first_name  500 non-null    object\n",
      " 2   last_name   500 non-null    object\n",
      " 3   age         500 non-null    int64 \n",
      " 4   city        500 non-null    object\n",
      " 5   reg_date    500 non-null    object\n",
      " 6   plan        500 non-null    object\n",
      " 7   churn_date  34 non-null     object\n",
      "dtypes: int64(2), object(6)\n",
      "memory usage: 31.4+ KB\n",
      "None\n",
      "\n",
      "Numero de duplicados 0\n",
      "\n"
     ]
    }
   ],
   "source": [
    "# Visualizando la información general/resumida sobre el DataFrame de usuarios\n",
    "\n",
    "print(users.info())\n",
    "print('\\nNumero de duplicados {}\\n'.format(users.duplicated().sum()))"
   ]
  },
  {
   "cell_type": "code",
   "execution_count": null,
   "metadata": {
    "id": "1IN1L9uh0q05"
   },
   "outputs": [
    {
     "name": "stdout",
     "output_type": "stream",
     "text": [
      "   user_id first_name  last_name  age                                    city  \\\n",
      "0     1000   Anamaria      Bauer   45   Atlanta-Sandy Springs-Roswell, GA MSA   \n",
      "1     1001     Mickey  Wilkerson   28         Seattle-Tacoma-Bellevue, WA MSA   \n",
      "2     1002     Carlee    Hoffman   36    Las Vegas-Henderson-Paradise, NV MSA   \n",
      "3     1003   Reynaldo    Jenkins   52                           Tulsa, OK MSA   \n",
      "4     1004    Leonila   Thompson   40         Seattle-Tacoma-Bellevue, WA MSA   \n",
      "5     1005      Livia    Shields   31     Dallas-Fort Worth-Arlington, TX MSA   \n",
      "6     1006     Jesusa   Bradford   73  San Francisco-Oakland-Berkeley, CA MSA   \n",
      "7     1007    Eusebio      Welch   42           Grand Rapids-Kentwood, MI MSA   \n",
      "8     1008      Emely    Hoffman   53       Orlando-Kissimmee-Sanford, FL MSA   \n",
      "9     1009      Gerry     Little   19  San Jose-Sunnyvale-Santa Clara, CA MSA   \n",
      "\n",
      "     reg_date      plan  churn_date  \n",
      "0  2018-12-24  ultimate         NaN  \n",
      "1  2018-08-13      surf         NaN  \n",
      "2  2018-10-21      surf         NaN  \n",
      "3  2018-01-28      surf         NaN  \n",
      "4  2018-05-23      surf         NaN  \n",
      "5  2018-11-29      surf         NaN  \n",
      "6  2018-11-27  ultimate  2018-12-18  \n",
      "7  2018-07-11      surf         NaN  \n",
      "8  2018-08-03  ultimate         NaN  \n",
      "9  2018-04-22      surf         NaN  \n"
     ]
    }
   ],
   "source": [
    "# Visualizando una muestra de datos para usuarios\n",
    "\n",
    "print(users.head(10))"
   ]
  },
  {
   "cell_type": "markdown",
   "metadata": {},
   "source": [
    "- Según la descripción, las columnas reg_date y churn_date representan fechas por lo que hay que cambiarlas de tipo a datetime\n",
    "- En cuanto a los valores ausentes en la columna churn_date, la descripción indica que el usuario todavía estaba activo cuando se extrajo la base de datos.\n",
    "por lo que esto no es un error pero puede requerir manejo especial en análisis.\n",
    "- Las columnas de user_id, first_name, last_name, city y plan tienen el tipo de dato correcto"
   ]
  },
  {
   "cell_type": "markdown",
   "metadata": {
    "id": "BX5FQh_I0q06"
   },
   "source": [
    "### Corregir los datos"
   ]
  },
  {
   "cell_type": "code",
   "execution_count": 12,
   "metadata": {
    "id": "yUqX-K0C0q07"
   },
   "outputs": [],
   "source": [
    "users['reg_date'] = pd.to_datetime(users['reg_date'],format = '%Y-%m-%d')\n",
    "users['churn_date'] = pd.to_datetime(users['churn_date'], format = '%Y-%m-%d')"
   ]
  },
  {
   "cell_type": "markdown",
   "metadata": {},
   "source": [
    "Se aplico ese formato en las fechas porque hay valores que sigue ese patron"
   ]
  },
  {
   "cell_type": "code",
   "execution_count": null,
   "metadata": {},
   "outputs": [
    {
     "name": "stdout",
     "output_type": "stream",
     "text": [
      "<class 'pandas.core.frame.DataFrame'>\n",
      "RangeIndex: 500 entries, 0 to 499\n",
      "Data columns (total 8 columns):\n",
      " #   Column      Non-Null Count  Dtype         \n",
      "---  ------      --------------  -----         \n",
      " 0   user_id     500 non-null    int64         \n",
      " 1   first_name  500 non-null    object        \n",
      " 2   last_name   500 non-null    object        \n",
      " 3   age         500 non-null    int64         \n",
      " 4   city        500 non-null    object        \n",
      " 5   reg_date    500 non-null    datetime64[ns]\n",
      " 6   plan        500 non-null    object        \n",
      " 7   churn_date  34 non-null     datetime64[ns]\n",
      "dtypes: datetime64[ns](2), int64(2), object(4)\n",
      "memory usage: 31.4+ KB\n",
      "None\n"
     ]
    }
   ],
   "source": [
    "# Comprobando los cambios\n",
    "print(users.info())"
   ]
  },
  {
   "cell_type": "markdown",
   "metadata": {
    "id": "ycwuARJp0q07"
   },
   "source": [
    "### Enriquecer los datos"
   ]
  },
  {
   "cell_type": "markdown",
   "metadata": {
    "id": "96NIh4CJ0q08"
   },
   "source": [
    "Se pueden reemplazar los valores nulos con un valor descriptivo como \"Active\""
   ]
  },
  {
   "cell_type": "code",
   "execution_count": 14,
   "metadata": {
    "id": "iq0AaBS90q08"
   },
   "outputs": [
    {
     "name": "stdout",
     "output_type": "stream",
     "text": [
      "   user_id first_name  last_name  age                                    city  \\\n",
      "0     1000   Anamaria      Bauer   45   Atlanta-Sandy Springs-Roswell, GA MSA   \n",
      "1     1001     Mickey  Wilkerson   28         Seattle-Tacoma-Bellevue, WA MSA   \n",
      "2     1002     Carlee    Hoffman   36    Las Vegas-Henderson-Paradise, NV MSA   \n",
      "3     1003   Reynaldo    Jenkins   52                           Tulsa, OK MSA   \n",
      "4     1004    Leonila   Thompson   40         Seattle-Tacoma-Bellevue, WA MSA   \n",
      "5     1005      Livia    Shields   31     Dallas-Fort Worth-Arlington, TX MSA   \n",
      "6     1006     Jesusa   Bradford   73  San Francisco-Oakland-Berkeley, CA MSA   \n",
      "7     1007    Eusebio      Welch   42           Grand Rapids-Kentwood, MI MSA   \n",
      "8     1008      Emely    Hoffman   53       Orlando-Kissimmee-Sanford, FL MSA   \n",
      "9     1009      Gerry     Little   19  San Jose-Sunnyvale-Santa Clara, CA MSA   \n",
      "\n",
      "    reg_date      plan           churn_date  \n",
      "0 2018-12-24  ultimate               Active  \n",
      "1 2018-08-13      surf               Active  \n",
      "2 2018-10-21      surf               Active  \n",
      "3 2018-01-28      surf               Active  \n",
      "4 2018-05-23      surf               Active  \n",
      "5 2018-11-29      surf               Active  \n",
      "6 2018-11-27  ultimate  2018-12-18 00:00:00  \n",
      "7 2018-07-11      surf               Active  \n",
      "8 2018-08-03  ultimate               Active  \n",
      "9 2018-04-22      surf               Active  \n"
     ]
    }
   ],
   "source": [
    "users['churn_date'].fillna('Active', inplace = True)\n",
    "# Comprobando el resultado\n",
    "print(users.head(10))"
   ]
  },
  {
   "cell_type": "markdown",
   "metadata": {},
   "source": [
    "La columna city se podria dividir por regiones"
   ]
  },
  {
   "cell_type": "code",
   "execution_count": 15,
   "metadata": {},
   "outputs": [],
   "source": [
    "# Crear una nueva columna 'region' extrayendo la última parte de la cadena después de la última coma\n",
    "users['region'] = users['city'].str.split(',').str[-1].str.strip()\n"
   ]
  },
  {
   "cell_type": "markdown",
   "metadata": {
    "id": "o7MeKCid0q08"
   },
   "source": [
    "## Llamadas"
   ]
  },
  {
   "cell_type": "code",
   "execution_count": null,
   "metadata": {
    "id": "6dDlnoDm0q08"
   },
   "outputs": [
    {
     "name": "stdout",
     "output_type": "stream",
     "text": [
      "<class 'pandas.core.frame.DataFrame'>\n",
      "RangeIndex: 137735 entries, 0 to 137734\n",
      "Data columns (total 4 columns):\n",
      " #   Column     Non-Null Count   Dtype  \n",
      "---  ------     --------------   -----  \n",
      " 0   id         137735 non-null  object \n",
      " 1   user_id    137735 non-null  int64  \n",
      " 2   call_date  137735 non-null  object \n",
      " 3   duration   137735 non-null  float64\n",
      "dtypes: float64(1), int64(1), object(2)\n",
      "memory usage: 4.2+ MB\n",
      "None\n",
      "\n",
      "Numero de duplicados 0\n",
      "\n"
     ]
    }
   ],
   "source": [
    "# Visualizando la información general/resumida sobre el DataFrame de las llamadas\n",
    "print(calls.info())\n",
    "print('\\nNumero de duplicados {}\\n'.format(calls.duplicated().sum()))"
   ]
  },
  {
   "cell_type": "code",
   "execution_count": null,
   "metadata": {
    "id": "kuh1vlNB0q09"
   },
   "outputs": [
    {
     "name": "stdout",
     "output_type": "stream",
     "text": [
      "         id  user_id   call_date  duration\n",
      "0   1000_93     1000  2018-12-27      8.52\n",
      "1  1000_145     1000  2018-12-27     13.66\n",
      "2  1000_247     1000  2018-12-27     14.48\n",
      "3  1000_309     1000  2018-12-28      5.76\n",
      "4  1000_380     1000  2018-12-30      4.22\n",
      "5  1000_388     1000  2018-12-31      2.20\n",
      "6  1000_510     1000  2018-12-27      5.75\n",
      "7  1000_521     1000  2018-12-28     14.18\n",
      "8  1000_530     1000  2018-12-28      5.77\n",
      "9  1000_544     1000  2018-12-26      4.40\n"
     ]
    }
   ],
   "source": [
    "# Visualizando una muestra de datos para las llamadas\n",
    "print(calls.head(10))"
   ]
  },
  {
   "cell_type": "markdown",
   "metadata": {
    "id": "DOAxYJSx0q09"
   },
   "source": [
    "\n",
    "- Como id solo contiene números debería convertirse a int para facilitar análisis y búsquedas. Sin embargo, como tiene el caracter '_', primero se tendria que quitar para despues convertir a entero\n",
    "- call_date como es un campo de fecha seria mejor cambiarlo a datetime en lugar de object\n"
   ]
  },
  {
   "cell_type": "markdown",
   "metadata": {
    "id": "S7hzxmbX0q0-"
   },
   "source": [
    "### Corregir los datos"
   ]
  },
  {
   "cell_type": "code",
   "execution_count": 18,
   "metadata": {
    "id": "S2r8xA4f0q0-"
   },
   "outputs": [
    {
     "name": "stdout",
     "output_type": "stream",
     "text": [
      "<class 'pandas.core.frame.DataFrame'>\n",
      "RangeIndex: 137735 entries, 0 to 137734\n",
      "Data columns (total 5 columns):\n",
      " #   Column     Non-Null Count   Dtype         \n",
      "---  ------     --------------   -----         \n",
      " 0   id         137735 non-null  int64         \n",
      " 1   user_id    137735 non-null  int64         \n",
      " 2   call_date  137735 non-null  object        \n",
      " 3   duration   137735 non-null  float64       \n",
      " 4   call.date  137735 non-null  datetime64[ns]\n",
      "dtypes: datetime64[ns](1), float64(1), int64(2), object(1)\n",
      "memory usage: 5.3+ MB\n",
      "None\n",
      "             id  user_id   call_date  duration  call.date\n",
      "124721  1440237     1440  2018-10-09     20.60 2018-10-09\n",
      "36306   1138260     1138  2018-05-12      5.91 2018-05-12\n",
      "55556   1199142     1199  2018-09-08      0.00 2018-09-08\n",
      "63100    122824     1228  2018-11-05      0.00 2018-11-05\n",
      "10360   1046226     1046  2018-11-09      7.69 2018-11-09\n",
      "1197    1007218     1007  2018-12-07      9.00 2018-12-07\n",
      "100665  1359549     1359  2018-04-22     21.67 2018-04-22\n",
      "112716  1397341     1397  2018-09-17      7.28 2018-09-17\n",
      "126199   144764     1447  2018-11-29      2.94 2018-11-29\n",
      "110603   139052     1390  2018-12-19      8.75 2018-12-19\n"
     ]
    }
   ],
   "source": [
    "calls['id']= calls['id'].str.replace('_','').astype(int)\n",
    "calls['call.date'] = pd.to_datetime(calls['call_date'], format = '%Y-%m-%d')\n",
    "# Comprobando los cambios\n",
    "print(calls.info())\n",
    "print(calls.sample(10))\n",
    "\n"
   ]
  },
  {
   "cell_type": "markdown",
   "metadata": {
    "id": "mOUZSi180q0_"
   },
   "source": [
    "## Mensajes"
   ]
  },
  {
   "cell_type": "code",
   "execution_count": null,
   "metadata": {
    "id": "R-bYJpdV0q1A"
   },
   "outputs": [
    {
     "name": "stdout",
     "output_type": "stream",
     "text": [
      "<class 'pandas.core.frame.DataFrame'>\n",
      "RangeIndex: 76051 entries, 0 to 76050\n",
      "Data columns (total 3 columns):\n",
      " #   Column        Non-Null Count  Dtype \n",
      "---  ------        --------------  ----- \n",
      " 0   id            76051 non-null  object\n",
      " 1   user_id       76051 non-null  int64 \n",
      " 2   message_date  76051 non-null  object\n",
      "dtypes: int64(1), object(2)\n",
      "memory usage: 1.7+ MB\n",
      "None\n",
      "\n",
      "Numero de duplicados 0\n",
      "\n"
     ]
    }
   ],
   "source": [
    "# Visualizando la información general/resumida sobre el DataFrame de los mensajes\n",
    "print(messages.info())\n",
    "print('\\nNumero de duplicados {}\\n'.format(messages.duplicated().sum()))"
   ]
  },
  {
   "cell_type": "code",
   "execution_count": null,
   "metadata": {
    "id": "mCEl2iGE0q1A"
   },
   "outputs": [
    {
     "name": "stdout",
     "output_type": "stream",
     "text": [
      "         id  user_id message_date\n",
      "0  1000_125     1000   2018-12-27\n",
      "1  1000_160     1000   2018-12-31\n",
      "2  1000_223     1000   2018-12-31\n",
      "3  1000_251     1000   2018-12-27\n",
      "4  1000_255     1000   2018-12-26\n",
      "5  1000_346     1000   2018-12-29\n",
      "6  1000_386     1000   2018-12-30\n",
      "7  1000_413     1000   2018-12-31\n",
      "8  1000_502     1000   2018-12-27\n",
      "9  1000_525     1000   2018-12-28\n",
      "             id  user_id message_date\n",
      "61492  1384_634     1384   2018-11-27\n",
      "17383  1114_264     1114   2018-12-03\n",
      "40892   1262_14     1262   2018-12-20\n",
      "26471  1159_474     1159   2018-12-01\n",
      "46872  1320_116     1320   2018-12-25\n",
      "576    1006_157     1006   2018-12-03\n",
      "74323   1476_85     1476   2018-06-13\n",
      "36804  1246_108     1246   2018-04-26\n",
      "63035  1399_100     1399   2018-08-04\n",
      "17095  1113_188     1113   2018-11-18\n"
     ]
    }
   ],
   "source": [
    "# Visualizando una muestra de datos para los mensajes\n",
    "print(messages.head(10))\n",
    "print(messages.sample(10))"
   ]
  },
  {
   "cell_type": "markdown",
   "metadata": {
    "id": "04xDj7KH0q1A"
   },
   "source": [
    "- Como en el caso anterior, id solo contiene números, por lo que deberia convertirse para facilitar el análisis y las búsquedas. \n",
    "- call_date como es un campo de fecha seria mejor cambiarlo a datetime en lugar de object\n"
   ]
  },
  {
   "cell_type": "markdown",
   "metadata": {
    "id": "Sprfak900q1B"
   },
   "source": [
    "### Corregir los datos"
   ]
  },
  {
   "cell_type": "code",
   "execution_count": 21,
   "metadata": {
    "id": "vsllvkoa0q1B"
   },
   "outputs": [
    {
     "name": "stdout",
     "output_type": "stream",
     "text": [
      "<class 'pandas.core.frame.DataFrame'>\n",
      "RangeIndex: 137735 entries, 0 to 137734\n",
      "Data columns (total 5 columns):\n",
      " #   Column     Non-Null Count   Dtype         \n",
      "---  ------     --------------   -----         \n",
      " 0   id         137735 non-null  int64         \n",
      " 1   user_id    137735 non-null  int64         \n",
      " 2   call_date  137735 non-null  object        \n",
      " 3   duration   137735 non-null  float64       \n",
      " 4   call.date  137735 non-null  datetime64[ns]\n",
      "dtypes: datetime64[ns](1), float64(1), int64(2), object(1)\n",
      "memory usage: 5.3+ MB\n",
      "None\n",
      "              id  user_id   call_date  duration  call.date\n",
      "11353    1050124     1050  2018-07-21      0.00 2018-07-21\n",
      "22108     108240     1082  2018-09-07      6.33 2018-09-07\n",
      "112236   1394161     1394  2018-10-09     10.22 2018-10-09\n",
      "34217   11261266     1126  2018-06-17      0.00 2018-06-17\n",
      "62193    1223367     1223  2018-09-25     11.54 2018-09-25\n",
      "16089    1062329     1062  2018-04-22      2.55 2018-04-22\n",
      "112415   1396126     1396  2018-09-20      0.70 2018-09-20\n",
      "81985    1295413     1295  2018-08-16      8.88 2018-08-16\n",
      "27648    1105199     1105  2018-11-25      0.88 2018-11-25\n",
      "114377    140115     1401  2018-11-20      5.27 2018-11-20\n"
     ]
    }
   ],
   "source": [
    "messages['id']= messages['id'].str.replace('_','').astype(int)\n",
    "messages['message_date'] = pd.to_datetime(messages['message_date'], format = '%Y-%m-%d')\n",
    "# Comprobando los cambios\n",
    "print(calls.info())\n",
    "print(calls.sample(10))"
   ]
  },
  {
   "cell_type": "markdown",
   "metadata": {
    "id": "bStkaxn40q1C"
   },
   "source": [
    "## Internet"
   ]
  },
  {
   "cell_type": "code",
   "execution_count": null,
   "metadata": {
    "id": "e-Uz5qyn0q1C"
   },
   "outputs": [
    {
     "name": "stdout",
     "output_type": "stream",
     "text": [
      "<class 'pandas.core.frame.DataFrame'>\n",
      "RangeIndex: 104825 entries, 0 to 104824\n",
      "Data columns (total 4 columns):\n",
      " #   Column        Non-Null Count   Dtype  \n",
      "---  ------        --------------   -----  \n",
      " 0   id            104825 non-null  object \n",
      " 1   user_id       104825 non-null  int64  \n",
      " 2   session_date  104825 non-null  object \n",
      " 3   mb_used       104825 non-null  float64\n",
      "dtypes: float64(1), int64(1), object(2)\n",
      "memory usage: 3.2+ MB\n",
      "None\n",
      "\n",
      "Numero de duplicados 0\n",
      "\n"
     ]
    }
   ],
   "source": [
    "# Visualizando la información general/resumida sobre el DataFrame de internet\n",
    "\n",
    "print(internet.info())\n",
    "print('\\nNumero de duplicados {}\\n'.format(messages.duplicated().sum()))"
   ]
  },
  {
   "cell_type": "code",
   "execution_count": null,
   "metadata": {
    "id": "9r3x_XLw0q1C"
   },
   "outputs": [
    {
     "name": "stdout",
     "output_type": "stream",
     "text": [
      "         id  user_id session_date  mb_used\n",
      "0   1000_13     1000   2018-12-29    89.86\n",
      "1  1000_204     1000   2018-12-31     0.00\n",
      "2  1000_379     1000   2018-12-28   660.40\n",
      "3  1000_413     1000   2018-12-26   270.99\n",
      "4  1000_442     1000   2018-12-27   880.22\n",
      "5    1001_0     1001   2018-08-24   284.68\n",
      "6    1001_3     1001   2018-12-09   656.04\n",
      "7    1001_4     1001   2018-11-04    16.97\n",
      "8   1001_10     1001   2018-11-27   135.18\n",
      "9   1001_15     1001   2018-12-13   761.92\n",
      "             id  user_id session_date  mb_used\n",
      "64955  1299_243     1299   2018-08-10   422.43\n",
      "32914    1148_9     1148   2018-12-22   366.17\n",
      "9072   1046_357     1046   2018-06-20   501.37\n",
      "49105  1220_114     1220   2018-07-29     0.00\n",
      "47490  1212_198     1212   2018-11-28   757.05\n",
      "61181  1277_484     1277   2018-08-27     0.00\n",
      "24792   1114_67     1114   2018-09-05   702.36\n",
      "91341  1420_234     1420   2018-08-10   765.60\n",
      "4301   1027_129     1027   2018-10-26   376.74\n",
      "9270   1048_141     1048   2018-09-13    70.62\n"
     ]
    }
   ],
   "source": [
    "# Visualizando una muestra de datos para el tráfico de internet\n",
    "print(internet.head(10))\n",
    "print(internet.sample(10))\n"
   ]
  },
  {
   "cell_type": "markdown",
   "metadata": {
    "id": "EzOG5ik30q1D"
   },
   "source": [
    "- Como en el caso anterior, id solo contiene números, por lo que deberia convertirse para facilitar el análisis y las búsquedas\n",
    "- session_date como es un campo de fecha seria mejor cambiarlo a datetime en lugar de object"
   ]
  },
  {
   "cell_type": "markdown",
   "metadata": {
    "id": "yA0tkPFg0q1D"
   },
   "source": [
    "### Corregir los datos"
   ]
  },
  {
   "cell_type": "code",
   "execution_count": 24,
   "metadata": {
    "id": "zVeanzdd0q1E"
   },
   "outputs": [
    {
     "name": "stdout",
     "output_type": "stream",
     "text": [
      "<class 'pandas.core.frame.DataFrame'>\n",
      "RangeIndex: 137735 entries, 0 to 137734\n",
      "Data columns (total 5 columns):\n",
      " #   Column     Non-Null Count   Dtype         \n",
      "---  ------     --------------   -----         \n",
      " 0   id         137735 non-null  int64         \n",
      " 1   user_id    137735 non-null  int64         \n",
      " 2   call_date  137735 non-null  object        \n",
      " 3   duration   137735 non-null  float64       \n",
      " 4   call.date  137735 non-null  datetime64[ns]\n",
      "dtypes: datetime64[ns](1), float64(1), int64(2), object(1)\n",
      "memory usage: 5.3+ MB\n",
      "None\n",
      "             id  user_id   call_date  duration  call.date\n",
      "44239   1160255     1160  2018-08-23     14.00 2018-08-23\n",
      "16516   1064374     1064  2018-07-01      7.22 2018-07-01\n",
      "100036  1358471     1358  2018-05-16      7.03 2018-05-16\n",
      "111355   139198     1391  2018-09-15     12.24 2018-09-15\n",
      "103146  1365342     1365  2018-07-25      0.01 2018-07-25\n",
      "57720    120956     1209  2018-11-02     10.51 2018-11-02\n",
      "137696  1499165     1499  2018-12-22      7.26 2018-12-22\n",
      "75344    126766     1267  2018-12-19      4.12 2018-12-19\n",
      "4287    1017268     1017  2018-12-05     12.79 2018-12-05\n",
      "33447   1126102     1126  2018-10-21      3.23 2018-10-21\n"
     ]
    }
   ],
   "source": [
    "internet['id']= internet['id'].str.replace('_','').astype(int)\n",
    "internet['session_date'] = pd.to_datetime(internet['session_date'], format = '%Y-%m-%d')\n",
    "# Comprobando los cambios\n",
    "print(calls.info())\n",
    "print(calls.sample(10))"
   ]
  },
  {
   "cell_type": "markdown",
   "metadata": {
    "id": "3UA2cqIW0q1E"
   },
   "source": [
    "## Estudiar las condiciones de las tarifas"
   ]
  },
  {
   "cell_type": "code",
   "execution_count": null,
   "metadata": {
    "id": "i409op8p0q1F"
   },
   "outputs": [
    {
     "name": "stdout",
     "output_type": "stream",
     "text": [
      "   messages_included  mb_per_month_included  minutes_included  \\\n",
      "0                 50                  15360               500   \n",
      "1               1000                  30720              3000   \n",
      "\n",
      "   usd_monthly_pay  usd_per_gb  usd_per_message  usd_per_minute plan_name  \n",
      "0               20          10             0.03            0.03      surf  \n",
      "1               70           7             0.01            0.01  ultimate  \n"
     ]
    }
   ],
   "source": [
    "# Visualizando las condiciones de la tarifa y asegúrate de que te quedan claras\n",
    "print(plans)\n"
   ]
  },
  {
   "cell_type": "markdown",
   "metadata": {
    "id": "hMR1tP5d0q1F"
   },
   "source": [
    "## Agregar datos por usuario\n"
   ]
  },
  {
   "cell_type": "code",
   "execution_count": null,
   "metadata": {
    "id": "A332cedB0q1G"
   },
   "outputs": [
    {
     "name": "stdout",
     "output_type": "stream",
     "text": [
      "      user_id  month  total_calls\n",
      "0        1000     12           16\n",
      "1        1001      8           27\n",
      "2        1001      9           49\n",
      "3        1001     10           65\n",
      "4        1001     11           64\n",
      "...       ...    ...          ...\n",
      "2253     1498     12           39\n",
      "2254     1499      9           41\n",
      "2255     1499     10           53\n",
      "2256     1499     11           45\n",
      "2257     1499     12           65\n",
      "\n",
      "[2258 rows x 3 columns]\n"
     ]
    }
   ],
   "source": [
    "# Calculando el número de llamadas hechas por cada usuario al mes. Guarda el resultado.\n",
    "\n",
    "calls['call_date'] = pd.to_datetime(calls['call_date'])\n",
    "# Extraemos el mes de la fecha\n",
    "calls['month'] = calls['call_date'].dt.month\n",
    "\n",
    "# Contamos el número de llamadas por usuario y mes\n",
    "calls_per_user_month = calls.groupby(['user_id', 'month'])['id'].count().reset_index()\n",
    "calls_per_user_month.rename(columns={'id': 'total_calls'}, inplace=True)\n",
    "print(calls_per_user_month)\n"
   ]
  },
  {
   "cell_type": "code",
   "execution_count": null,
   "metadata": {
    "id": "aw2cmuql0q1G"
   },
   "outputs": [
    {
     "name": "stdout",
     "output_type": "stream",
     "text": [
      "      user_id  month  minutes_used\n",
      "0        1000     12         124.0\n",
      "1        1001      8         182.0\n",
      "2        1001      9         315.0\n",
      "3        1001     10         393.0\n",
      "4        1001     11         426.0\n",
      "...       ...    ...           ...\n",
      "2253     1498     12         339.0\n",
      "2254     1499      9         346.0\n",
      "2255     1499     10         385.0\n",
      "2256     1499     11         308.0\n",
      "2257     1499     12         496.0\n",
      "\n",
      "[2258 rows x 3 columns]\n"
     ]
    }
   ],
   "source": [
    "# Calculando la cantidad de minutos usados por cada usuario al mes. Guarda el resultado.\n",
    "\n",
    "calls['call_date'] = pd.to_datetime(calls['call_date'])\n",
    "# Extraemos el mes de la fecha\n",
    "calls['month'] = calls['call_date'].dt.month\n",
    "\n",
    "# Como se cobra por minuto completo, redondeamos hacia arriba primero\n",
    "calls['duration'] = np.ceil(calls['duration'])\n",
    "\n",
    "minutes_per_user_month = calls.groupby(['user_id', 'month'])['duration'].sum().reset_index()\n",
    "minutes_per_user_month.rename(columns={'duration': 'minutes_used'}, inplace=True)\n",
    "print(minutes_per_user_month)"
   ]
  },
  {
   "cell_type": "code",
   "execution_count": null,
   "metadata": {
    "id": "CcQvNHn60q1G"
   },
   "outputs": [
    {
     "name": "stdout",
     "output_type": "stream",
     "text": [
      "      user_id  month  total_messages\n",
      "0        1000     12              11\n",
      "1        1001      8              30\n",
      "2        1001      9              44\n",
      "3        1001     10              53\n",
      "4        1001     11              36\n",
      "...       ...    ...             ...\n",
      "1801     1496      9              21\n",
      "1802     1496     10              18\n",
      "1803     1496     11              13\n",
      "1804     1496     12              11\n",
      "1805     1497     12              50\n",
      "\n",
      "[1806 rows x 3 columns]\n"
     ]
    }
   ],
   "source": [
    "# Calculando el número de mensajes enviados por cada usuario al mes. Guarda el resultado.\n",
    "messages['message_date'] = pd.to_datetime(messages['message_date'])\n",
    "messages['month'] = messages['message_date'].dt.month\n",
    "\n",
    "\n",
    "\n",
    "# Contamos el número de mensajes\n",
    "messages_per_user_month = messages.groupby(['user_id', 'month'])['id'].count().reset_index()\n",
    "messages_per_user_month.rename(columns={'id': 'total_messages'}, inplace=True)\n",
    "print(messages_per_user_month)"
   ]
  },
  {
   "cell_type": "code",
   "execution_count": null,
   "metadata": {
    "id": "H1AqN2eG0q1H"
   },
   "outputs": [
    {
     "name": "stdout",
     "output_type": "stream",
     "text": [
      "      user_id  month   mb_used\n",
      "0        1000   12.0   1901.47\n",
      "1        1001    8.0  12297.94\n",
      "2        1001    9.0  14970.79\n",
      "3        1001   10.0  16600.55\n",
      "4        1001   11.0  15388.82\n",
      "...       ...    ...       ...\n",
      "2510     1358    8.0    880.08\n",
      "2511     1358    9.0   6226.79\n",
      "2512     1358   10.0   6609.40\n",
      "2513     1358   11.0   2569.26\n",
      "2514     1358   12.0  17975.50\n",
      "\n",
      "[2515 rows x 3 columns]\n",
      "      user_id  month  gb_used\n",
      "0        1000   12.0      2.0\n",
      "1        1001    8.0     13.0\n",
      "2        1001    9.0     15.0\n",
      "3        1001   10.0     17.0\n",
      "4        1001   11.0     16.0\n",
      "...       ...    ...      ...\n",
      "2510     1358    8.0      1.0\n",
      "2511     1358    9.0      7.0\n",
      "2512     1358   10.0      7.0\n",
      "2513     1358   11.0      3.0\n",
      "2514     1358   12.0     18.0\n",
      "\n",
      "[2515 rows x 3 columns]\n"
     ]
    }
   ],
   "source": [
    "# Calculando el volumen del tráfico de Internet usado por cada usuario al mes. Guarda el resultado.\n",
    "internet['message_date'] = pd.to_datetime(messages['message_date'])\n",
    "internet['month'] = internet['message_date'].dt.month\n",
    "\n",
    "\n",
    "\n",
    "# Contamos el número de mensajes\n",
    "internet_per_user_month = internet.groupby(['user_id', 'month'])['mb_used'].sum().reset_index()\n",
    "print(internet_per_user_month)\n",
    "\n",
    "# Como esta en mb hay que pasarlo a gb\n",
    "internet_per_user_month['mb_used'] = np.ceil(internet_per_user_month['mb_used'] / 1024)\n",
    "# Renombramos la columna \n",
    "internet_per_user_month = internet_per_user_month.rename(columns={'mb_used': 'gb_used'})\n",
    "print(internet_per_user_month)"
   ]
  },
  {
   "cell_type": "code",
   "execution_count": null,
   "metadata": {
    "id": "FW99ykyf0q1H"
   },
   "outputs": [
    {
     "name": "stdout",
     "output_type": "stream",
     "text": [
      "      user_id  month  total_calls  minutes_used  total_messages  gb_used\n",
      "1642     1362      1           42         292.0            21.0      NaN\n",
      "155      1042      1           18         114.0             NaN      NaN\n",
      "991      1214      1            5          16.0             2.0      NaN\n",
      "360      1077      1           42         290.0            37.0      NaN\n",
      "913      1196      1           42         287.0            23.0      NaN\n"
     ]
    }
   ],
   "source": [
    "# Fusionando los datos de llamadas, minutos, mensajes e Internet con base en user_id y month\n",
    "\n",
    "usage_data = calls_per_user_month\n",
    "\n",
    "# Fusionando con los demás DataFrames \n",
    "usage_data = usage_data.merge(minutes_per_user_month, on=['user_id', 'month'], how='left')\n",
    "usage_data = usage_data.merge(messages_per_user_month, on=['user_id', 'month'], how='left')\n",
    "usage_data = usage_data.merge(internet_per_user_month, on=['user_id', 'month'], how='left')\n",
    "\n",
    "# Mostrando los primeros registros ordenados por month\n",
    "print(usage_data.sort_values(by='month').head())\n"
   ]
  },
  {
   "cell_type": "code",
   "execution_count": null,
   "metadata": {
    "id": "0dNOXHag0q1H"
   },
   "outputs": [
    {
     "name": "stdout",
     "output_type": "stream",
     "text": [
      "      user_id  month  total_calls  minutes_used  total_messages  gb_used  \\\n",
      "1642     1362      1           42         292.0            21.0      NaN   \n",
      "155      1042      1           18         114.0             NaN      NaN   \n",
      "991      1214      1            5          16.0             2.0      NaN   \n",
      "360      1077      1           42         290.0            37.0      NaN   \n",
      "913      1196      1           42         287.0            23.0      NaN   \n",
      "\n",
      "          plan  \n",
      "1642      surf  \n",
      "155       surf  \n",
      "991   ultimate  \n",
      "360   ultimate  \n",
      "913   ultimate  \n",
      "      user_id  month  total_calls  minutes_used  total_messages  gb_used  \\\n",
      "1642     1362      1           42         292.0            21.0      NaN   \n",
      "155      1042      1           18         114.0             NaN      NaN   \n",
      "991      1214      1            5          16.0             2.0      NaN   \n",
      "360      1077      1           42         290.0            37.0      NaN   \n",
      "913      1196      1           42         287.0            23.0      NaN   \n",
      "\n",
      "          plan  messages_included  mb_per_month_included  minutes_included  \\\n",
      "1642      surf                 50                  15360               500   \n",
      "155       surf                 50                  15360               500   \n",
      "991   ultimate               1000                  30720              3000   \n",
      "360   ultimate               1000                  30720              3000   \n",
      "913   ultimate               1000                  30720              3000   \n",
      "\n",
      "      usd_monthly_pay  usd_per_gb  usd_per_message  usd_per_minute plan_name  \n",
      "1642               20          10             0.03            0.03      surf  \n",
      "155                20          10             0.03            0.03      surf  \n",
      "991                70           7             0.01            0.01  ultimate  \n",
      "360                70           7             0.01            0.01  ultimate  \n",
      "913                70           7             0.01            0.01  ultimate  \n"
     ]
    }
   ],
   "source": [
    "# Añadiendo la información de la tarifa\n",
    "\n",
    "# Ahora unimos con la tabla users para obtener la tarifa de cada usuario\n",
    "usage_data = usage_data.merge(users[['user_id', 'plan']], on='user_id', how='left')\n",
    "\n",
    "print(usage_data.sort_values(by='month').head())\n",
    "\n",
    "# Finalmente, unimos con la tabla plans para añadir los detalles de la tarifa\n",
    "usage_data = usage_data.merge(plans, left_on='plan', right_on='plan_name', how='left')\n",
    "\n",
    "print(usage_data.sort_values(by='month').head())\n"
   ]
  },
  {
   "cell_type": "code",
   "execution_count": null,
   "metadata": {
    "id": "5FGCf_c60q1I",
    "scrolled": true
   },
   "outputs": [
    {
     "name": "stdout",
     "output_type": "stream",
     "text": [
      "      user_id  month  total_calls  minutes_used  total_messages  gb_used  \\\n",
      "1642     1362      1           42         292.0            21.0      NaN   \n",
      "155      1042      1           18         114.0             NaN      NaN   \n",
      "991      1214      1            5          16.0             2.0      NaN   \n",
      "360      1077      1           42         290.0            37.0      NaN   \n",
      "913      1196      1           42         287.0            23.0      NaN   \n",
      "861      1185      1           23         181.0             NaN      NaN   \n",
      "628      1138      2           42         307.0             7.0      NaN   \n",
      "1208     1261      2           14          56.0            11.0      4.0   \n",
      "1623     1359      2           39         266.0             NaN      NaN   \n",
      "156      1042      2           37         254.0             NaN      NaN   \n",
      "\n",
      "          plan  messages_included  mb_per_month_included  minutes_included  \\\n",
      "1642      surf                 50                  15360               500   \n",
      "155       surf                 50                  15360               500   \n",
      "991   ultimate               1000                  30720              3000   \n",
      "360   ultimate               1000                  30720              3000   \n",
      "913   ultimate               1000                  30720              3000   \n",
      "861   ultimate               1000                  30720              3000   \n",
      "628       surf                 50                  15360               500   \n",
      "1208      surf                 50                  15360               500   \n",
      "1623      surf                 50                  15360               500   \n",
      "156       surf                 50                  15360               500   \n",
      "\n",
      "      usd_monthly_pay  usd_per_gb  usd_per_message  usd_per_minute plan_name  \\\n",
      "1642               20          10             0.03            0.03      surf   \n",
      "155                20          10             0.03            0.03      surf   \n",
      "991                70           7             0.01            0.01  ultimate   \n",
      "360                70           7             0.01            0.01  ultimate   \n",
      "913                70           7             0.01            0.01  ultimate   \n",
      "861                70           7             0.01            0.01  ultimate   \n",
      "628                20          10             0.03            0.03      surf   \n",
      "1208               20          10             0.03            0.03      surf   \n",
      "1623               20          10             0.03            0.03      surf   \n",
      "156                20          10             0.03            0.03      surf   \n",
      "\n",
      "      monthly_income  \n",
      "1642            20.0  \n",
      "155             20.0  \n",
      "991             70.0  \n",
      "360             70.0  \n",
      "913             70.0  \n",
      "861             70.0  \n",
      "628             20.0  \n",
      "1208            20.0  \n",
      "1623            20.0  \n",
      "156             20.0  \n"
     ]
    }
   ],
   "source": [
    "# Calculando el ingreso mensual para cada usuario\n",
    "\n",
    "# usd_monthly_pay tiene el valor de la tarifa \n",
    "# Hay que restar total_calls, minutes_used, total_messages y mb_used a los [calls, messages, mb]_included y multiplicarlos por\n",
    "# usd_per_[calls,messages,mb] despues sumarlos, y sumarlo a la tarifa menual y agregarlos a una nueva columna \n",
    "\n",
    "income_minutes = np.where(usage_data['minutes_used'] > usage_data['minutes_included'],\n",
    "                          (usage_data['minutes_used'] - usage_data['minutes_included']) * usage_data['usd_per_minute'], 0)\n",
    "\n",
    "income_mb = np.where(usage_data['gb_used'] > (usage_data['mb_per_month_included']/1024),\n",
    "                     (usage_data['gb_used'] - (usage_data['mb_per_month_included']/1024)) * usage_data['usd_per_gb'], 0)\n",
    "\n",
    "income_messages = np.where(usage_data['total_messages'] > usage_data['messages_included'],\n",
    "                           (usage_data['total_messages'] - usage_data['messages_included']) * usage_data['usd_per_message'], 0)\n",
    "\n",
    "usage_data['monthly_income'] = usage_data['usd_monthly_pay'] + income_minutes + income_mb + income_messages\n",
    "print(usage_data.sort_values(by='month').head(10))\n",
    "\n"
   ]
  },
  {
   "cell_type": "markdown",
   "metadata": {},
   "source": [
    "Se modifico la forma de calcular el total de mb de acuerdo a la nueva columna gb_used"
   ]
  },
  {
   "cell_type": "markdown",
   "metadata": {
    "id": "-jtyHzJb0q1I"
   },
   "source": [
    "## Estudiando el comportamiento de usuario"
   ]
  },
  {
   "cell_type": "markdown",
   "metadata": {
    "id": "vtW4CJEe0q1J"
   },
   "source": [
    "### Llamadas"
   ]
  },
  {
   "cell_type": "code",
   "execution_count": null,
   "metadata": {
    "id": "Jf5v5--k0q1J"
   },
   "outputs": [
    {
     "name": "stdout",
     "output_type": "stream",
     "text": [
      "plan_name\n",
      "surf        436.519741\n",
      "ultimate    434.676017\n",
      "Name: minutes_used, dtype: float64\n"
     ]
    },
    {
     "data": {
      "image/png": "[encoded data removed]",
      "text/plain": [
       "<Figure size 640x480 with 1 Axes>"
      ]
     },
     "metadata": {},
     "output_type": "display_data"
    },
    {
     "name": "stdout",
     "output_type": "stream",
     "text": [
      "month\n",
      "1     196.666667\n",
      "2     366.333333\n",
      "3     321.171429\n",
      "4     347.197183\n",
      "5     409.125000\n",
      "6     420.361702\n",
      "7     444.944134\n",
      "8     418.956522\n",
      "9     425.942238\n",
      "10    443.988131\n",
      "11    437.570720\n",
      "12    478.269565\n",
      "Name: minutes_used, dtype: float64\n"
     ]
    },
    {
     "data": {
      "image/png": "[encoded data removed]",
      "text/plain": [
       "<Figure size 640x480 with 1 Axes>"
      ]
     },
     "metadata": {},
     "output_type": "display_data"
    }
   ],
   "source": [
    "# Comparando la duración promedio de llamadas por cada plan y por cada mes. Traza un gráfico de barras para visualizarla.\n",
    "\n",
    "# Duracion promedio por cada plan\n",
    "average_plan = usage_data.groupby('plan_name')['minutes_used'].mean()\n",
    "print(average_plan)\n",
    "\n",
    "average_plan.plot(title='Duración Promedio de Llamadas por Plan', \n",
    "                  xlabel='Plan', \n",
    "                  ylabel='Minutos Promedio', \n",
    "                  kind='bar')\n",
    "plt.show()\n",
    "\n",
    "# Duracion promedio por cada mes\n",
    "average_month = usage_data.groupby('month')['minutes_used'].mean()\n",
    "print(average_month)\n",
    "\n",
    "average_month.plot(title='Duración Promedio de Llamadas por Mes', \n",
    "                   xlabel='Mes', \n",
    "                   ylabel='Minutos Promedio', \n",
    "                   kind='bar')\n",
    "plt.show()"
   ]
  },
  {
   "cell_type": "markdown",
   "metadata": {},
   "source": [
    "Después de analizar el comportamiento de los clientes en relación con los planes Surf y Ultimate, se pueden decir que:\n",
    "\n",
    "- Los usuarios de los planes Surf y Ultimate tienen una duración promedio de llamadas similar, con valores cercanos a 410-412 minutos por mes.\n",
    "- A lo largo del año, la duración promedio de llamadas aumenta constantemente, alcanzando su punto máximo en diciembre."
   ]
  },
  {
   "cell_type": "code",
   "execution_count": null,
   "metadata": {
    "id": "QoLqW1S_0q1J"
   },
   "outputs": [
    {
     "name": "stdout",
     "output_type": "stream",
     "text": [
      "    month  minutes_used\n",
      "0       1         406.0\n",
      "1       2        2673.0\n",
      "2       3        7590.0\n",
      "3       4       17577.0\n",
      "4       5       30768.0\n",
      "5       6       41836.0\n",
      "6       7       54448.0\n",
      "7       8       66438.0\n",
      "8       9       80360.0\n",
      "9      10      101846.0\n",
      "10     11      119801.0\n",
      "11     12      150680.0\n",
      "    month  minutes_used\n",
      "0       1         774.0\n",
      "1       2        2822.0\n",
      "2       3        3651.0\n",
      "3       4        7074.0\n",
      "4       5       11781.0\n",
      "5       6       17435.0\n",
      "6       7       25197.0\n",
      "7       8       29922.0\n",
      "8       9       37626.0\n",
      "9      10       47778.0\n",
      "10     11       56540.0\n",
      "11     12       69324.0\n"
     ]
    },
    {
     "data": {
      "image/png": "[encoded data removed]",
      "text/plain": [
       "<Figure size 1000x500 with 1 Axes>"
      ]
     },
     "metadata": {},
     "output_type": "display_data"
    }
   ],
   "source": [
    "# Comparando el número de minutos mensuales que necesitan los usuarios de cada plan. Traza un histograma.\n",
    "\n",
    "# plan surf\n",
    "df_surf = usage_data[usage_data['plan'] == 'surf']  # Filtrar solo el plan \"surf\"\n",
    "df_grouped = df_surf.groupby(['month'])['minutes_used'].sum().reset_index()\n",
    "print(df_grouped)\n",
    "\n",
    "\n",
    "# plan ultimate\n",
    "df_ultimate = usage_data[usage_data['plan'] == 'ultimate']  # Filtrar solo el plan \"surf\"\n",
    "df_grouped = df_ultimate.groupby(['month'])['minutes_used'].sum().reset_index()\n",
    "print(df_grouped)\n",
    "\n",
    "\n",
    "plt.figure(figsize=(10, 5))\n",
    "\n",
    "plt.hist(df_surf['minutes_used'], bins=20, alpha=0.5, label='Surf', color='blue')\n",
    "plt.hist(df_ultimate['minutes_used'], bins=20, alpha=0.5, label='Ultimate', color='orange')\n",
    "\n",
    "plt.xlabel('Minutos Usados')\n",
    "plt.ylabel('Frecuencia')\n",
    "plt.title('Distribución de Minutos Usados por Plan')\n",
    "plt.legend()\n",
    "plt.show()"
   ]
  },
  {
   "cell_type": "markdown",
   "metadata": {},
   "source": [
    "- Los usuarios del plan Surf tienen una mayor variabilidad en la cantidad de minutos usados, con un número significativo de clientes que superan el límite del plan.\n",
    "- Los usuarios del plan Ultimate tienden a usar más minutos en promedio, pero tienen menos variabilidad debido a la cantidad generosa de minutos incluidos."
   ]
  },
  {
   "cell_type": "code",
   "execution_count": null,
   "metadata": {
    "id": "oSndbAnt0q1K"
   },
   "outputs": [
    {
     "name": "stdout",
     "output_type": "stream",
     "text": [
      "Media\n",
      " month               6.500000\n",
      "minutes_used    82028.916667\n",
      "dtype: float64\n",
      "Varianza\n",
      " month           1.300000e+01\n",
      "minutes_used    5.161699e+09\n",
      "dtype: float64\n"
     ]
    }
   ],
   "source": [
    "# Calculando la media y la varianza de la duración mensual de llamadas.\n",
    "\n",
    "# Calculando la media y la varianza de la duración mensual de llamadas\n",
    "monthly_call_duration = usage_data.groupby('month')['minutes_used'].sum().reset_index()\n",
    "\n",
    "\n",
    "# Media\n",
    "mean_duration = monthly_call_duration.mean()\n",
    "print(\"Media\\n {}\".format(mean_duration))\n",
    "\n",
    "# Varianza\n",
    "variance_duration = monthly_call_duration.var()\n",
    "print(\"Varianza\\n {}\".format(variance_duration))\n"
   ]
  },
  {
   "cell_type": "code",
   "execution_count": null,
   "metadata": {
    "id": "nZzoRUKc0q1K"
   },
   "outputs": [
    {
     "data": {
      "image/png": "[encoded data removed]",
      "text/plain": [
       "<Figure size 800x500 with 1 Axes>"
      ]
     },
     "metadata": {},
     "output_type": "display_data"
    }
   ],
   "source": [
    "# Trazando un diagrama de caja para visualizar la distribución de la duración mensual de llamadas\n",
    "\n",
    "plt.figure(figsize=(8, 5))\n",
    "plt.boxplot(usage_data[usage_data['month'] == 1]['minutes_used'])  # Filtra solo enero\n",
    "plt.title(\"Diagrama de Caja - Duración Mensual de Llamadas (Enero)\")\n",
    "plt.ylabel(\"Minutos Usados\")\n",
    "plt.xlabel('Mes') \n",
    "plt.show()\n"
   ]
  },
  {
   "cell_type": "markdown",
   "metadata": {
    "id": "r627zBO50q1K"
   },
   "source": [
    "El comportamiento de los usuarios varía en función del plan: Aquellos con el plan Surf parecen más propensos a limitar su uso o pagar cargos adicionales por excedente, mientras que los de Ultimate tienen un uso más constante y elevado."
   ]
  },
  {
   "cell_type": "markdown",
   "metadata": {
    "id": "8idKy8Wh0q1L"
   },
   "source": [
    "### Mensajes"
   ]
  },
  {
   "cell_type": "code",
   "execution_count": 37,
   "metadata": {},
   "outputs": [
    {
     "data": {
      "image/png": "[encoded data removed]",
      "text/plain": [
       "<Figure size 640x480 with 1 Axes>"
      ]
     },
     "metadata": {},
     "output_type": "display_data"
    }
   ],
   "source": [
    "\n",
    "\n",
    "# Filtrar y agrupar datos\n",
    "df_surf = usage_data[usage_data['plan'] == 'surf'].groupby('month')['total_messages'].sum()\n",
    "df_ultimate = usage_data[usage_data['plan'] == 'ultimate'].groupby('month')['total_messages'].sum()\n",
    "\n",
    "# Graficar ambos en el mismo gráfico\n",
    "df_surf.plot(kind='bar', label='Plan Surf', color='blue', alpha=0.7)\n",
    "df_ultimate.plot(kind='bar', label='Plan Ultimate', color='orange', alpha=0.7)\n",
    "\n",
    "# Personalizar gráfico\n",
    "plt.xlabel('Mes')\n",
    "plt.ylabel('Número de Mensajes')\n",
    "plt.title('Mensajes enviados por mes según el plan')\n",
    "plt.legend()\n",
    "\n",
    "plt.show()\n"
   ]
  },
  {
   "cell_type": "markdown",
   "metadata": {},
   "source": [
    "- Los usuarios del plan Ultimate envían más mensajes en promedio, especialmente en la segunda mitad del año.\n",
    "- Los usuarios de Surf envían menos mensajes, lo que sugiere que este servicio no es tan crucial para ellos."
   ]
  },
  {
   "cell_type": "code",
   "execution_count": null,
   "metadata": {
    "id": "GRI_R7xF0q1L"
   },
   "outputs": [
    {
     "data": {
      "image/png": "[encoded data removed]",
      "text/plain": [
       "<Figure size 800x600 with 1 Axes>"
      ]
     },
     "metadata": {},
     "output_type": "display_data"
    }
   ],
   "source": [
    "\n",
    "# Comparando la cantidad de tráfico de Internet consumido por usuarios por plan\n",
    "# Agrupar el consumo total de datos por plan\n",
    "internet_usage = usage_data.groupby('plan')['gb_used'].sum().reset_index()\n",
    "\n",
    "# Crear el gráfico de barras con matplotlib\n",
    "plt.figure(figsize=(8, 6))\n",
    "plt.bar(internet_usage['plan'], internet_usage['gb_used'], color=['blue', 'green'])\n",
    "\n",
    "# Etiquetas y título\n",
    "plt.xlabel('Plan')\n",
    "plt.ylabel('GB Usados (Total)')\n",
    "plt.title('Consumo total de Internet por plan')\n",
    "plt.show()"
   ]
  },
  {
   "cell_type": "markdown",
   "metadata": {
    "id": "dtFwCGAp0q1M"
   },
   "source": [
    "- Los usuarios del plan Ultimate envían más mensajes en promedio que los de Surf\n",
    "- El número de mensajes enviados aumenta a lo largo del año, con un mayor incremento en la segunda mitad del año.\n",
    "- Los usuarios del plan Surf envían significativamente menos mensajes en comparación con Ultimate\n",
    "- La diferencia en la cantidad de mensajes enviados sugiere que el plan Surf es elegido por usuarios que no dependen tanto de los SMS, mientras que los usuarios de Ultimate aprovechan más esta característica."
   ]
  },
  {
   "cell_type": "markdown",
   "metadata": {
    "id": "42YSypXz0q1M"
   },
   "source": [
    "### Internet"
   ]
  },
  {
   "cell_type": "code",
   "execution_count": 39,
   "metadata": {
    "id": "lSuKPtjh0q1M"
   },
   "outputs": [
    {
     "data": {
      "image/png": "[encoded data removed]",
      "text/plain": [
       "<Figure size 640x480 with 1 Axes>"
      ]
     },
     "metadata": {},
     "output_type": "display_data"
    }
   ],
   "source": [
    "\n",
    "# Filtrar y agrupar datos\n",
    "df_surf = usage_data[usage_data['plan'] == 'surf'].groupby('month')['gb_used'].sum()\n",
    "df_ultimate = usage_data[usage_data['plan'] == 'ultimate'].groupby('month')['gb_used'].sum()\n",
    "\n",
    "# Graficar ambos en el mismo gráfico\n",
    "df_surf.plot(kind='bar', label='Plan Surf', color='blue', alpha=0.7)\n",
    "df_ultimate.plot(kind='bar', label='Plan Ultimate', color='orange', alpha=0.7)\n",
    "\n",
    "# Personalizar gráfico\n",
    "plt.xlabel('Mes')\n",
    "plt.ylabel('Cantidad de GB')\n",
    "plt.title('GB por mes según el plan')\n",
    "plt.legend()\n",
    "\n",
    "plt.show()\n",
    "\n"
   ]
  },
  {
   "cell_type": "markdown",
   "metadata": {
    "id": "wnh8jYXi0q1N"
   },
   "source": [
    "- Los usuarios del plan Ultimate consumen más datos en comparación con Surf.\n",
    "- A lo largo del año, el tráfico de Internet aumenta en ambos planes, pero Surf tiene un crecimiento más pronunciado."
   ]
  },
  {
   "cell_type": "markdown",
   "metadata": {
    "id": "tCijq3260q1N"
   },
   "source": [
    "## Ingreso"
   ]
  },
  {
   "cell_type": "code",
   "execution_count": 40,
   "metadata": {
    "id": "tz-dq_V00q1O"
   },
   "outputs": [
    {
     "data": {
      "image/png": "[encoded data removed]",
      "text/plain": [
       "<Figure size 640x480 with 1 Axes>"
      ]
     },
     "metadata": {},
     "output_type": "display_data"
    }
   ],
   "source": [
    "\n",
    "\n",
    "# Filtrar y agrupar datos\n",
    "df_surf = usage_data[usage_data['plan'] == 'surf'].groupby('month')['monthly_income'].sum()\n",
    "df_ultimate = usage_data[usage_data['plan'] == 'ultimate'].groupby('month')['monthly_income'].sum()\n",
    "\n",
    "# Graficar ambos en el mismo gráfico\n",
    "df_surf.plot(kind='bar', label='Plan Surf', color='blue', alpha=0.7)\n",
    "df_ultimate.plot(kind='bar', label='Plan Ultimate', color='orange', alpha=0.7)\n",
    "\n",
    "# Personalizar gráfico\n",
    "plt.xlabel('Mes')\n",
    "plt.ylabel('Ingreso')\n",
    "plt.title('Imgreso por mes según el plan')\n",
    "plt.legend()\n",
    "\n",
    "plt.show()\n",
    "\n"
   ]
  },
  {
   "cell_type": "markdown",
   "metadata": {
    "id": "bYmwxyVh0q1P"
   },
   "source": [
    "- Ultimate genera más ingresos en total, pero la diferencia con Surf se reduce a finales del año.\n",
    "- A medida que avanza el año, los ingresos de Surf aumentan más rápidamente, lo que indica un mayor pago por excedentes."
   ]
  },
  {
   "cell_type": "markdown",
   "metadata": {
    "id": "ajJ7VKeI0q1Q"
   },
   "source": [
    "## Prueba las hipótesis estadísticas\n",
    "- El ingreso promedio de los usuarios de las tarifas Ultimate y Surf difiere.\n",
    "- El ingreso promedio de los usuarios en el área de estados Nueva York-Nueva Jersey es diferente al de los usuarios de otras regiones."
   ]
  },
  {
   "cell_type": "code",
   "execution_count": null,
   "metadata": {
    "id": "nFoPNlPq0q1R"
   },
   "outputs": [
    {
     "name": "stdout",
     "output_type": "stream",
     "text": [
      "Estadístico t: -8.5105\n",
      "Valor p: 0.0000\n",
      "Rechazamos la hipótesis nula: Los ingresos son significativamente diferentes.\n"
     ]
    }
   ],
   "source": [
    "# Probando las hipótesis\n",
    "\n",
    "# Extrayendo ingresos mensuales por usuario para cada plan\n",
    "income_surf = usage_data[usage_data['plan'] == 'surf']['monthly_income']\n",
    "income_ultimate = usage_data[usage_data['plan'] == 'ultimate']['monthly_income']\n",
    "\n",
    "# Prueba t de Student\n",
    "t_stat, p_value = stats.ttest_ind(income_surf, income_ultimate, equal_var=False)\n",
    "\n",
    "print(f'Estadístico t: {t_stat:.4f}')\n",
    "print(f'Valor p: {p_value:.4f}')\n",
    "\n",
    "# Nivel de significancia\n",
    "alpha = 0.05\n",
    "if p_value < alpha:\n",
    "    print(\"Rechazamos la hipótesis nula: Los ingresos son significativamente diferentes.\")\n",
    "else:\n",
    "    print(\"No podemos rechazar la hipótesis nula: No hay diferencia significativa en los ingresos.\")"
   ]
  },
  {
   "cell_type": "code",
   "execution_count": 42,
   "metadata": {
    "id": "Cqcj7wrZ0q1S",
    "scrolled": true
   },
   "outputs": [
    {
     "name": "stdout",
     "output_type": "stream",
     "text": [
      "Estadístico t: -1.7330\n",
      "Valor p: 0.0836\n",
      "No podemos rechazar la hipótesis nula: No hay diferencia significativa en los ingresos.\n"
     ]
    }
   ],
   "source": [
    "\n",
    "# Prueba las hipótesis\n",
    "\n",
    "# Extraer la región de la columna 'city' en users\n",
    "users['region'] = users['city'].str.split(',').str[-1].str.strip()\n",
    "\n",
    "# Unir users con usage_data usando la clave en común (por ejemplo, 'user_id')\n",
    "usage_data = usage_data.merge(users[['user_id', 'region']], on='user_id', how='left')\n",
    "\n",
    "\n",
    "\n",
    "# Filtrar ingresos correctamente dentro de usage_data\n",
    "income_ny_nj = usage_data[usage_data['region'] == 'NY-NJ-PA MSA']['monthly_income']\n",
    "income_other = usage_data[usage_data['region'] != 'NY-NJ-PA MSA']['monthly_income']\n",
    "\n",
    "# Prueba de hipótesis\n",
    "\n",
    "t_stat, p_value = stats.ttest_ind(income_ny_nj, income_other, equal_var=False)\n",
    "\n",
    "print(f'Estadístico t: {t_stat:.4f}')\n",
    "print(f'Valor p: {p_value:.4f}')\n",
    "\n",
    "alpha = 0.05\n",
    "if p_value < alpha:\n",
    "    print(\"Rechazamos la hipótesis nula: Los ingresos en NY-NJ-PA son significativamente diferentes de los de otras regiones.\")\n",
    "else:\n",
    "    print(\"No podemos rechazar la hipótesis nula: No hay diferencia significativa en los ingresos.\")\n"
   ]
  },
  {
   "cell_type": "markdown",
   "metadata": {
    "id": "bbTR8UQO0q1T"
   },
   "source": [
    "## Conclusión general\n",
    "\n",
    "[En esta sección final, enumera tus conclusiones importantes. Asegúrate de que estas abarquen todas las decisiones (suposiciones) importantes que adoptaste y que determinaron la forma elegida para procesar y analizar los datos.]"
   ]
  },
  {
   "cell_type": "markdown",
   "metadata": {},
   "source": [
    "\n",
    "\n",
    "- Se observó una gran variabilidad en el consumo de llamadas y datos, mientras que el uso de mensajes fue más estable.\n",
    "- La mayoría de los usuarios del plan Surf tienden a consumir sus recursos hasta el límite, lo que genera ingresos adicionales para la empresa.\n",
    "- Los usuarios de Ultimate presentan un uso más predecible, con un consumo relativamente alto de llamadas y datos.\n",
    "- Los usuarios de Surf son más propensos a pagar cargos adicionales por excedentes, lo que lo convierte en un plan altamente rentable.\n",
    "- Los usuarios de Ultimate tienen un consumo más estable, lo que indica que el plan cubre sus necesidades sin necesidad de costos extra.\n",
    "Se consideró la posibilidad de que algunos usuarios optaran por limitar su uso de servicios para evitar sobrecostos, lo que sugiere que las tarifas pueden influir en su comportamiento.\n",
    "Decisiones metodológicas y supuestos clave:\n",
    "\n",
    "Se utilizó el análisis exploratorio de datos (EDA) para identificar patrones y anomalías en el uso de servicios.\n",
    "Se asumió que las tendencias observadas en un mes son representativas del comportamiento anual de los usuarios, aunque se reconocen posibles variaciones estacionales.\n",
    "Se decidió emplear diagramas de caja para visualizar la distribución de uso y detectar posibles valores atípicos en llamadas y datos.\n",
    "Se compararon los ingresos de cada plan, considerando tanto las tarifas base como los costos adicionales por excedentes.\n",
    "Recomendaciones estratégicas para Megaline:\n",
    "\n",
    "Optimización de planes: Se sugiere analizar si los límites de Surf pueden ajustarse para mejorar la retención de clientes sin afectar la rentabilidad.\n",
    "Segmentación de usuarios: Una estrategia de marketing diferenciada podría incentivar a ciertos clientes a migrar a Ultimate si su consumo justifica un plan más caro.\n",
    "Promociones y descuentos: Implementar descuentos en mensajes o datos adicionales podría incentivar el consumo y fidelizar a los clientes.\n",
    "Monitoreo continuo: Se recomienda seguir analizando los datos periódicamente para detectar cambios en los patrones de consumo y ajustar las estrategias comerciales en consecuencia"
   ]
  }
 ],
 "metadata": {
  "ExecuteTimeLog": [
   {
    "duration": 828,
    "start_time": "2021-11-16T09:21:11.304Z"
   },
   {
    "duration": 893,
    "start_time": "2021-11-16T09:21:17.728Z"
   },
   {
    "duration": 1150,
    "start_time": "2021-11-16T09:21:29.568Z"
   },
   {
    "duration": 3,
    "start_time": "2021-11-16T09:24:14.495Z"
   },
   {
    "duration": 120,
    "start_time": "2021-11-16T09:24:46.630Z"
   },
   {
    "duration": 3,
    "start_time": "2021-11-16T09:28:27.882Z"
   },
   {
    "duration": 4,
    "start_time": "2021-11-16T09:29:54.281Z"
   },
   {
    "duration": 3,
    "start_time": "2021-11-16T09:30:45.936Z"
   },
   {
    "duration": 4,
    "start_time": "2021-11-16T09:31:06.300Z"
   },
   {
    "duration": 113,
    "start_time": "2021-11-16T09:31:37.208Z"
   },
   {
    "duration": 143,
    "start_time": "2021-11-16T09:31:48.656Z"
   },
   {
    "duration": 98,
    "start_time": "2021-11-16T09:31:55.678Z"
   },
   {
    "duration": 3,
    "start_time": "2021-11-16T09:32:08.535Z"
   },
   {
    "duration": 111,
    "start_time": "2021-11-16T09:32:10.120Z"
   },
   {
    "duration": 3,
    "start_time": "2021-11-16T09:32:15.732Z"
   },
   {
    "duration": 4,
    "start_time": "2021-11-16T09:32:29.423Z"
   },
   {
    "duration": 3,
    "start_time": "2021-11-16T10:03:03.074Z"
   },
   {
    "duration": 3,
    "start_time": "2021-11-16T10:10:01.288Z"
   },
   {
    "duration": 3,
    "start_time": "2021-11-16T10:10:46.923Z"
   },
   {
    "duration": 121,
    "start_time": "2021-11-16T10:37:46.494Z"
   },
   {
    "duration": 125,
    "start_time": "2021-11-16T10:38:20.632Z"
   },
   {
    "duration": 112,
    "start_time": "2021-11-16T10:46:53.001Z"
   },
   {
    "duration": 110,
    "start_time": "2021-11-16T10:48:25.775Z"
   },
   {
    "duration": 3,
    "start_time": "2021-11-16T10:50:18.720Z"
   },
   {
    "duration": 4,
    "start_time": "2021-11-16T10:50:37.649Z"
   },
   {
    "duration": 2,
    "start_time": "2021-11-16T10:50:51.884Z"
   },
   {
    "duration": 3,
    "start_time": "2021-11-16T10:51:56.237Z"
   },
   {
    "duration": 101,
    "start_time": "2021-11-16T10:53:13.791Z"
   },
   {
    "duration": 3,
    "start_time": "2021-11-16T10:55:59.186Z"
   },
   {
    "duration": 3,
    "start_time": "2021-11-16T10:56:10.751Z"
   },
   {
    "duration": 3,
    "start_time": "2021-11-16T10:56:49.038Z"
   },
   {
    "duration": 3,
    "start_time": "2021-11-16T10:56:49.174Z"
   },
   {
    "duration": 4,
    "start_time": "2021-11-16T10:56:49.414Z"
   },
   {
    "duration": 3,
    "start_time": "2021-11-16T10:56:49.680Z"
   },
   {
    "duration": 3,
    "start_time": "2021-11-16T10:56:50.370Z"
   },
   {
    "duration": 114,
    "start_time": "2021-11-16T10:59:34.518Z"
   },
   {
    "duration": 3,
    "start_time": "2021-11-16T11:01:41.201Z"
   },
   {
    "duration": 116,
    "start_time": "2021-11-16T11:01:48.754Z"
   },
   {
    "duration": 3,
    "start_time": "2021-11-16T11:02:16.685Z"
   },
   {
    "duration": 3,
    "start_time": "2021-11-16T11:02:19.479Z"
   },
   {
    "duration": 3,
    "start_time": "2021-11-16T11:02:47.067Z"
   },
   {
    "duration": 3,
    "start_time": "2021-11-16T11:02:49.353Z"
   },
   {
    "duration": 3,
    "start_time": "2021-11-16T11:03:07.835Z"
   },
   {
    "duration": 3,
    "start_time": "2021-11-16T11:03:07.953Z"
   },
   {
    "duration": 112,
    "start_time": "2021-11-16T11:07:52.072Z"
   },
   {
    "duration": 187,
    "start_time": "2021-11-16T11:09:23.468Z"
   },
   {
    "duration": 4,
    "start_time": "2021-11-16T11:10:01.455Z"
   },
   {
    "duration": 3,
    "start_time": "2021-11-16T11:10:05.069Z"
   },
   {
    "duration": 4,
    "start_time": "2021-11-16T11:10:13.376Z"
   },
   {
    "duration": 3,
    "start_time": "2021-11-16T11:10:14.434Z"
   },
   {
    "duration": 3,
    "start_time": "2021-11-16T11:10:22.853Z"
   },
   {
    "duration": 4,
    "start_time": "2021-11-16T11:27:29.279Z"
   },
   {
    "duration": 4,
    "start_time": "2021-11-16T11:29:08.919Z"
   },
   {
    "duration": 118,
    "start_time": "2021-11-16T11:29:46.703Z"
   },
   {
    "duration": 437,
    "start_time": "2021-11-16T11:36:02.181Z"
   },
   {
    "duration": 157,
    "start_time": "2021-11-16T11:36:14.388Z"
   },
   {
    "duration": 207,
    "start_time": "2021-11-16T11:47:15.898Z"
   },
   {
    "duration": 3,
    "start_time": "2021-11-16T11:53:52.092Z"
   },
   {
    "duration": 3,
    "start_time": "2021-11-16T11:53:52.236Z"
   },
   {
    "duration": 3,
    "start_time": "2021-11-16T11:59:12.005Z"
   },
   {
    "duration": 112,
    "start_time": "2021-11-16T12:00:33.446Z"
   },
   {
    "duration": 3,
    "start_time": "2021-11-16T12:02:14.453Z"
   },
   {
    "duration": 3,
    "start_time": "2021-11-16T12:02:39.512Z"
   },
   {
    "duration": 106,
    "start_time": "2021-11-16T12:03:03.460Z"
   },
   {
    "duration": 3,
    "start_time": "2021-11-17T20:37:21.139Z"
   },
   {
    "duration": 3,
    "start_time": "2021-11-17T20:37:22.229Z"
   },
   {
    "duration": 3,
    "start_time": "2021-11-17T20:38:38.806Z"
   },
   {
    "duration": 3,
    "start_time": "2021-11-17T20:38:41.958Z"
   },
   {
    "duration": 3,
    "start_time": "2021-11-17T20:43:46.551Z"
   },
   {
    "duration": 4,
    "start_time": "2021-11-17T20:58:21.835Z"
   },
   {
    "duration": 3,
    "start_time": "2021-11-17T20:59:21.872Z"
   },
   {
    "duration": 4,
    "start_time": "2021-11-17T20:59:45.352Z"
   },
   {
    "duration": 4,
    "start_time": "2021-11-17T20:59:49.646Z"
   },
   {
    "duration": 159,
    "start_time": "2021-11-17T21:02:26.949Z"
   },
   {
    "duration": 3,
    "start_time": "2021-11-17T21:03:53.461Z"
   },
   {
    "duration": 3,
    "start_time": "2021-11-17T21:03:53.694Z"
   },
   {
    "duration": 3,
    "start_time": "2021-11-17T21:05:28.145Z"
   },
   {
    "duration": 116,
    "start_time": "2021-11-17T21:05:57.787Z"
   },
   {
    "duration": 3,
    "start_time": "2021-11-17T21:06:37.993Z"
   },
   {
    "duration": 3,
    "start_time": "2021-11-17T21:06:38.261Z"
   },
   {
    "duration": 3,
    "start_time": "2021-11-17T21:11:54.358Z"
   },
   {
    "duration": 3,
    "start_time": "2021-11-17T21:12:43.846Z"
   },
   {
    "duration": 4,
    "start_time": "2021-11-17T21:13:08.773Z"
   },
   {
    "duration": 3,
    "start_time": "2021-11-17T21:14:44.441Z"
   },
   {
    "duration": 3,
    "start_time": "2021-11-17T21:15:42.059Z"
   },
   {
    "duration": 4,
    "start_time": "2021-11-17T21:15:51.995Z"
   },
   {
    "duration": 3,
    "start_time": "2021-11-17T21:15:53.923Z"
   },
   {
    "duration": 3,
    "start_time": "2021-11-17T21:15:55.282Z"
   },
   {
    "duration": 3,
    "start_time": "2021-11-17T21:16:28.492Z"
   },
   {
    "duration": 3,
    "start_time": "2021-11-17T21:16:32.603Z"
   },
   {
    "duration": 3,
    "start_time": "2021-11-17T21:17:06.941Z"
   },
   {
    "duration": 98,
    "start_time": "2021-11-17T21:18:05.733Z"
   },
   {
    "duration": 4,
    "start_time": "2021-11-17T21:21:35.255Z"
   },
   {
    "duration": 3,
    "start_time": "2021-11-17T21:21:37.804Z"
   },
   {
    "duration": 4,
    "start_time": "2021-11-17T21:23:06.071Z"
   },
   {
    "duration": 3,
    "start_time": "2021-11-17T21:23:24.799Z"
   },
   {
    "duration": 3,
    "start_time": "2021-11-17T21:23:32.591Z"
   },
   {
    "duration": 98,
    "start_time": "2021-11-17T21:28:31.559Z"
   },
   {
    "duration": 3,
    "start_time": "2021-11-17T21:28:45.448Z"
   },
   {
    "duration": 3,
    "start_time": "2021-11-17T21:29:17.303Z"
   },
   {
    "duration": 3,
    "start_time": "2021-11-17T21:29:29.617Z"
   },
   {
    "duration": 3,
    "start_time": "2021-11-17T21:29:32.681Z"
   },
   {
    "duration": 3,
    "start_time": "2021-11-17T21:36:11.474Z"
   },
   {
    "duration": 3,
    "start_time": "2021-11-17T21:36:14.791Z"
   },
   {
    "duration": 3,
    "start_time": "2021-11-17T21:36:53.943Z"
   },
   {
    "duration": 3,
    "start_time": "2021-11-17T21:36:56.165Z"
   },
   {
    "duration": 4,
    "start_time": "2021-11-17T21:37:16.590Z"
   },
   {
    "duration": 3,
    "start_time": "2021-11-17T21:37:22.702Z"
   },
   {
    "duration": 4,
    "start_time": "2021-11-17T21:38:03.479Z"
   },
   {
    "duration": 3,
    "start_time": "2021-11-17T21:38:08.601Z"
   },
   {
    "duration": 3,
    "start_time": "2021-11-17T21:38:12.928Z"
   },
   {
    "duration": 3,
    "start_time": "2021-11-17T21:38:48.896Z"
   },
   {
    "duration": 2,
    "start_time": "2021-11-17T21:38:49.171Z"
   },
   {
    "duration": 4,
    "start_time": "2021-11-17T21:39:57.889Z"
   },
   {
    "duration": 3,
    "start_time": "2021-11-17T21:39:58.057Z"
   },
   {
    "duration": 3,
    "start_time": "2021-11-17T21:41:20.108Z"
   },
   {
    "duration": 3,
    "start_time": "2021-11-17T21:41:20.629Z"
   },
   {
    "duration": 3,
    "start_time": "2021-11-17T21:42:49.136Z"
   },
   {
    "duration": 3,
    "start_time": "2021-11-17T21:43:15.137Z"
   },
   {
    "duration": 4,
    "start_time": "2021-11-17T21:43:16.766Z"
   },
   {
    "duration": 4,
    "start_time": "2021-11-17T21:43:31.711Z"
   },
   {
    "duration": 3,
    "start_time": "2021-11-17T21:43:36.312Z"
   },
   {
    "duration": 4,
    "start_time": "2021-11-17T21:45:08.825Z"
   },
   {
    "duration": 4,
    "start_time": "2021-11-17T21:45:10.119Z"
   },
   {
    "duration": 4,
    "start_time": "2021-11-17T21:45:13.748Z"
   },
   {
    "duration": 3,
    "start_time": "2021-11-17T21:45:22.219Z"
   },
   {
    "duration": 3,
    "start_time": "2021-11-17T21:45:33.412Z"
   },
   {
    "duration": 2,
    "start_time": "2021-11-17T21:46:01.885Z"
   },
   {
    "duration": 3,
    "start_time": "2021-11-17T21:46:03.628Z"
   },
   {
    "duration": 107,
    "start_time": "2021-11-17T21:47:32.512Z"
   },
   {
    "duration": 103,
    "start_time": "2021-11-17T21:50:36.243Z"
   },
   {
    "duration": 3,
    "start_time": "2021-11-18T06:28:31.440Z"
   },
   {
    "duration": 3,
    "start_time": "2021-11-18T06:29:00.168Z"
   },
   {
    "duration": 3,
    "start_time": "2021-11-18T06:31:27.008Z"
   },
   {
    "duration": 2,
    "start_time": "2021-11-18T06:35:34.288Z"
   },
   {
    "duration": 2,
    "start_time": "2021-11-18T06:38:04.527Z"
   },
   {
    "duration": 156,
    "start_time": "2025-01-31T06:23:49.257Z"
   },
   {
    "duration": 2090,
    "start_time": "2025-01-31T06:23:58.566Z"
   },
   {
    "duration": 251,
    "start_time": "2025-01-31T06:24:00.658Z"
   },
   {
    "duration": 16,
    "start_time": "2025-01-31T06:24:01.012Z"
   },
   {
    "duration": 171,
    "start_time": "2025-02-01T17:55:51.448Z"
   },
   {
    "duration": 2070,
    "start_time": "2025-02-01T17:55:57.684Z"
   },
   {
    "duration": 282,
    "start_time": "2025-02-01T17:55:59.756Z"
   },
   {
    "duration": 43,
    "start_time": "2025-02-01T17:56:00.830Z"
   },
   {
    "duration": 12,
    "start_time": "2025-02-01T17:56:14.692Z"
   },
   {
    "duration": 22,
    "start_time": "2025-02-01T17:56:25.783Z"
   },
   {
    "duration": 15,
    "start_time": "2025-02-01T17:59:04.045Z"
   },
   {
    "duration": 18,
    "start_time": "2025-02-01T17:59:43.982Z"
   },
   {
    "duration": 16,
    "start_time": "2025-02-01T18:00:26.366Z"
   },
   {
    "duration": 9,
    "start_time": "2025-02-01T18:01:27.572Z"
   },
   {
    "duration": 8,
    "start_time": "2025-02-01T18:01:28.263Z"
   },
   {
    "duration": 14,
    "start_time": "2025-02-01T18:15:02.440Z"
   },
   {
    "duration": 195,
    "start_time": "2025-02-01T18:15:33.761Z"
   },
   {
    "duration": 22,
    "start_time": "2025-02-01T18:15:43.614Z"
   },
   {
    "duration": 14,
    "start_time": "2025-02-01T18:15:54.393Z"
   },
   {
    "duration": 16,
    "start_time": "2025-02-01T18:16:00.758Z"
   },
   {
    "duration": 10,
    "start_time": "2025-02-01T18:16:01.497Z"
   },
   {
    "duration": 10,
    "start_time": "2025-02-01T18:16:08.379Z"
   },
   {
    "duration": 11,
    "start_time": "2025-02-01T18:16:09.383Z"
   },
   {
    "duration": 11,
    "start_time": "2025-02-01T18:16:15.547Z"
   },
   {
    "duration": 8,
    "start_time": "2025-02-01T18:16:22.548Z"
   },
   {
    "duration": 7,
    "start_time": "2025-02-01T18:16:45.288Z"
   },
   {
    "duration": 5,
    "start_time": "2025-02-01T18:16:59.065Z"
   },
   {
    "duration": 6,
    "start_time": "2025-02-01T18:56:05.611Z"
   },
   {
    "duration": 9,
    "start_time": "2025-02-01T18:56:09.790Z"
   },
   {
    "duration": 10,
    "start_time": "2025-02-09T05:42:45.086Z"
   },
   {
    "duration": 2203,
    "start_time": "2025-02-09T06:07:09.585Z"
   },
   {
    "duration": 242,
    "start_time": "2025-02-09T06:07:11.790Z"
   },
   {
    "duration": 17,
    "start_time": "2025-02-09T06:07:12.299Z"
   },
   {
    "duration": 15,
    "start_time": "2025-02-09T06:07:12.957Z"
   },
   {
    "duration": 16,
    "start_time": "2025-02-09T06:07:13.395Z"
   },
   {
    "duration": 9,
    "start_time": "2025-02-09T06:07:14.052Z"
   },
   {
    "duration": 8,
    "start_time": "2025-02-09T06:07:14.365Z"
   },
   {
    "duration": 9,
    "start_time": "2025-02-09T06:07:15.193Z"
   },
   {
    "duration": 6,
    "start_time": "2025-02-09T06:07:15.647Z"
   },
   {
    "duration": 8,
    "start_time": "2025-02-09T06:07:19.626Z"
   },
   {
    "duration": 5,
    "start_time": "2025-02-09T06:07:20.376Z"
   },
   {
    "duration": 335,
    "start_time": "2025-02-09T06:07:23.170Z"
   },
   {
    "duration": 14,
    "start_time": "2025-02-09T06:08:16.304Z"
   },
   {
    "duration": 405,
    "start_time": "2025-02-09T06:08:23.414Z"
   },
   {
    "duration": 40,
    "start_time": "2025-02-09T06:08:39.058Z"
   },
   {
    "duration": 6,
    "start_time": "2025-02-09T06:08:45.619Z"
   },
   {
    "duration": 8,
    "start_time": "2025-02-09T06:08:48.488Z"
   },
   {
    "duration": 7,
    "start_time": "2025-02-09T06:13:50.730Z"
   },
   {
    "duration": 6,
    "start_time": "2025-02-09T06:14:49.655Z"
   },
   {
    "duration": 13,
    "start_time": "2025-02-09T06:15:04.698Z"
   },
   {
    "duration": 15,
    "start_time": "2025-02-09T06:15:10.914Z"
   },
   {
    "duration": 6,
    "start_time": "2025-02-09T06:15:56.188Z"
   },
   {
    "duration": 8,
    "start_time": "2025-02-09T06:22:16.900Z"
   },
   {
    "duration": 8,
    "start_time": "2025-02-09T06:22:23.034Z"
   },
   {
    "duration": 5,
    "start_time": "2025-02-09T06:22:39.992Z"
   },
   {
    "duration": 7,
    "start_time": "2025-02-09T06:22:55.946Z"
   },
   {
    "duration": 4,
    "start_time": "2025-02-09T06:23:01.825Z"
   },
   {
    "duration": 60,
    "start_time": "2025-02-09T06:37:17.107Z"
   },
   {
    "duration": 2157,
    "start_time": "2025-02-10T03:16:28.556Z"
   },
   {
    "duration": 231,
    "start_time": "2025-02-10T03:16:30.716Z"
   },
   {
    "duration": 17,
    "start_time": "2025-02-10T03:16:30.948Z"
   },
   {
    "duration": 14,
    "start_time": "2025-02-10T03:16:30.967Z"
   },
   {
    "duration": 15,
    "start_time": "2025-02-10T03:16:30.983Z"
   },
   {
    "duration": 8,
    "start_time": "2025-02-10T03:16:31.000Z"
   },
   {
    "duration": 28,
    "start_time": "2025-02-10T03:16:31.010Z"
   },
   {
    "duration": 7,
    "start_time": "2025-02-10T03:16:31.041Z"
   },
   {
    "duration": 6,
    "start_time": "2025-02-10T03:16:31.051Z"
   },
   {
    "duration": 8,
    "start_time": "2025-02-10T03:16:31.060Z"
   },
   {
    "duration": 5,
    "start_time": "2025-02-10T03:16:31.069Z"
   },
   {
    "duration": 5,
    "start_time": "2025-02-10T03:16:31.076Z"
   },
   {
    "duration": 9,
    "start_time": "2025-02-10T03:16:31.082Z"
   },
   {
    "duration": 7,
    "start_time": "2025-02-10T03:16:31.131Z"
   },
   {
    "duration": 14,
    "start_time": "2025-02-10T03:16:31.140Z"
   },
   {
    "duration": 5,
    "start_time": "2025-02-10T03:16:31.156Z"
   },
   {
    "duration": 91,
    "start_time": "2025-02-10T03:16:31.163Z"
   },
   {
    "duration": 3,
    "start_time": "2025-02-10T03:16:31.255Z"
   },
   {
    "duration": 2,
    "start_time": "2025-02-10T03:16:31.260Z"
   },
   {
    "duration": 2,
    "start_time": "2025-02-10T03:16:31.265Z"
   },
   {
    "duration": 3,
    "start_time": "2025-02-10T03:16:31.268Z"
   },
   {
    "duration": 3,
    "start_time": "2025-02-10T03:16:31.272Z"
   },
   {
    "duration": 3,
    "start_time": "2025-02-10T03:16:31.277Z"
   },
   {
    "duration": 3,
    "start_time": "2025-02-10T03:16:31.282Z"
   },
   {
    "duration": 3,
    "start_time": "2025-02-10T03:16:31.286Z"
   },
   {
    "duration": 3,
    "start_time": "2025-02-10T03:16:31.291Z"
   },
   {
    "duration": 3,
    "start_time": "2025-02-10T03:16:31.330Z"
   },
   {
    "duration": 2,
    "start_time": "2025-02-10T03:16:31.336Z"
   },
   {
    "duration": 2,
    "start_time": "2025-02-10T03:16:31.340Z"
   },
   {
    "duration": 3,
    "start_time": "2025-02-10T03:16:31.344Z"
   },
   {
    "duration": 3,
    "start_time": "2025-02-10T03:16:31.349Z"
   },
   {
    "duration": 3,
    "start_time": "2025-02-10T03:16:31.353Z"
   },
   {
    "duration": 4,
    "start_time": "2025-02-10T03:16:31.357Z"
   },
   {
    "duration": 3,
    "start_time": "2025-02-10T03:16:31.362Z"
   },
   {
    "duration": 3,
    "start_time": "2025-02-10T03:16:31.367Z"
   },
   {
    "duration": 3,
    "start_time": "2025-02-10T03:16:31.372Z"
   },
   {
    "duration": 3,
    "start_time": "2025-02-10T03:16:31.377Z"
   },
   {
    "duration": 17,
    "start_time": "2025-02-10T03:36:48.746Z"
   },
   {
    "duration": 16,
    "start_time": "2025-02-10T03:37:15.299Z"
   },
   {
    "duration": 4,
    "start_time": "2025-02-10T03:37:16.957Z"
   },
   {
    "duration": 4,
    "start_time": "2025-02-10T03:37:19.653Z"
   },
   {
    "duration": 12,
    "start_time": "2025-02-10T04:24:52.693Z"
   },
   {
    "duration": 74,
    "start_time": "2025-02-10T04:24:57.987Z"
   },
   {
    "duration": 16,
    "start_time": "2025-02-10T04:44:53.760Z"
   },
   {
    "duration": 8,
    "start_time": "2025-02-10T05:11:08.619Z"
   },
   {
    "duration": 13,
    "start_time": "2025-02-10T05:11:14.050Z"
   },
   {
    "duration": 5,
    "start_time": "2025-02-10T05:25:13.174Z"
   },
   {
    "duration": 4,
    "start_time": "2025-02-10T05:32:05.361Z"
   },
   {
    "duration": 9,
    "start_time": "2025-02-10T05:32:38.420Z"
   },
   {
    "duration": 10,
    "start_time": "2025-02-10T05:32:43.634Z"
   },
   {
    "duration": 10,
    "start_time": "2025-02-10T05:32:57.552Z"
   },
   {
    "duration": 194,
    "start_time": "2025-02-10T05:33:36.158Z"
   },
   {
    "duration": 2365,
    "start_time": "2025-02-10T05:33:45.521Z"
   },
   {
    "duration": 34,
    "start_time": "2025-02-10T05:34:06.544Z"
   },
   {
    "duration": 33,
    "start_time": "2025-02-10T05:34:17.128Z"
   },
   {
    "duration": 34,
    "start_time": "2025-02-10T05:34:26.512Z"
   },
   {
    "duration": 428,
    "start_time": "2025-02-10T06:14:09.099Z"
   },
   {
    "duration": 346,
    "start_time": "2025-02-10T06:14:48.716Z"
   },
   {
    "duration": 3,
    "start_time": "2025-02-10T06:15:00.960Z"
   },
   {
    "duration": 195,
    "start_time": "2025-02-10T06:15:00.965Z"
   },
   {
    "duration": 17,
    "start_time": "2025-02-10T06:15:01.161Z"
   },
   {
    "duration": 13,
    "start_time": "2025-02-10T06:15:01.180Z"
   },
   {
    "duration": 15,
    "start_time": "2025-02-10T06:15:01.195Z"
   },
   {
    "duration": 28,
    "start_time": "2025-02-10T06:15:01.212Z"
   },
   {
    "duration": 9,
    "start_time": "2025-02-10T06:15:01.242Z"
   },
   {
    "duration": 9,
    "start_time": "2025-02-10T06:15:01.253Z"
   },
   {
    "duration": 4,
    "start_time": "2025-02-10T06:15:01.264Z"
   },
   {
    "duration": 8,
    "start_time": "2025-02-10T06:15:01.273Z"
   },
   {
    "duration": 5,
    "start_time": "2025-02-10T06:15:01.283Z"
   },
   {
    "duration": 42,
    "start_time": "2025-02-10T06:15:01.289Z"
   },
   {
    "duration": 9,
    "start_time": "2025-02-10T06:15:01.333Z"
   },
   {
    "duration": 7,
    "start_time": "2025-02-10T06:15:01.344Z"
   },
   {
    "duration": 41,
    "start_time": "2025-02-10T06:15:01.352Z"
   },
   {
    "duration": 5,
    "start_time": "2025-02-10T06:15:01.395Z"
   },
   {
    "duration": 98,
    "start_time": "2025-02-10T06:15:01.401Z"
   },
   {
    "duration": 52,
    "start_time": "2025-02-10T06:15:01.501Z"
   },
   {
    "duration": 9,
    "start_time": "2025-02-10T06:15:01.554Z"
   },
   {
    "duration": 84,
    "start_time": "2025-02-10T06:15:01.565Z"
   },
   {
    "duration": 32,
    "start_time": "2025-02-10T06:15:01.650Z"
   },
   {
    "duration": 8,
    "start_time": "2025-02-10T06:15:01.683Z"
   },
   {
    "duration": 69,
    "start_time": "2025-02-10T06:15:01.692Z"
   },
   {
    "duration": 2,
    "start_time": "2025-02-10T06:15:01.763Z"
   },
   {
    "duration": 3,
    "start_time": "2025-02-10T06:15:01.767Z"
   },
   {
    "duration": 3,
    "start_time": "2025-02-10T06:15:01.772Z"
   },
   {
    "duration": 3,
    "start_time": "2025-02-10T06:15:01.777Z"
   },
   {
    "duration": 2,
    "start_time": "2025-02-10T06:15:01.784Z"
   },
   {
    "duration": 3,
    "start_time": "2025-02-10T06:15:01.788Z"
   },
   {
    "duration": 3,
    "start_time": "2025-02-10T06:15:01.794Z"
   },
   {
    "duration": 3,
    "start_time": "2025-02-10T06:15:01.798Z"
   },
   {
    "duration": 2,
    "start_time": "2025-02-10T06:15:01.832Z"
   },
   {
    "duration": 3,
    "start_time": "2025-02-10T06:15:01.835Z"
   },
   {
    "duration": 3,
    "start_time": "2025-02-10T06:15:01.840Z"
   },
   {
    "duration": 3,
    "start_time": "2025-02-10T06:15:01.845Z"
   },
   {
    "duration": 2,
    "start_time": "2025-02-10T06:15:01.850Z"
   },
   {
    "duration": 3,
    "start_time": "2025-02-10T06:15:01.854Z"
   },
   {
    "duration": 3,
    "start_time": "2025-02-10T06:15:01.859Z"
   },
   {
    "duration": 3,
    "start_time": "2025-02-10T06:15:01.863Z"
   },
   {
    "duration": 6,
    "start_time": "2025-02-10T06:31:39.691Z"
   },
   {
    "duration": 3,
    "start_time": "2025-02-10T06:31:44.780Z"
   },
   {
    "duration": 13,
    "start_time": "2025-02-10T06:32:00.711Z"
   },
   {
    "duration": 5,
    "start_time": "2025-02-10T06:32:06.996Z"
   },
   {
    "duration": 165,
    "start_time": "2025-02-10T06:43:01.260Z"
   },
   {
    "duration": 14,
    "start_time": "2025-02-10T06:43:14.115Z"
   },
   {
    "duration": 42,
    "start_time": "2025-02-10T06:46:09.885Z"
   },
   {
    "duration": 21,
    "start_time": "2025-02-10T06:47:42.598Z"
   },
   {
    "duration": 36,
    "start_time": "2025-02-10T06:48:28.410Z"
   },
   {
    "duration": 124,
    "start_time": "2025-02-10T06:49:16.419Z"
   },
   {
    "duration": 53,
    "start_time": "2025-02-10T06:50:19.924Z"
   },
   {
    "duration": 28,
    "start_time": "2025-02-10T06:50:59.398Z"
   },
   {
    "duration": 31,
    "start_time": "2025-02-10T06:51:29.177Z"
   },
   {
    "duration": 2,
    "start_time": "2025-02-10T06:51:59.911Z"
   },
   {
    "duration": 215,
    "start_time": "2025-02-10T06:51:59.915Z"
   },
   {
    "duration": 20,
    "start_time": "2025-02-10T06:52:00.136Z"
   },
   {
    "duration": 17,
    "start_time": "2025-02-10T06:52:00.160Z"
   },
   {
    "duration": 14,
    "start_time": "2025-02-10T06:52:00.181Z"
   },
   {
    "duration": 7,
    "start_time": "2025-02-10T06:52:00.198Z"
   },
   {
    "duration": 8,
    "start_time": "2025-02-10T06:52:00.207Z"
   },
   {
    "duration": 25,
    "start_time": "2025-02-10T06:52:00.217Z"
   },
   {
    "duration": 11,
    "start_time": "2025-02-10T06:52:00.243Z"
   },
   {
    "duration": 13,
    "start_time": "2025-02-10T06:52:00.255Z"
   },
   {
    "duration": 5,
    "start_time": "2025-02-10T06:52:00.269Z"
   },
   {
    "duration": 5,
    "start_time": "2025-02-10T06:52:00.276Z"
   },
   {
    "duration": 8,
    "start_time": "2025-02-10T06:52:00.283Z"
   },
   {
    "duration": 6,
    "start_time": "2025-02-10T06:52:00.295Z"
   },
   {
    "duration": 74,
    "start_time": "2025-02-10T06:52:00.302Z"
   },
   {
    "duration": 6,
    "start_time": "2025-02-10T06:52:00.378Z"
   },
   {
    "duration": 90,
    "start_time": "2025-02-10T06:52:00.385Z"
   },
   {
    "duration": 38,
    "start_time": "2025-02-10T06:52:00.477Z"
   },
   {
    "duration": 41,
    "start_time": "2025-02-10T06:52:00.516Z"
   },
   {
    "duration": 68,
    "start_time": "2025-02-10T06:52:00.559Z"
   },
   {
    "duration": 43,
    "start_time": "2025-02-10T06:52:00.629Z"
   },
   {
    "duration": 9,
    "start_time": "2025-02-10T06:52:00.674Z"
   },
   {
    "duration": 62,
    "start_time": "2025-02-10T06:52:00.685Z"
   },
   {
    "duration": 5,
    "start_time": "2025-02-10T06:52:00.748Z"
   },
   {
    "duration": 32,
    "start_time": "2025-02-10T06:52:00.758Z"
   },
   {
    "duration": 0,
    "start_time": "2025-02-10T06:52:00.792Z"
   },
   {
    "duration": 0,
    "start_time": "2025-02-10T06:52:00.793Z"
   },
   {
    "duration": 0,
    "start_time": "2025-02-10T06:52:00.795Z"
   },
   {
    "duration": 0,
    "start_time": "2025-02-10T06:52:00.795Z"
   },
   {
    "duration": 0,
    "start_time": "2025-02-10T06:52:00.797Z"
   },
   {
    "duration": 0,
    "start_time": "2025-02-10T06:52:00.799Z"
   },
   {
    "duration": 0,
    "start_time": "2025-02-10T06:52:00.800Z"
   },
   {
    "duration": 0,
    "start_time": "2025-02-10T06:52:00.802Z"
   },
   {
    "duration": 0,
    "start_time": "2025-02-10T06:52:00.803Z"
   },
   {
    "duration": 0,
    "start_time": "2025-02-10T06:52:00.835Z"
   },
   {
    "duration": 1,
    "start_time": "2025-02-10T06:52:00.835Z"
   },
   {
    "duration": 0,
    "start_time": "2025-02-10T06:52:00.836Z"
   },
   {
    "duration": 0,
    "start_time": "2025-02-10T06:52:00.837Z"
   },
   {
    "duration": 0,
    "start_time": "2025-02-10T06:52:00.837Z"
   },
   {
    "duration": 66,
    "start_time": "2025-02-10T06:53:03.220Z"
   },
   {
    "duration": 16,
    "start_time": "2025-02-10T06:53:24.108Z"
   },
   {
    "duration": 18,
    "start_time": "2025-02-10T06:53:26.574Z"
   },
   {
    "duration": 37,
    "start_time": "2025-02-10T06:54:19.752Z"
   },
   {
    "duration": 2139,
    "start_time": "2025-02-11T05:28:51.431Z"
   },
   {
    "duration": 240,
    "start_time": "2025-02-11T05:28:53.572Z"
   },
   {
    "duration": 15,
    "start_time": "2025-02-11T05:28:53.814Z"
   },
   {
    "duration": 14,
    "start_time": "2025-02-11T05:28:53.831Z"
   },
   {
    "duration": 14,
    "start_time": "2025-02-11T05:28:53.846Z"
   },
   {
    "duration": 11,
    "start_time": "2025-02-11T05:28:53.862Z"
   },
   {
    "duration": 8,
    "start_time": "2025-02-11T05:28:53.875Z"
   },
   {
    "duration": 9,
    "start_time": "2025-02-11T05:28:53.884Z"
   },
   {
    "duration": 6,
    "start_time": "2025-02-11T05:28:53.894Z"
   },
   {
    "duration": 9,
    "start_time": "2025-02-11T05:28:53.902Z"
   },
   {
    "duration": 5,
    "start_time": "2025-02-11T05:28:53.913Z"
   },
   {
    "duration": 5,
    "start_time": "2025-02-11T05:28:53.919Z"
   },
   {
    "duration": 49,
    "start_time": "2025-02-11T05:28:53.926Z"
   },
   {
    "duration": 6,
    "start_time": "2025-02-11T05:28:53.977Z"
   },
   {
    "duration": 40,
    "start_time": "2025-02-11T05:28:53.985Z"
   },
   {
    "duration": 5,
    "start_time": "2025-02-11T05:28:54.027Z"
   },
   {
    "duration": 94,
    "start_time": "2025-02-11T05:28:54.034Z"
   },
   {
    "duration": 57,
    "start_time": "2025-02-11T05:28:54.130Z"
   },
   {
    "duration": 9,
    "start_time": "2025-02-11T05:28:54.189Z"
   },
   {
    "duration": 82,
    "start_time": "2025-02-11T05:28:54.200Z"
   },
   {
    "duration": 34,
    "start_time": "2025-02-11T05:28:54.283Z"
   },
   {
    "duration": 7,
    "start_time": "2025-02-11T05:28:54.319Z"
   },
   {
    "duration": 78,
    "start_time": "2025-02-11T05:28:54.328Z"
   },
   {
    "duration": 5,
    "start_time": "2025-02-11T05:28:54.408Z"
   },
   {
    "duration": 32,
    "start_time": "2025-02-11T05:28:54.416Z"
   },
   {
    "duration": 20,
    "start_time": "2025-02-11T05:28:54.450Z"
   },
   {
    "duration": 3,
    "start_time": "2025-02-11T05:28:54.472Z"
   },
   {
    "duration": 2,
    "start_time": "2025-02-11T05:28:54.479Z"
   },
   {
    "duration": 3,
    "start_time": "2025-02-11T05:28:54.482Z"
   },
   {
    "duration": 4,
    "start_time": "2025-02-11T05:28:54.486Z"
   },
   {
    "duration": 3,
    "start_time": "2025-02-11T05:28:54.491Z"
   },
   {
    "duration": 3,
    "start_time": "2025-02-11T05:28:54.496Z"
   },
   {
    "duration": 4,
    "start_time": "2025-02-11T05:28:54.500Z"
   },
   {
    "duration": 3,
    "start_time": "2025-02-11T05:28:54.506Z"
   },
   {
    "duration": 4,
    "start_time": "2025-02-11T05:28:54.510Z"
   },
   {
    "duration": 3,
    "start_time": "2025-02-11T05:28:54.515Z"
   },
   {
    "duration": 3,
    "start_time": "2025-02-11T05:28:54.520Z"
   },
   {
    "duration": 3,
    "start_time": "2025-02-11T05:28:54.524Z"
   },
   {
    "duration": 43,
    "start_time": "2025-02-11T05:28:54.529Z"
   },
   {
    "duration": 58,
    "start_time": "2025-02-11T05:29:04.416Z"
   },
   {
    "duration": 15,
    "start_time": "2025-02-11T05:29:14.956Z"
   },
   {
    "duration": 15,
    "start_time": "2025-02-11T05:29:18.293Z"
   },
   {
    "duration": 18,
    "start_time": "2025-02-11T05:29:47.294Z"
   },
   {
    "duration": 9,
    "start_time": "2025-02-11T05:39:06.254Z"
   },
   {
    "duration": 22,
    "start_time": "2025-02-11T05:39:35.000Z"
   },
   {
    "duration": 13,
    "start_time": "2025-02-11T05:39:54.495Z"
   },
   {
    "duration": 12,
    "start_time": "2025-02-11T05:40:04.033Z"
   },
   {
    "duration": 12,
    "start_time": "2025-02-11T05:40:55.003Z"
   },
   {
    "duration": 725,
    "start_time": "2025-02-11T05:56:25.130Z"
   },
   {
    "duration": 14,
    "start_time": "2025-02-11T05:57:28.870Z"
   },
   {
    "duration": 38,
    "start_time": "2025-02-11T05:57:36.797Z"
   },
   {
    "duration": 41,
    "start_time": "2025-02-11T05:58:22.053Z"
   },
   {
    "duration": 38,
    "start_time": "2025-02-11T05:58:35.671Z"
   },
   {
    "duration": 180,
    "start_time": "2025-02-11T05:59:26.037Z"
   },
   {
    "duration": 17,
    "start_time": "2025-02-11T05:59:26.790Z"
   },
   {
    "duration": 18,
    "start_time": "2025-02-11T05:59:26.965Z"
   },
   {
    "duration": 13,
    "start_time": "2025-02-11T05:59:27.124Z"
   },
   {
    "duration": 9,
    "start_time": "2025-02-11T05:59:27.296Z"
   },
   {
    "duration": 8,
    "start_time": "2025-02-11T05:59:27.459Z"
   },
   {
    "duration": 10,
    "start_time": "2025-02-11T05:59:27.817Z"
   },
   {
    "duration": 5,
    "start_time": "2025-02-11T05:59:28.010Z"
   },
   {
    "duration": 10,
    "start_time": "2025-02-11T05:59:29.561Z"
   },
   {
    "duration": 6,
    "start_time": "2025-02-11T05:59:32.069Z"
   },
   {
    "duration": 5,
    "start_time": "2025-02-11T05:59:35.419Z"
   },
   {
    "duration": 10,
    "start_time": "2025-02-11T05:59:37.159Z"
   },
   {
    "duration": 7,
    "start_time": "2025-02-11T05:59:41.358Z"
   },
   {
    "duration": 44,
    "start_time": "2025-02-11T05:59:41.716Z"
   },
   {
    "duration": 5,
    "start_time": "2025-02-11T05:59:41.886Z"
   },
   {
    "duration": 73,
    "start_time": "2025-02-11T05:59:42.387Z"
   },
   {
    "duration": 24,
    "start_time": "2025-02-11T05:59:48.743Z"
   },
   {
    "duration": 8,
    "start_time": "2025-02-11T05:59:53.702Z"
   },
   {
    "duration": 54,
    "start_time": "2025-02-11T06:00:16.553Z"
   },
   {
    "duration": 18,
    "start_time": "2025-02-11T06:00:36.247Z"
   },
   {
    "duration": 12,
    "start_time": "2025-02-11T06:00:36.459Z"
   },
   {
    "duration": 56,
    "start_time": "2025-02-11T06:00:37.207Z"
   },
   {
    "duration": 5,
    "start_time": "2025-02-11T06:00:39.223Z"
   },
   {
    "duration": 309,
    "start_time": "2025-02-11T06:00:40.126Z"
   },
   {
    "duration": 158,
    "start_time": "2025-02-11T06:00:40.475Z"
   },
   {
    "duration": 40,
    "start_time": "2025-02-11T06:01:13.742Z"
   },
   {
    "duration": 27,
    "start_time": "2025-02-11T06:01:40.870Z"
   },
   {
    "duration": 10,
    "start_time": "2025-02-11T06:01:46.923Z"
   },
   {
    "duration": 14,
    "start_time": "2025-02-11T06:02:10.524Z"
   },
   {
    "duration": 45,
    "start_time": "2025-02-11T06:03:01.768Z"
   },
   {
    "duration": 15,
    "start_time": "2025-02-11T06:03:39.838Z"
   },
   {
    "duration": 16,
    "start_time": "2025-02-11T06:04:05.585Z"
   },
   {
    "duration": 11,
    "start_time": "2025-02-11T06:04:31.174Z"
   },
   {
    "duration": 11,
    "start_time": "2025-02-11T06:04:34.558Z"
   },
   {
    "duration": 11,
    "start_time": "2025-02-11T06:04:36.260Z"
   },
   {
    "duration": 14,
    "start_time": "2025-02-11T06:04:47.216Z"
   },
   {
    "duration": 11,
    "start_time": "2025-02-11T06:05:48.468Z"
   },
   {
    "duration": 11,
    "start_time": "2025-02-11T06:06:02.309Z"
   },
   {
    "duration": 18,
    "start_time": "2025-02-11T06:06:16.772Z"
   },
   {
    "duration": 17,
    "start_time": "2025-02-11T06:07:49.907Z"
   },
   {
    "duration": 212,
    "start_time": "2025-02-11T06:08:15.848Z"
   },
   {
    "duration": 21,
    "start_time": "2025-02-11T06:08:34.581Z"
   },
   {
    "duration": 3,
    "start_time": "2025-02-11T06:08:48.009Z"
   },
   {
    "duration": 156,
    "start_time": "2025-02-11T06:08:48.014Z"
   },
   {
    "duration": 16,
    "start_time": "2025-02-11T06:08:48.171Z"
   },
   {
    "duration": 13,
    "start_time": "2025-02-11T06:08:48.189Z"
   },
   {
    "duration": 11,
    "start_time": "2025-02-11T06:08:48.205Z"
   },
   {
    "duration": 8,
    "start_time": "2025-02-11T06:08:48.217Z"
   },
   {
    "duration": 7,
    "start_time": "2025-02-11T06:08:48.227Z"
   },
   {
    "duration": 42,
    "start_time": "2025-02-11T06:08:48.236Z"
   },
   {
    "duration": 5,
    "start_time": "2025-02-11T06:08:48.279Z"
   },
   {
    "duration": 9,
    "start_time": "2025-02-11T06:08:48.286Z"
   },
   {
    "duration": 5,
    "start_time": "2025-02-11T06:08:48.296Z"
   },
   {
    "duration": 4,
    "start_time": "2025-02-11T06:08:48.303Z"
   },
   {
    "duration": 9,
    "start_time": "2025-02-11T06:08:48.309Z"
   },
   {
    "duration": 6,
    "start_time": "2025-02-11T06:08:48.322Z"
   },
   {
    "duration": 76,
    "start_time": "2025-02-11T06:08:48.330Z"
   },
   {
    "duration": 5,
    "start_time": "2025-02-11T06:08:48.407Z"
   },
   {
    "duration": 90,
    "start_time": "2025-02-11T06:08:48.414Z"
   },
   {
    "duration": 23,
    "start_time": "2025-02-11T06:08:48.507Z"
   },
   {
    "duration": 8,
    "start_time": "2025-02-11T06:08:48.532Z"
   },
   {
    "duration": 65,
    "start_time": "2025-02-11T06:08:48.541Z"
   },
   {
    "duration": 17,
    "start_time": "2025-02-11T06:08:48.608Z"
   },
   {
    "duration": 8,
    "start_time": "2025-02-11T06:08:48.627Z"
   },
   {
    "duration": 77,
    "start_time": "2025-02-11T06:08:48.636Z"
   },
   {
    "duration": 5,
    "start_time": "2025-02-11T06:08:48.714Z"
   },
   {
    "duration": 27,
    "start_time": "2025-02-11T06:08:48.721Z"
   },
   {
    "duration": 28,
    "start_time": "2025-02-11T06:08:48.750Z"
   },
   {
    "duration": 17,
    "start_time": "2025-02-11T06:08:48.780Z"
   },
   {
    "duration": 2,
    "start_time": "2025-02-11T06:08:48.800Z"
   },
   {
    "duration": 4,
    "start_time": "2025-02-11T06:08:48.803Z"
   },
   {
    "duration": 3,
    "start_time": "2025-02-11T06:08:48.808Z"
   },
   {
    "duration": 2,
    "start_time": "2025-02-11T06:08:48.813Z"
   },
   {
    "duration": 3,
    "start_time": "2025-02-11T06:08:48.817Z"
   },
   {
    "duration": 2,
    "start_time": "2025-02-11T06:08:48.823Z"
   },
   {
    "duration": 3,
    "start_time": "2025-02-11T06:08:48.827Z"
   },
   {
    "duration": 38,
    "start_time": "2025-02-11T06:08:48.832Z"
   },
   {
    "duration": 3,
    "start_time": "2025-02-11T06:08:48.872Z"
   },
   {
    "duration": 2,
    "start_time": "2025-02-11T06:08:48.877Z"
   },
   {
    "duration": 3,
    "start_time": "2025-02-11T06:08:48.881Z"
   },
   {
    "duration": 2,
    "start_time": "2025-02-11T06:08:48.886Z"
   },
   {
    "duration": 2101,
    "start_time": "2025-02-12T06:15:36.027Z"
   },
   {
    "duration": 226,
    "start_time": "2025-02-12T06:15:38.130Z"
   },
   {
    "duration": 17,
    "start_time": "2025-02-12T06:15:38.357Z"
   },
   {
    "duration": 13,
    "start_time": "2025-02-12T06:15:38.376Z"
   },
   {
    "duration": 11,
    "start_time": "2025-02-12T06:15:38.391Z"
   },
   {
    "duration": 8,
    "start_time": "2025-02-12T06:15:38.403Z"
   },
   {
    "duration": 8,
    "start_time": "2025-02-12T06:15:38.412Z"
   },
   {
    "duration": 30,
    "start_time": "2025-02-12T06:15:38.421Z"
   },
   {
    "duration": 6,
    "start_time": "2025-02-12T06:15:38.453Z"
   },
   {
    "duration": 9,
    "start_time": "2025-02-12T06:15:38.462Z"
   },
   {
    "duration": 5,
    "start_time": "2025-02-12T06:15:38.473Z"
   },
   {
    "duration": 6,
    "start_time": "2025-02-12T06:15:38.479Z"
   },
   {
    "duration": 9,
    "start_time": "2025-02-12T06:15:38.486Z"
   },
   {
    "duration": 10,
    "start_time": "2025-02-12T06:15:38.496Z"
   },
   {
    "duration": 76,
    "start_time": "2025-02-12T06:15:38.507Z"
   },
   {
    "duration": 5,
    "start_time": "2025-02-12T06:15:38.584Z"
   },
   {
    "duration": 86,
    "start_time": "2025-02-12T06:15:38.591Z"
   },
   {
    "duration": 23,
    "start_time": "2025-02-12T06:15:38.679Z"
   },
   {
    "duration": 6,
    "start_time": "2025-02-12T06:15:38.705Z"
   },
   {
    "duration": 66,
    "start_time": "2025-02-12T06:15:38.713Z"
   },
   {
    "duration": 17,
    "start_time": "2025-02-12T06:15:38.781Z"
   },
   {
    "duration": 7,
    "start_time": "2025-02-12T06:15:38.800Z"
   },
   {
    "duration": 74,
    "start_time": "2025-02-12T06:15:38.808Z"
   },
   {
    "duration": 5,
    "start_time": "2025-02-12T06:15:38.884Z"
   },
   {
    "duration": 28,
    "start_time": "2025-02-12T06:15:38.891Z"
   },
   {
    "duration": 557,
    "start_time": "2025-02-12T06:15:38.921Z"
   },
   {
    "duration": 0,
    "start_time": "2025-02-12T06:15:39.481Z"
   },
   {
    "duration": 0,
    "start_time": "2025-02-12T06:15:39.481Z"
   },
   {
    "duration": 0,
    "start_time": "2025-02-12T06:15:39.482Z"
   },
   {
    "duration": 0,
    "start_time": "2025-02-12T06:15:39.484Z"
   },
   {
    "duration": 0,
    "start_time": "2025-02-12T06:15:39.484Z"
   },
   {
    "duration": 0,
    "start_time": "2025-02-12T06:15:39.485Z"
   },
   {
    "duration": 0,
    "start_time": "2025-02-12T06:15:39.486Z"
   },
   {
    "duration": 0,
    "start_time": "2025-02-12T06:15:39.487Z"
   },
   {
    "duration": 0,
    "start_time": "2025-02-12T06:15:39.488Z"
   },
   {
    "duration": 0,
    "start_time": "2025-02-12T06:15:39.490Z"
   },
   {
    "duration": 0,
    "start_time": "2025-02-12T06:15:39.490Z"
   },
   {
    "duration": 0,
    "start_time": "2025-02-12T06:15:39.491Z"
   },
   {
    "duration": 0,
    "start_time": "2025-02-12T06:15:39.492Z"
   },
   {
    "duration": 56,
    "start_time": "2025-02-12T06:16:29.637Z"
   },
   {
    "duration": 25,
    "start_time": "2025-02-12T06:16:38.847Z"
   },
   {
    "duration": 20,
    "start_time": "2025-02-12T06:16:58.741Z"
   },
   {
    "duration": 27,
    "start_time": "2025-02-12T06:17:00.610Z"
   },
   {
    "duration": 14,
    "start_time": "2025-02-12T06:17:15.244Z"
   },
   {
    "duration": 51,
    "start_time": "2025-02-12T06:17:41.952Z"
   },
   {
    "duration": 23,
    "start_time": "2025-02-12T06:17:58.209Z"
   },
   {
    "duration": 24,
    "start_time": "2025-02-12T06:18:54.102Z"
   },
   {
    "duration": 13,
    "start_time": "2025-02-12T06:20:16.248Z"
   },
   {
    "duration": 27,
    "start_time": "2025-02-12T06:21:52.480Z"
   },
   {
    "duration": 28,
    "start_time": "2025-02-12T06:21:57.632Z"
   },
   {
    "duration": 25,
    "start_time": "2025-02-12T06:22:15.748Z"
   },
   {
    "duration": 26,
    "start_time": "2025-02-12T06:22:26.724Z"
   },
   {
    "duration": 83,
    "start_time": "2025-02-12T06:22:50.820Z"
   },
   {
    "duration": 29,
    "start_time": "2025-02-12T06:23:27.821Z"
   },
   {
    "duration": 22,
    "start_time": "2025-02-12T06:26:12.462Z"
   },
   {
    "duration": 19,
    "start_time": "2025-02-12T06:26:41.074Z"
   },
   {
    "duration": 22,
    "start_time": "2025-02-12T06:26:53.314Z"
   },
   {
    "duration": 20,
    "start_time": "2025-02-12T06:27:05.362Z"
   },
   {
    "duration": 22,
    "start_time": "2025-02-12T06:27:13.596Z"
   },
   {
    "duration": 19,
    "start_time": "2025-02-12T06:27:31.191Z"
   },
   {
    "duration": 35,
    "start_time": "2025-02-12T06:29:05.595Z"
   },
   {
    "duration": 25,
    "start_time": "2025-02-12T06:29:26.451Z"
   },
   {
    "duration": 26,
    "start_time": "2025-02-12T06:29:26.848Z"
   },
   {
    "duration": 19,
    "start_time": "2025-02-12T06:29:27.034Z"
   },
   {
    "duration": 71,
    "start_time": "2025-02-12T06:29:27.315Z"
   },
   {
    "duration": 171,
    "start_time": "2025-02-12T06:29:49.819Z"
   },
   {
    "duration": 459,
    "start_time": "2025-02-12T06:29:54.821Z"
   },
   {
    "duration": 203,
    "start_time": "2025-02-12T06:29:55.282Z"
   },
   {
    "duration": 17,
    "start_time": "2025-02-12T06:29:55.486Z"
   },
   {
    "duration": 12,
    "start_time": "2025-02-12T06:29:55.505Z"
   },
   {
    "duration": 11,
    "start_time": "2025-02-12T06:29:55.519Z"
   },
   {
    "duration": 17,
    "start_time": "2025-02-12T06:29:55.532Z"
   },
   {
    "duration": 7,
    "start_time": "2025-02-12T06:29:55.551Z"
   },
   {
    "duration": 8,
    "start_time": "2025-02-12T06:29:55.559Z"
   },
   {
    "duration": 6,
    "start_time": "2025-02-12T06:29:55.569Z"
   },
   {
    "duration": 9,
    "start_time": "2025-02-12T06:29:55.577Z"
   },
   {
    "duration": 5,
    "start_time": "2025-02-12T06:29:55.587Z"
   },
   {
    "duration": 5,
    "start_time": "2025-02-12T06:29:55.594Z"
   },
   {
    "duration": 48,
    "start_time": "2025-02-12T06:29:55.600Z"
   },
   {
    "duration": 7,
    "start_time": "2025-02-12T06:29:55.652Z"
   },
   {
    "duration": 40,
    "start_time": "2025-02-12T06:29:55.660Z"
   },
   {
    "duration": 5,
    "start_time": "2025-02-12T06:29:55.702Z"
   },
   {
    "duration": 95,
    "start_time": "2025-02-12T06:29:55.708Z"
   },
   {
    "duration": 23,
    "start_time": "2025-02-12T06:29:55.804Z"
   },
   {
    "duration": 19,
    "start_time": "2025-02-12T06:29:55.828Z"
   },
   {
    "duration": 46,
    "start_time": "2025-02-12T06:29:55.849Z"
   },
   {
    "duration": 18,
    "start_time": "2025-02-12T06:29:55.897Z"
   },
   {
    "duration": 33,
    "start_time": "2025-02-12T06:29:55.917Z"
   },
   {
    "duration": 56,
    "start_time": "2025-02-12T06:29:55.952Z"
   },
   {
    "duration": 4,
    "start_time": "2025-02-12T06:29:56.010Z"
   },
   {
    "duration": 51,
    "start_time": "2025-02-12T06:29:56.016Z"
   },
   {
    "duration": 29,
    "start_time": "2025-02-12T06:29:56.070Z"
   },
   {
    "duration": 19,
    "start_time": "2025-02-12T06:29:56.101Z"
   },
   {
    "duration": 22,
    "start_time": "2025-02-12T06:29:56.142Z"
   },
   {
    "duration": 180,
    "start_time": "2025-02-12T06:29:56.166Z"
   },
   {
    "duration": 2,
    "start_time": "2025-02-12T06:29:56.348Z"
   },
   {
    "duration": 2,
    "start_time": "2025-02-12T06:29:56.352Z"
   },
   {
    "duration": 3,
    "start_time": "2025-02-12T06:29:56.356Z"
   },
   {
    "duration": 3,
    "start_time": "2025-02-12T06:29:56.361Z"
   },
   {
    "duration": 4,
    "start_time": "2025-02-12T06:29:56.365Z"
   },
   {
    "duration": 8,
    "start_time": "2025-02-12T06:29:56.371Z"
   },
   {
    "duration": 2,
    "start_time": "2025-02-12T06:29:56.380Z"
   },
   {
    "duration": 2,
    "start_time": "2025-02-12T06:29:56.384Z"
   },
   {
    "duration": 3,
    "start_time": "2025-02-12T06:29:56.388Z"
   },
   {
    "duration": 3,
    "start_time": "2025-02-12T06:29:56.392Z"
   },
   {
    "duration": 25,
    "start_time": "2025-02-12T06:35:14.290Z"
   },
   {
    "duration": 23,
    "start_time": "2025-02-12T06:35:14.547Z"
   },
   {
    "duration": 18,
    "start_time": "2025-02-12T06:35:14.812Z"
   },
   {
    "duration": 54,
    "start_time": "2025-02-12T06:35:15.027Z"
   },
   {
    "duration": 158,
    "start_time": "2025-02-12T06:35:22.557Z"
   },
   {
    "duration": 495,
    "start_time": "2025-02-12T06:35:28.359Z"
   },
   {
    "duration": 202,
    "start_time": "2025-02-12T06:35:28.856Z"
   },
   {
    "duration": 22,
    "start_time": "2025-02-12T06:35:29.060Z"
   },
   {
    "duration": 13,
    "start_time": "2025-02-12T06:35:29.083Z"
   },
   {
    "duration": 11,
    "start_time": "2025-02-12T06:35:29.099Z"
   },
   {
    "duration": 10,
    "start_time": "2025-02-12T06:35:29.112Z"
   },
   {
    "duration": 26,
    "start_time": "2025-02-12T06:35:29.124Z"
   },
   {
    "duration": 13,
    "start_time": "2025-02-12T06:35:29.151Z"
   },
   {
    "duration": 6,
    "start_time": "2025-02-12T06:35:29.165Z"
   },
   {
    "duration": 9,
    "start_time": "2025-02-12T06:35:29.173Z"
   },
   {
    "duration": 5,
    "start_time": "2025-02-12T06:35:29.184Z"
   },
   {
    "duration": 5,
    "start_time": "2025-02-12T06:35:29.190Z"
   },
   {
    "duration": 8,
    "start_time": "2025-02-12T06:35:29.197Z"
   },
   {
    "duration": 8,
    "start_time": "2025-02-12T06:35:29.242Z"
   },
   {
    "duration": 45,
    "start_time": "2025-02-12T06:35:29.252Z"
   },
   {
    "duration": 5,
    "start_time": "2025-02-12T06:35:29.299Z"
   },
   {
    "duration": 101,
    "start_time": "2025-02-12T06:35:29.305Z"
   },
   {
    "duration": 22,
    "start_time": "2025-02-12T06:35:29.408Z"
   },
   {
    "duration": 7,
    "start_time": "2025-02-12T06:35:29.442Z"
   },
   {
    "duration": 47,
    "start_time": "2025-02-12T06:35:29.450Z"
   },
   {
    "duration": 17,
    "start_time": "2025-02-12T06:35:29.499Z"
   },
   {
    "duration": 29,
    "start_time": "2025-02-12T06:35:29.517Z"
   },
   {
    "duration": 56,
    "start_time": "2025-02-12T06:35:29.547Z"
   },
   {
    "duration": 4,
    "start_time": "2025-02-12T06:35:29.605Z"
   },
   {
    "duration": 47,
    "start_time": "2025-02-12T06:35:29.612Z"
   },
   {
    "duration": 29,
    "start_time": "2025-02-12T06:35:29.663Z"
   },
   {
    "duration": 18,
    "start_time": "2025-02-12T06:35:29.694Z"
   },
   {
    "duration": 37,
    "start_time": "2025-02-12T06:35:29.714Z"
   },
   {
    "duration": 174,
    "start_time": "2025-02-12T06:35:29.753Z"
   },
   {
    "duration": 2,
    "start_time": "2025-02-12T06:35:29.929Z"
   },
   {
    "duration": 11,
    "start_time": "2025-02-12T06:35:29.932Z"
   },
   {
    "duration": 3,
    "start_time": "2025-02-12T06:35:29.944Z"
   },
   {
    "duration": 3,
    "start_time": "2025-02-12T06:35:29.948Z"
   },
   {
    "duration": 3,
    "start_time": "2025-02-12T06:35:29.953Z"
   },
   {
    "duration": 3,
    "start_time": "2025-02-12T06:35:29.957Z"
   },
   {
    "duration": 2,
    "start_time": "2025-02-12T06:35:29.962Z"
   },
   {
    "duration": 3,
    "start_time": "2025-02-12T06:35:29.966Z"
   },
   {
    "duration": 3,
    "start_time": "2025-02-12T06:35:29.971Z"
   },
   {
    "duration": 3,
    "start_time": "2025-02-12T06:35:29.975Z"
   },
   {
    "duration": 23,
    "start_time": "2025-02-12T06:36:24.888Z"
   },
   {
    "duration": 26,
    "start_time": "2025-02-12T06:36:30.460Z"
   },
   {
    "duration": 22,
    "start_time": "2025-02-12T06:36:32.822Z"
   },
   {
    "duration": 57,
    "start_time": "2025-02-12T06:36:33.170Z"
   },
   {
    "duration": 23,
    "start_time": "2025-02-12T06:36:47.030Z"
   },
   {
    "duration": 22,
    "start_time": "2025-02-12T06:36:48.973Z"
   },
   {
    "duration": 24,
    "start_time": "2025-02-12T06:36:49.229Z"
   },
   {
    "duration": 19,
    "start_time": "2025-02-12T06:36:49.449Z"
   },
   {
    "duration": 21,
    "start_time": "2025-02-12T06:36:49.788Z"
   },
   {
    "duration": 423,
    "start_time": "2025-02-12T06:36:57.912Z"
   },
   {
    "duration": 231,
    "start_time": "2025-02-12T06:36:58.337Z"
   },
   {
    "duration": 17,
    "start_time": "2025-02-12T06:36:58.570Z"
   },
   {
    "duration": 12,
    "start_time": "2025-02-12T06:36:58.589Z"
   },
   {
    "duration": 11,
    "start_time": "2025-02-12T06:36:58.605Z"
   },
   {
    "duration": 8,
    "start_time": "2025-02-12T06:36:58.617Z"
   },
   {
    "duration": 8,
    "start_time": "2025-02-12T06:36:58.642Z"
   },
   {
    "duration": 9,
    "start_time": "2025-02-12T06:36:58.651Z"
   },
   {
    "duration": 6,
    "start_time": "2025-02-12T06:36:58.662Z"
   },
   {
    "duration": 9,
    "start_time": "2025-02-12T06:36:58.670Z"
   },
   {
    "duration": 6,
    "start_time": "2025-02-12T06:36:58.680Z"
   },
   {
    "duration": 5,
    "start_time": "2025-02-12T06:36:58.687Z"
   },
   {
    "duration": 9,
    "start_time": "2025-02-12T06:36:58.694Z"
   },
   {
    "duration": 6,
    "start_time": "2025-02-12T06:36:58.742Z"
   },
   {
    "duration": 42,
    "start_time": "2025-02-12T06:36:58.750Z"
   },
   {
    "duration": 5,
    "start_time": "2025-02-12T06:36:58.793Z"
   },
   {
    "duration": 93,
    "start_time": "2025-02-12T06:36:58.800Z"
   },
   {
    "duration": 23,
    "start_time": "2025-02-12T06:36:58.895Z"
   },
   {
    "duration": 6,
    "start_time": "2025-02-12T06:36:58.920Z"
   },
   {
    "duration": 46,
    "start_time": "2025-02-12T06:36:58.943Z"
   },
   {
    "duration": 18,
    "start_time": "2025-02-12T06:36:58.991Z"
   },
   {
    "duration": 8,
    "start_time": "2025-02-12T06:36:59.011Z"
   },
   {
    "duration": 80,
    "start_time": "2025-02-12T06:36:59.020Z"
   },
   {
    "duration": 4,
    "start_time": "2025-02-12T06:36:59.102Z"
   },
   {
    "duration": 50,
    "start_time": "2025-02-12T06:36:59.109Z"
   },
   {
    "duration": 32,
    "start_time": "2025-02-12T06:36:59.161Z"
   },
   {
    "duration": 18,
    "start_time": "2025-02-12T06:36:59.195Z"
   },
   {
    "duration": 38,
    "start_time": "2025-02-12T06:36:59.215Z"
   },
   {
    "duration": 182,
    "start_time": "2025-02-12T06:36:59.255Z"
   },
   {
    "duration": 2,
    "start_time": "2025-02-12T06:36:59.443Z"
   },
   {
    "duration": 3,
    "start_time": "2025-02-12T06:36:59.447Z"
   },
   {
    "duration": 3,
    "start_time": "2025-02-12T06:36:59.451Z"
   },
   {
    "duration": 3,
    "start_time": "2025-02-12T06:36:59.456Z"
   },
   {
    "duration": 2,
    "start_time": "2025-02-12T06:36:59.461Z"
   },
   {
    "duration": 3,
    "start_time": "2025-02-12T06:36:59.465Z"
   },
   {
    "duration": 3,
    "start_time": "2025-02-12T06:36:59.469Z"
   },
   {
    "duration": 3,
    "start_time": "2025-02-12T06:36:59.474Z"
   },
   {
    "duration": 4,
    "start_time": "2025-02-12T06:36:59.478Z"
   },
   {
    "duration": 3,
    "start_time": "2025-02-12T06:36:59.484Z"
   },
   {
    "duration": 160,
    "start_time": "2025-02-12T06:37:56.916Z"
   },
   {
    "duration": 471,
    "start_time": "2025-02-12T06:38:04.987Z"
   },
   {
    "duration": 200,
    "start_time": "2025-02-12T06:38:05.460Z"
   },
   {
    "duration": 16,
    "start_time": "2025-02-12T06:38:05.661Z"
   },
   {
    "duration": 12,
    "start_time": "2025-02-12T06:38:05.679Z"
   },
   {
    "duration": 12,
    "start_time": "2025-02-12T06:38:05.693Z"
   },
   {
    "duration": 8,
    "start_time": "2025-02-12T06:38:05.706Z"
   },
   {
    "duration": 8,
    "start_time": "2025-02-12T06:38:05.715Z"
   },
   {
    "duration": 8,
    "start_time": "2025-02-12T06:38:05.743Z"
   },
   {
    "duration": 7,
    "start_time": "2025-02-12T06:38:05.753Z"
   },
   {
    "duration": 8,
    "start_time": "2025-02-12T06:38:05.763Z"
   },
   {
    "duration": 6,
    "start_time": "2025-02-12T06:38:05.772Z"
   },
   {
    "duration": 5,
    "start_time": "2025-02-12T06:38:05.780Z"
   },
   {
    "duration": 9,
    "start_time": "2025-02-12T06:38:05.786Z"
   },
   {
    "duration": 47,
    "start_time": "2025-02-12T06:38:05.797Z"
   },
   {
    "duration": 41,
    "start_time": "2025-02-12T06:38:05.846Z"
   },
   {
    "duration": 5,
    "start_time": "2025-02-12T06:38:05.889Z"
   },
   {
    "duration": 90,
    "start_time": "2025-02-12T06:38:05.896Z"
   },
   {
    "duration": 24,
    "start_time": "2025-02-12T06:38:05.987Z"
   },
   {
    "duration": 7,
    "start_time": "2025-02-12T06:38:06.013Z"
   },
   {
    "duration": 52,
    "start_time": "2025-02-12T06:38:06.042Z"
   },
   {
    "duration": 18,
    "start_time": "2025-02-12T06:38:06.097Z"
   },
   {
    "duration": 8,
    "start_time": "2025-02-12T06:38:06.117Z"
   },
   {
    "duration": 57,
    "start_time": "2025-02-12T06:38:06.143Z"
   },
   {
    "duration": 4,
    "start_time": "2025-02-12T06:38:06.202Z"
   },
   {
    "duration": 49,
    "start_time": "2025-02-12T06:38:06.207Z"
   },
   {
    "duration": 33,
    "start_time": "2025-02-12T06:38:06.257Z"
   },
   {
    "duration": 18,
    "start_time": "2025-02-12T06:38:06.291Z"
   },
   {
    "duration": 41,
    "start_time": "2025-02-12T06:38:06.314Z"
   },
   {
    "duration": 151,
    "start_time": "2025-02-12T06:38:06.356Z"
   },
   {
    "duration": 2,
    "start_time": "2025-02-12T06:38:06.510Z"
   },
   {
    "duration": 4,
    "start_time": "2025-02-12T06:38:06.513Z"
   },
   {
    "duration": 4,
    "start_time": "2025-02-12T06:38:06.518Z"
   },
   {
    "duration": 3,
    "start_time": "2025-02-12T06:38:06.523Z"
   },
   {
    "duration": 3,
    "start_time": "2025-02-12T06:38:06.543Z"
   },
   {
    "duration": 3,
    "start_time": "2025-02-12T06:38:06.547Z"
   },
   {
    "duration": 4,
    "start_time": "2025-02-12T06:38:06.551Z"
   },
   {
    "duration": 4,
    "start_time": "2025-02-12T06:38:06.556Z"
   },
   {
    "duration": 3,
    "start_time": "2025-02-12T06:38:06.561Z"
   },
   {
    "duration": 3,
    "start_time": "2025-02-12T06:38:06.566Z"
   },
   {
    "duration": 423,
    "start_time": "2025-02-12T06:38:48.593Z"
   },
   {
    "duration": 232,
    "start_time": "2025-02-12T06:38:49.018Z"
   },
   {
    "duration": 17,
    "start_time": "2025-02-12T06:38:49.251Z"
   },
   {
    "duration": 12,
    "start_time": "2025-02-12T06:38:49.270Z"
   },
   {
    "duration": 12,
    "start_time": "2025-02-12T06:38:49.284Z"
   },
   {
    "duration": 8,
    "start_time": "2025-02-12T06:38:49.297Z"
   },
   {
    "duration": 8,
    "start_time": "2025-02-12T06:38:49.307Z"
   },
   {
    "duration": 30,
    "start_time": "2025-02-12T06:38:49.317Z"
   },
   {
    "duration": 6,
    "start_time": "2025-02-12T06:38:49.348Z"
   },
   {
    "duration": 9,
    "start_time": "2025-02-12T06:38:49.358Z"
   },
   {
    "duration": 5,
    "start_time": "2025-02-12T06:38:49.368Z"
   },
   {
    "duration": 4,
    "start_time": "2025-02-12T06:38:49.375Z"
   },
   {
    "duration": 9,
    "start_time": "2025-02-12T06:38:49.381Z"
   },
   {
    "duration": 6,
    "start_time": "2025-02-12T06:38:49.392Z"
   },
   {
    "duration": 78,
    "start_time": "2025-02-12T06:38:49.399Z"
   },
   {
    "duration": 4,
    "start_time": "2025-02-12T06:38:49.478Z"
   },
   {
    "duration": 86,
    "start_time": "2025-02-12T06:38:49.485Z"
   },
   {
    "duration": 22,
    "start_time": "2025-02-12T06:38:49.573Z"
   },
   {
    "duration": 6,
    "start_time": "2025-02-12T06:38:49.597Z"
   },
   {
    "duration": 64,
    "start_time": "2025-02-12T06:38:49.604Z"
   },
   {
    "duration": 18,
    "start_time": "2025-02-12T06:38:49.670Z"
   },
   {
    "duration": 8,
    "start_time": "2025-02-12T06:38:49.689Z"
   },
   {
    "duration": 74,
    "start_time": "2025-02-12T06:38:49.698Z"
   },
   {
    "duration": 5,
    "start_time": "2025-02-12T06:38:49.774Z"
   },
   {
    "duration": 31,
    "start_time": "2025-02-12T06:38:49.781Z"
   },
   {
    "duration": 50,
    "start_time": "2025-02-12T06:38:49.814Z"
   },
   {
    "duration": 18,
    "start_time": "2025-02-12T06:38:49.866Z"
   },
   {
    "duration": 22,
    "start_time": "2025-02-12T06:38:49.888Z"
   },
   {
    "duration": 452,
    "start_time": "2025-02-12T06:38:49.911Z"
   },
   {
    "duration": 0,
    "start_time": "2025-02-12T06:38:50.365Z"
   },
   {
    "duration": 0,
    "start_time": "2025-02-12T06:38:50.366Z"
   },
   {
    "duration": 0,
    "start_time": "2025-02-12T06:38:50.368Z"
   },
   {
    "duration": 0,
    "start_time": "2025-02-12T06:38:50.369Z"
   },
   {
    "duration": 0,
    "start_time": "2025-02-12T06:38:50.370Z"
   },
   {
    "duration": 0,
    "start_time": "2025-02-12T06:38:50.371Z"
   },
   {
    "duration": 0,
    "start_time": "2025-02-12T06:38:50.371Z"
   },
   {
    "duration": 0,
    "start_time": "2025-02-12T06:38:50.372Z"
   },
   {
    "duration": 0,
    "start_time": "2025-02-12T06:38:50.374Z"
   },
   {
    "duration": 0,
    "start_time": "2025-02-12T06:38:50.375Z"
   },
   {
    "duration": 423,
    "start_time": "2025-02-12T06:39:12.239Z"
   },
   {
    "duration": 239,
    "start_time": "2025-02-12T06:39:12.664Z"
   },
   {
    "duration": 15,
    "start_time": "2025-02-12T06:39:12.905Z"
   },
   {
    "duration": 12,
    "start_time": "2025-02-12T06:39:12.922Z"
   },
   {
    "duration": 11,
    "start_time": "2025-02-12T06:39:12.937Z"
   },
   {
    "duration": 11,
    "start_time": "2025-02-12T06:39:12.950Z"
   },
   {
    "duration": 10,
    "start_time": "2025-02-12T06:39:12.967Z"
   },
   {
    "duration": 11,
    "start_time": "2025-02-12T06:39:12.979Z"
   },
   {
    "duration": 7,
    "start_time": "2025-02-12T06:39:12.991Z"
   },
   {
    "duration": 9,
    "start_time": "2025-02-12T06:39:13.000Z"
   },
   {
    "duration": 34,
    "start_time": "2025-02-12T06:39:13.010Z"
   },
   {
    "duration": 5,
    "start_time": "2025-02-12T06:39:13.045Z"
   },
   {
    "duration": 10,
    "start_time": "2025-02-12T06:39:13.051Z"
   },
   {
    "duration": 6,
    "start_time": "2025-02-12T06:39:13.065Z"
   },
   {
    "duration": 43,
    "start_time": "2025-02-12T06:39:13.073Z"
   },
   {
    "duration": 5,
    "start_time": "2025-02-12T06:39:13.142Z"
   },
   {
    "duration": 71,
    "start_time": "2025-02-12T06:39:13.148Z"
   },
   {
    "duration": 38,
    "start_time": "2025-02-12T06:39:13.221Z"
   },
   {
    "duration": 7,
    "start_time": "2025-02-12T06:39:13.261Z"
   },
   {
    "duration": 44,
    "start_time": "2025-02-12T06:39:13.269Z"
   },
   {
    "duration": 35,
    "start_time": "2025-02-12T06:39:13.315Z"
   },
   {
    "duration": 8,
    "start_time": "2025-02-12T06:39:13.351Z"
   },
   {
    "duration": 55,
    "start_time": "2025-02-12T06:39:13.360Z"
   },
   {
    "duration": 26,
    "start_time": "2025-02-12T06:39:13.417Z"
   },
   {
    "duration": 31,
    "start_time": "2025-02-12T06:39:13.444Z"
   },
   {
    "duration": 29,
    "start_time": "2025-02-12T06:39:13.477Z"
   },
   {
    "duration": 35,
    "start_time": "2025-02-12T06:39:13.507Z"
   },
   {
    "duration": 22,
    "start_time": "2025-02-12T06:39:13.544Z"
   },
   {
    "duration": 114,
    "start_time": "2025-02-12T06:39:13.567Z"
   },
   {
    "duration": 2,
    "start_time": "2025-02-12T06:39:13.683Z"
   },
   {
    "duration": 3,
    "start_time": "2025-02-12T06:39:13.686Z"
   },
   {
    "duration": 3,
    "start_time": "2025-02-12T06:39:13.691Z"
   },
   {
    "duration": 4,
    "start_time": "2025-02-12T06:39:13.695Z"
   },
   {
    "duration": 3,
    "start_time": "2025-02-12T06:39:13.700Z"
   },
   {
    "duration": 3,
    "start_time": "2025-02-12T06:39:13.705Z"
   },
   {
    "duration": 3,
    "start_time": "2025-02-12T06:39:13.710Z"
   },
   {
    "duration": 27,
    "start_time": "2025-02-12T06:39:13.715Z"
   },
   {
    "duration": 2,
    "start_time": "2025-02-12T06:39:13.744Z"
   },
   {
    "duration": 3,
    "start_time": "2025-02-12T06:39:13.748Z"
   },
   {
    "duration": 431,
    "start_time": "2025-02-12T16:51:38.152Z"
   },
   {
    "duration": 250,
    "start_time": "2025-02-12T16:51:38.893Z"
   },
   {
    "duration": 16,
    "start_time": "2025-02-12T16:51:39.430Z"
   },
   {
    "duration": 13,
    "start_time": "2025-02-12T16:51:39.749Z"
   },
   {
    "duration": 12,
    "start_time": "2025-02-12T16:51:39.885Z"
   },
   {
    "duration": 8,
    "start_time": "2025-02-12T16:51:40.010Z"
   },
   {
    "duration": 9,
    "start_time": "2025-02-12T16:51:40.137Z"
   },
   {
    "duration": 10,
    "start_time": "2025-02-12T16:51:40.480Z"
   },
   {
    "duration": 6,
    "start_time": "2025-02-12T16:51:40.653Z"
   },
   {
    "duration": 10,
    "start_time": "2025-02-12T16:51:42.167Z"
   },
   {
    "duration": 5,
    "start_time": "2025-02-12T16:51:42.349Z"
   },
   {
    "duration": 5,
    "start_time": "2025-02-12T16:51:43.220Z"
   },
   {
    "duration": 9,
    "start_time": "2025-02-12T16:51:43.550Z"
   },
   {
    "duration": 8,
    "start_time": "2025-02-12T16:51:44.135Z"
   },
   {
    "duration": 41,
    "start_time": "2025-02-12T16:51:44.435Z"
   },
   {
    "duration": 5,
    "start_time": "2025-02-12T16:51:44.615Z"
   },
   {
    "duration": 72,
    "start_time": "2025-02-12T16:51:45.133Z"
   },
   {
    "duration": 23,
    "start_time": "2025-02-12T16:51:46.275Z"
   },
   {
    "duration": 8,
    "start_time": "2025-02-12T16:51:46.462Z"
   },
   {
    "duration": 47,
    "start_time": "2025-02-12T16:51:47.257Z"
   },
   {
    "duration": 18,
    "start_time": "2025-02-12T16:51:48.267Z"
   },
   {
    "duration": 8,
    "start_time": "2025-02-12T16:51:48.475Z"
   },
   {
    "duration": 55,
    "start_time": "2025-02-12T16:51:49.256Z"
   },
   {
    "duration": 5,
    "start_time": "2025-02-12T16:51:51.003Z"
   },
   {
    "duration": 32,
    "start_time": "2025-02-12T16:51:51.447Z"
   },
   {
    "duration": 29,
    "start_time": "2025-02-12T16:51:51.646Z"
   },
   {
    "duration": 20,
    "start_time": "2025-02-12T16:51:51.896Z"
   },
   {
    "duration": 25,
    "start_time": "2025-02-12T16:51:52.040Z"
   },
   {
    "duration": 100,
    "start_time": "2025-02-12T16:51:52.479Z"
   },
   {
    "duration": 2,
    "start_time": "2025-02-12T16:51:52.746Z"
   },
   {
    "duration": 3,
    "start_time": "2025-02-12T16:51:53.374Z"
   },
   {
    "duration": 158,
    "start_time": "2025-02-12T16:52:20.948Z"
   },
   {
    "duration": 520,
    "start_time": "2025-02-12T16:52:29.419Z"
   },
   {
    "duration": 200,
    "start_time": "2025-02-12T16:52:29.941Z"
   },
   {
    "duration": 17,
    "start_time": "2025-02-12T16:52:30.213Z"
   },
   {
    "duration": 15,
    "start_time": "2025-02-12T16:52:30.493Z"
   },
   {
    "duration": 11,
    "start_time": "2025-02-12T16:52:30.538Z"
   },
   {
    "duration": 9,
    "start_time": "2025-02-12T16:52:30.694Z"
   },
   {
    "duration": 9,
    "start_time": "2025-02-12T16:52:30.861Z"
   },
   {
    "duration": 10,
    "start_time": "2025-02-12T16:52:31.221Z"
   },
   {
    "duration": 6,
    "start_time": "2025-02-12T16:52:31.341Z"
   },
   {
    "duration": 10,
    "start_time": "2025-02-12T16:52:32.824Z"
   },
   {
    "duration": 6,
    "start_time": "2025-02-12T16:52:32.989Z"
   },
   {
    "duration": 5,
    "start_time": "2025-02-12T16:52:33.818Z"
   },
   {
    "duration": 9,
    "start_time": "2025-02-12T16:52:34.158Z"
   },
   {
    "duration": 7,
    "start_time": "2025-02-12T16:52:34.693Z"
   },
   {
    "duration": 41,
    "start_time": "2025-02-12T16:52:35.027Z"
   },
   {
    "duration": 6,
    "start_time": "2025-02-12T16:52:35.199Z"
   },
   {
    "duration": 69,
    "start_time": "2025-02-12T16:52:35.739Z"
   },
   {
    "duration": 23,
    "start_time": "2025-02-12T16:52:36.641Z"
   },
   {
    "duration": 6,
    "start_time": "2025-02-12T16:52:36.826Z"
   },
   {
    "duration": 44,
    "start_time": "2025-02-12T16:52:37.539Z"
   },
   {
    "duration": 17,
    "start_time": "2025-02-12T16:52:38.448Z"
   },
   {
    "duration": 8,
    "start_time": "2025-02-12T16:52:38.642Z"
   },
   {
    "duration": 56,
    "start_time": "2025-02-12T16:52:39.376Z"
   },
   {
    "duration": 5,
    "start_time": "2025-02-12T16:52:40.452Z"
   },
   {
    "duration": 32,
    "start_time": "2025-02-12T16:52:40.809Z"
   },
   {
    "duration": 30,
    "start_time": "2025-02-12T16:52:41.022Z"
   },
   {
    "duration": 19,
    "start_time": "2025-02-12T16:52:41.189Z"
   },
   {
    "duration": 21,
    "start_time": "2025-02-12T16:52:41.354Z"
   },
   {
    "duration": 155,
    "start_time": "2025-02-12T16:52:42.334Z"
   },
   {
    "duration": 684,
    "start_time": "2025-02-12T16:53:10.174Z"
   },
   {
    "duration": 3,
    "start_time": "2025-02-12T16:53:26.646Z"
   },
   {
    "duration": 160,
    "start_time": "2025-02-12T16:53:26.651Z"
   },
   {
    "duration": 16,
    "start_time": "2025-02-12T16:53:26.813Z"
   },
   {
    "duration": 12,
    "start_time": "2025-02-12T16:53:26.832Z"
   },
   {
    "duration": 11,
    "start_time": "2025-02-12T16:53:26.846Z"
   },
   {
    "duration": 8,
    "start_time": "2025-02-12T16:53:26.858Z"
   },
   {
    "duration": 38,
    "start_time": "2025-02-12T16:53:26.868Z"
   },
   {
    "duration": 8,
    "start_time": "2025-02-12T16:53:26.907Z"
   },
   {
    "duration": 6,
    "start_time": "2025-02-12T16:53:26.917Z"
   },
   {
    "duration": 8,
    "start_time": "2025-02-12T16:53:26.926Z"
   },
   {
    "duration": 4,
    "start_time": "2025-02-12T16:53:26.936Z"
   },
   {
    "duration": 5,
    "start_time": "2025-02-12T16:53:26.942Z"
   },
   {
    "duration": 7,
    "start_time": "2025-02-12T16:53:26.948Z"
   },
   {
    "duration": 6,
    "start_time": "2025-02-12T16:53:26.957Z"
   },
   {
    "duration": 79,
    "start_time": "2025-02-12T16:53:26.965Z"
   },
   {
    "duration": 4,
    "start_time": "2025-02-12T16:53:27.047Z"
   },
   {
    "duration": 84,
    "start_time": "2025-02-12T16:53:27.053Z"
   },
   {
    "duration": 22,
    "start_time": "2025-02-12T16:53:27.139Z"
   },
   {
    "duration": 7,
    "start_time": "2025-02-12T16:53:27.164Z"
   },
   {
    "duration": 72,
    "start_time": "2025-02-12T16:53:27.172Z"
   },
   {
    "duration": 17,
    "start_time": "2025-02-12T16:53:27.245Z"
   },
   {
    "duration": 8,
    "start_time": "2025-02-12T16:53:27.264Z"
   },
   {
    "duration": 71,
    "start_time": "2025-02-12T16:53:27.273Z"
   },
   {
    "duration": 4,
    "start_time": "2025-02-12T16:53:27.346Z"
   },
   {
    "duration": 28,
    "start_time": "2025-02-12T16:53:27.352Z"
   },
   {
    "duration": 43,
    "start_time": "2025-02-12T16:53:27.381Z"
   },
   {
    "duration": 19,
    "start_time": "2025-02-12T16:53:27.426Z"
   },
   {
    "duration": 66,
    "start_time": "2025-02-12T16:53:27.448Z"
   },
   {
    "duration": 19,
    "start_time": "2025-02-12T16:53:27.516Z"
   },
   {
    "duration": 2,
    "start_time": "2025-02-12T16:53:27.536Z"
   },
   {
    "duration": 2,
    "start_time": "2025-02-12T16:53:27.540Z"
   },
   {
    "duration": 2,
    "start_time": "2025-02-12T16:53:27.544Z"
   },
   {
    "duration": 3,
    "start_time": "2025-02-12T16:53:27.548Z"
   },
   {
    "duration": 3,
    "start_time": "2025-02-12T16:53:27.552Z"
   },
   {
    "duration": 2,
    "start_time": "2025-02-12T16:53:27.557Z"
   },
   {
    "duration": 2,
    "start_time": "2025-02-12T16:53:27.561Z"
   },
   {
    "duration": 42,
    "start_time": "2025-02-12T16:53:27.564Z"
   },
   {
    "duration": 4,
    "start_time": "2025-02-12T16:53:27.607Z"
   },
   {
    "duration": 3,
    "start_time": "2025-02-12T16:53:27.612Z"
   },
   {
    "duration": 56,
    "start_time": "2025-02-12T16:54:03.893Z"
   },
   {
    "duration": 26,
    "start_time": "2025-02-12T16:59:18.852Z"
   },
   {
    "duration": 26,
    "start_time": "2025-02-12T16:59:34.860Z"
   },
   {
    "duration": 26,
    "start_time": "2025-02-12T17:00:01.102Z"
   },
   {
    "duration": 2,
    "start_time": "2025-02-12T17:00:14.853Z"
   },
   {
    "duration": 137,
    "start_time": "2025-02-12T17:00:14.858Z"
   },
   {
    "duration": 15,
    "start_time": "2025-02-12T17:00:14.997Z"
   },
   {
    "duration": 14,
    "start_time": "2025-02-12T17:00:15.014Z"
   },
   {
    "duration": 12,
    "start_time": "2025-02-12T17:00:15.029Z"
   },
   {
    "duration": 8,
    "start_time": "2025-02-12T17:00:15.042Z"
   },
   {
    "duration": 8,
    "start_time": "2025-02-12T17:00:15.051Z"
   },
   {
    "duration": 9,
    "start_time": "2025-02-12T17:00:15.060Z"
   },
   {
    "duration": 38,
    "start_time": "2025-02-12T17:00:15.071Z"
   },
   {
    "duration": 10,
    "start_time": "2025-02-12T17:00:15.112Z"
   },
   {
    "duration": 6,
    "start_time": "2025-02-12T17:00:15.124Z"
   },
   {
    "duration": 5,
    "start_time": "2025-02-12T17:00:15.132Z"
   },
   {
    "duration": 8,
    "start_time": "2025-02-12T17:00:15.139Z"
   },
   {
    "duration": 7,
    "start_time": "2025-02-12T17:00:15.149Z"
   },
   {
    "duration": 83,
    "start_time": "2025-02-12T17:00:15.159Z"
   },
   {
    "duration": 4,
    "start_time": "2025-02-12T17:00:15.244Z"
   },
   {
    "duration": 80,
    "start_time": "2025-02-12T17:00:15.250Z"
   },
   {
    "duration": 23,
    "start_time": "2025-02-12T17:00:15.332Z"
   },
   {
    "duration": 8,
    "start_time": "2025-02-12T17:00:15.356Z"
   },
   {
    "duration": 66,
    "start_time": "2025-02-12T17:00:15.366Z"
   },
   {
    "duration": 19,
    "start_time": "2025-02-12T17:00:15.434Z"
   },
   {
    "duration": 8,
    "start_time": "2025-02-12T17:00:15.455Z"
   },
   {
    "duration": 81,
    "start_time": "2025-02-12T17:00:15.465Z"
   },
   {
    "duration": 4,
    "start_time": "2025-02-12T17:00:15.548Z"
   },
   {
    "duration": 28,
    "start_time": "2025-02-12T17:00:15.554Z"
   },
   {
    "duration": 44,
    "start_time": "2025-02-12T17:00:15.584Z"
   },
   {
    "duration": 18,
    "start_time": "2025-02-12T17:00:15.630Z"
   },
   {
    "duration": 22,
    "start_time": "2025-02-12T17:00:15.652Z"
   },
   {
    "duration": 45,
    "start_time": "2025-02-12T17:00:15.676Z"
   },
   {
    "duration": 4,
    "start_time": "2025-02-12T17:00:15.724Z"
   },
   {
    "duration": 2,
    "start_time": "2025-02-12T17:00:15.730Z"
   },
   {
    "duration": 2,
    "start_time": "2025-02-12T17:00:15.733Z"
   },
   {
    "duration": 2,
    "start_time": "2025-02-12T17:00:15.737Z"
   },
   {
    "duration": 2,
    "start_time": "2025-02-12T17:00:15.741Z"
   },
   {
    "duration": 2,
    "start_time": "2025-02-12T17:00:15.745Z"
   },
   {
    "duration": 2,
    "start_time": "2025-02-12T17:00:15.749Z"
   },
   {
    "duration": 2,
    "start_time": "2025-02-12T17:00:15.753Z"
   },
   {
    "duration": 2,
    "start_time": "2025-02-12T17:00:15.757Z"
   },
   {
    "duration": 2,
    "start_time": "2025-02-12T17:00:15.761Z"
   },
   {
    "duration": 24,
    "start_time": "2025-02-12T17:00:28.918Z"
   },
   {
    "duration": 3,
    "start_time": "2025-02-12T17:00:35.108Z"
   },
   {
    "duration": 153,
    "start_time": "2025-02-12T17:00:35.113Z"
   },
   {
    "duration": 14,
    "start_time": "2025-02-12T17:00:35.268Z"
   },
   {
    "duration": 12,
    "start_time": "2025-02-12T17:00:35.285Z"
   },
   {
    "duration": 11,
    "start_time": "2025-02-12T17:00:35.304Z"
   },
   {
    "duration": 8,
    "start_time": "2025-02-12T17:00:35.317Z"
   },
   {
    "duration": 8,
    "start_time": "2025-02-12T17:00:35.326Z"
   },
   {
    "duration": 8,
    "start_time": "2025-02-12T17:00:35.336Z"
   },
   {
    "duration": 4,
    "start_time": "2025-02-12T17:00:35.346Z"
   },
   {
    "duration": 9,
    "start_time": "2025-02-12T17:00:35.352Z"
   },
   {
    "duration": 4,
    "start_time": "2025-02-12T17:00:35.405Z"
   },
   {
    "duration": 4,
    "start_time": "2025-02-12T17:00:35.411Z"
   },
   {
    "duration": 9,
    "start_time": "2025-02-12T17:00:35.417Z"
   },
   {
    "duration": 6,
    "start_time": "2025-02-12T17:00:35.430Z"
   },
   {
    "duration": 35,
    "start_time": "2025-02-12T17:00:35.437Z"
   },
   {
    "duration": 34,
    "start_time": "2025-02-12T17:00:35.475Z"
   },
   {
    "duration": 69,
    "start_time": "2025-02-12T17:00:35.510Z"
   },
   {
    "duration": 40,
    "start_time": "2025-02-12T17:00:35.581Z"
   },
   {
    "duration": 7,
    "start_time": "2025-02-12T17:00:35.622Z"
   },
   {
    "duration": 45,
    "start_time": "2025-02-12T17:00:35.631Z"
   },
   {
    "duration": 38,
    "start_time": "2025-02-12T17:00:35.678Z"
   },
   {
    "duration": 8,
    "start_time": "2025-02-12T17:00:35.718Z"
   },
   {
    "duration": 55,
    "start_time": "2025-02-12T17:00:35.728Z"
   },
   {
    "duration": 21,
    "start_time": "2025-02-12T17:00:35.785Z"
   },
   {
    "duration": 28,
    "start_time": "2025-02-12T17:00:35.808Z"
   },
   {
    "duration": 26,
    "start_time": "2025-02-12T17:00:35.838Z"
   },
   {
    "duration": 41,
    "start_time": "2025-02-12T17:00:35.867Z"
   },
   {
    "duration": 23,
    "start_time": "2025-02-12T17:00:35.910Z"
   },
   {
    "duration": 19,
    "start_time": "2025-02-12T17:00:35.935Z"
   },
   {
    "duration": 2,
    "start_time": "2025-02-12T17:00:35.956Z"
   },
   {
    "duration": 3,
    "start_time": "2025-02-12T17:00:35.959Z"
   },
   {
    "duration": 3,
    "start_time": "2025-02-12T17:00:35.963Z"
   },
   {
    "duration": 3,
    "start_time": "2025-02-12T17:00:35.967Z"
   },
   {
    "duration": 36,
    "start_time": "2025-02-12T17:00:35.971Z"
   },
   {
    "duration": 2,
    "start_time": "2025-02-12T17:00:36.009Z"
   },
   {
    "duration": 2,
    "start_time": "2025-02-12T17:00:36.013Z"
   },
   {
    "duration": 2,
    "start_time": "2025-02-12T17:00:36.017Z"
   },
   {
    "duration": 2,
    "start_time": "2025-02-12T17:00:36.022Z"
   },
   {
    "duration": 2,
    "start_time": "2025-02-12T17:00:36.026Z"
   },
   {
    "duration": 3,
    "start_time": "2025-02-12T17:01:03.250Z"
   },
   {
    "duration": 134,
    "start_time": "2025-02-12T17:01:03.255Z"
   },
   {
    "duration": 14,
    "start_time": "2025-02-12T17:01:03.391Z"
   },
   {
    "duration": 16,
    "start_time": "2025-02-12T17:01:03.408Z"
   },
   {
    "duration": 15,
    "start_time": "2025-02-12T17:01:03.427Z"
   },
   {
    "duration": 9,
    "start_time": "2025-02-12T17:01:03.444Z"
   },
   {
    "duration": 9,
    "start_time": "2025-02-12T17:01:03.454Z"
   },
   {
    "duration": 8,
    "start_time": "2025-02-12T17:01:03.465Z"
   },
   {
    "duration": 33,
    "start_time": "2025-02-12T17:01:03.475Z"
   },
   {
    "duration": 9,
    "start_time": "2025-02-12T17:01:03.510Z"
   },
   {
    "duration": 5,
    "start_time": "2025-02-12T17:01:03.521Z"
   },
   {
    "duration": 6,
    "start_time": "2025-02-12T17:01:03.527Z"
   },
   {
    "duration": 8,
    "start_time": "2025-02-12T17:01:03.534Z"
   },
   {
    "duration": 5,
    "start_time": "2025-02-12T17:01:03.546Z"
   },
   {
    "duration": 72,
    "start_time": "2025-02-12T17:01:03.553Z"
   },
   {
    "duration": 4,
    "start_time": "2025-02-12T17:01:03.627Z"
   },
   {
    "duration": 79,
    "start_time": "2025-02-12T17:01:03.633Z"
   },
   {
    "duration": 23,
    "start_time": "2025-02-12T17:01:03.714Z"
   },
   {
    "duration": 7,
    "start_time": "2025-02-12T17:01:03.738Z"
   },
   {
    "duration": 64,
    "start_time": "2025-02-12T17:01:03.746Z"
   },
   {
    "duration": 18,
    "start_time": "2025-02-12T17:01:03.812Z"
   },
   {
    "duration": 10,
    "start_time": "2025-02-12T17:01:03.831Z"
   },
   {
    "duration": 70,
    "start_time": "2025-02-12T17:01:03.842Z"
   },
   {
    "duration": 4,
    "start_time": "2025-02-12T17:01:03.914Z"
   },
   {
    "duration": 26,
    "start_time": "2025-02-12T17:01:03.920Z"
   },
   {
    "duration": 25,
    "start_time": "2025-02-12T17:01:03.948Z"
   },
   {
    "duration": 41,
    "start_time": "2025-02-12T17:01:03.975Z"
   },
   {
    "duration": 67,
    "start_time": "2025-02-12T17:01:04.019Z"
   },
   {
    "duration": 21,
    "start_time": "2025-02-12T17:01:04.105Z"
   },
   {
    "duration": 2,
    "start_time": "2025-02-12T17:01:04.128Z"
   },
   {
    "duration": 3,
    "start_time": "2025-02-12T17:01:04.132Z"
   },
   {
    "duration": 2,
    "start_time": "2025-02-12T17:01:04.140Z"
   },
   {
    "duration": 4,
    "start_time": "2025-02-12T17:01:04.143Z"
   },
   {
    "duration": 6,
    "start_time": "2025-02-12T17:01:04.148Z"
   },
   {
    "duration": 6,
    "start_time": "2025-02-12T17:01:04.155Z"
   },
   {
    "duration": 2,
    "start_time": "2025-02-12T17:01:04.162Z"
   },
   {
    "duration": 3,
    "start_time": "2025-02-12T17:01:04.166Z"
   },
   {
    "duration": 2,
    "start_time": "2025-02-12T17:01:04.171Z"
   },
   {
    "duration": 31,
    "start_time": "2025-02-12T17:01:04.175Z"
   },
   {
    "duration": 2,
    "start_time": "2025-02-12T17:01:10.198Z"
   },
   {
    "duration": 140,
    "start_time": "2025-02-12T17:01:10.202Z"
   },
   {
    "duration": 16,
    "start_time": "2025-02-12T17:01:10.344Z"
   },
   {
    "duration": 13,
    "start_time": "2025-02-12T17:01:10.361Z"
   },
   {
    "duration": 11,
    "start_time": "2025-02-12T17:01:10.376Z"
   },
   {
    "duration": 9,
    "start_time": "2025-02-12T17:01:10.405Z"
   },
   {
    "duration": 8,
    "start_time": "2025-02-12T17:01:10.416Z"
   },
   {
    "duration": 9,
    "start_time": "2025-02-12T17:01:10.426Z"
   },
   {
    "duration": 5,
    "start_time": "2025-02-12T17:01:10.436Z"
   },
   {
    "duration": 8,
    "start_time": "2025-02-12T17:01:10.443Z"
   },
   {
    "duration": 4,
    "start_time": "2025-02-12T17:01:10.455Z"
   },
   {
    "duration": 45,
    "start_time": "2025-02-12T17:01:10.461Z"
   },
   {
    "duration": 8,
    "start_time": "2025-02-12T17:01:10.507Z"
   },
   {
    "duration": 7,
    "start_time": "2025-02-12T17:01:10.517Z"
   },
   {
    "duration": 38,
    "start_time": "2025-02-12T17:01:10.526Z"
   },
   {
    "duration": 4,
    "start_time": "2025-02-12T17:01:10.566Z"
   },
   {
    "duration": 100,
    "start_time": "2025-02-12T17:01:10.572Z"
   },
   {
    "duration": 32,
    "start_time": "2025-02-12T17:01:10.674Z"
   },
   {
    "duration": 7,
    "start_time": "2025-02-12T17:01:10.708Z"
   },
   {
    "duration": 45,
    "start_time": "2025-02-12T17:01:10.717Z"
   },
   {
    "duration": 17,
    "start_time": "2025-02-12T17:01:10.763Z"
   },
   {
    "duration": 30,
    "start_time": "2025-02-12T17:01:10.781Z"
   },
   {
    "duration": 56,
    "start_time": "2025-02-12T17:01:10.813Z"
   },
   {
    "duration": 6,
    "start_time": "2025-02-12T17:01:10.870Z"
   },
   {
    "duration": 51,
    "start_time": "2025-02-12T17:01:10.878Z"
   },
   {
    "duration": 28,
    "start_time": "2025-02-12T17:01:10.931Z"
   },
   {
    "duration": 17,
    "start_time": "2025-02-12T17:01:10.961Z"
   },
   {
    "duration": 42,
    "start_time": "2025-02-12T17:01:10.980Z"
   },
   {
    "duration": 20,
    "start_time": "2025-02-12T17:01:11.026Z"
   },
   {
    "duration": 2,
    "start_time": "2025-02-12T17:01:11.048Z"
   },
   {
    "duration": 3,
    "start_time": "2025-02-12T17:01:11.052Z"
   },
   {
    "duration": 3,
    "start_time": "2025-02-12T17:01:11.056Z"
   },
   {
    "duration": 2,
    "start_time": "2025-02-12T17:01:11.061Z"
   },
   {
    "duration": 3,
    "start_time": "2025-02-12T17:01:11.064Z"
   },
   {
    "duration": 39,
    "start_time": "2025-02-12T17:01:11.068Z"
   },
   {
    "duration": 2,
    "start_time": "2025-02-12T17:01:11.108Z"
   },
   {
    "duration": 2,
    "start_time": "2025-02-12T17:01:11.112Z"
   },
   {
    "duration": 2,
    "start_time": "2025-02-12T17:01:11.116Z"
   },
   {
    "duration": 3,
    "start_time": "2025-02-12T17:01:11.120Z"
   },
   {
    "duration": 14,
    "start_time": "2025-02-12T17:06:17.259Z"
   },
   {
    "duration": 21,
    "start_time": "2025-02-12T17:08:55.630Z"
   },
   {
    "duration": 8,
    "start_time": "2025-02-12T17:09:23.388Z"
   },
   {
    "duration": 2,
    "start_time": "2025-02-12T17:09:55.794Z"
   },
   {
    "duration": 136,
    "start_time": "2025-02-12T17:09:55.798Z"
   },
   {
    "duration": 15,
    "start_time": "2025-02-12T17:09:55.936Z"
   },
   {
    "duration": 12,
    "start_time": "2025-02-12T17:09:55.953Z"
   },
   {
    "duration": 10,
    "start_time": "2025-02-12T17:09:55.968Z"
   },
   {
    "duration": 26,
    "start_time": "2025-02-12T17:09:55.979Z"
   },
   {
    "duration": 8,
    "start_time": "2025-02-12T17:09:56.007Z"
   },
   {
    "duration": 9,
    "start_time": "2025-02-12T17:09:56.018Z"
   },
   {
    "duration": 5,
    "start_time": "2025-02-12T17:09:56.029Z"
   },
   {
    "duration": 9,
    "start_time": "2025-02-12T17:09:56.036Z"
   },
   {
    "duration": 5,
    "start_time": "2025-02-12T17:09:56.046Z"
   },
   {
    "duration": 5,
    "start_time": "2025-02-12T17:09:56.053Z"
   },
   {
    "duration": 47,
    "start_time": "2025-02-12T17:09:56.059Z"
   },
   {
    "duration": 7,
    "start_time": "2025-02-12T17:09:56.109Z"
   },
   {
    "duration": 37,
    "start_time": "2025-02-12T17:09:56.117Z"
   },
   {
    "duration": 5,
    "start_time": "2025-02-12T17:09:56.155Z"
   },
   {
    "duration": 92,
    "start_time": "2025-02-12T17:09:56.162Z"
   },
   {
    "duration": 21,
    "start_time": "2025-02-12T17:09:56.256Z"
   },
   {
    "duration": 6,
    "start_time": "2025-02-12T17:09:56.279Z"
   },
   {
    "duration": 58,
    "start_time": "2025-02-12T17:09:56.286Z"
   },
   {
    "duration": 17,
    "start_time": "2025-02-12T17:09:56.346Z"
   },
   {
    "duration": 7,
    "start_time": "2025-02-12T17:09:56.365Z"
   },
   {
    "duration": 75,
    "start_time": "2025-02-12T17:09:56.374Z"
   },
   {
    "duration": 5,
    "start_time": "2025-02-12T17:09:56.451Z"
   },
   {
    "duration": 27,
    "start_time": "2025-02-12T17:09:56.457Z"
   },
   {
    "duration": 39,
    "start_time": "2025-02-12T17:09:56.485Z"
   },
   {
    "duration": 17,
    "start_time": "2025-02-12T17:09:56.526Z"
   },
   {
    "duration": 19,
    "start_time": "2025-02-12T17:09:56.545Z"
   },
   {
    "duration": 13,
    "start_time": "2025-02-12T17:09:56.566Z"
   },
   {
    "duration": 36,
    "start_time": "2025-02-12T17:09:56.580Z"
   },
   {
    "duration": 2,
    "start_time": "2025-02-12T17:09:56.618Z"
   },
   {
    "duration": 2,
    "start_time": "2025-02-12T17:09:56.622Z"
   },
   {
    "duration": 3,
    "start_time": "2025-02-12T17:09:56.626Z"
   },
   {
    "duration": 3,
    "start_time": "2025-02-12T17:09:56.630Z"
   },
   {
    "duration": 3,
    "start_time": "2025-02-12T17:09:56.634Z"
   },
   {
    "duration": 2,
    "start_time": "2025-02-12T17:09:56.639Z"
   },
   {
    "duration": 2,
    "start_time": "2025-02-12T17:09:56.642Z"
   },
   {
    "duration": 3,
    "start_time": "2025-02-12T17:09:56.646Z"
   },
   {
    "duration": 2,
    "start_time": "2025-02-12T17:09:56.650Z"
   },
   {
    "duration": 201,
    "start_time": "2025-02-13T01:13:50.303Z"
   },
   {
    "duration": 2592,
    "start_time": "2025-02-13T01:32:32.972Z"
   },
   {
    "duration": 250,
    "start_time": "2025-02-13T01:32:35.566Z"
   },
   {
    "duration": 23,
    "start_time": "2025-02-13T01:32:35.817Z"
   },
   {
    "duration": 16,
    "start_time": "2025-02-13T01:32:35.842Z"
   },
   {
    "duration": 16,
    "start_time": "2025-02-13T01:32:35.861Z"
   },
   {
    "duration": 10,
    "start_time": "2025-02-13T01:32:35.879Z"
   },
   {
    "duration": 44,
    "start_time": "2025-02-13T01:32:35.890Z"
   },
   {
    "duration": 11,
    "start_time": "2025-02-13T01:32:35.937Z"
   },
   {
    "duration": 8,
    "start_time": "2025-02-13T01:32:35.950Z"
   },
   {
    "duration": 15,
    "start_time": "2025-02-13T01:32:35.960Z"
   },
   {
    "duration": 8,
    "start_time": "2025-02-13T01:32:35.976Z"
   },
   {
    "duration": 6,
    "start_time": "2025-02-13T01:32:35.985Z"
   },
   {
    "duration": 14,
    "start_time": "2025-02-13T01:32:36.023Z"
   },
   {
    "duration": 9,
    "start_time": "2025-02-13T01:32:36.043Z"
   },
   {
    "duration": 71,
    "start_time": "2025-02-13T01:32:36.054Z"
   },
   {
    "duration": 5,
    "start_time": "2025-02-13T01:32:36.127Z"
   },
   {
    "duration": 83,
    "start_time": "2025-02-13T01:32:36.134Z"
   },
   {
    "duration": 37,
    "start_time": "2025-02-13T01:32:36.225Z"
   },
   {
    "duration": 7,
    "start_time": "2025-02-13T01:32:36.263Z"
   },
   {
    "duration": 62,
    "start_time": "2025-02-13T01:32:36.272Z"
   },
   {
    "duration": 27,
    "start_time": "2025-02-13T01:32:36.335Z"
   },
   {
    "duration": 8,
    "start_time": "2025-02-13T01:32:36.364Z"
   },
   {
    "duration": 90,
    "start_time": "2025-02-13T01:32:36.373Z"
   },
   {
    "duration": 5,
    "start_time": "2025-02-13T01:32:36.465Z"
   },
   {
    "duration": 34,
    "start_time": "2025-02-13T01:32:36.471Z"
   },
   {
    "duration": 91,
    "start_time": "2025-02-13T01:32:36.506Z"
   },
   {
    "duration": 19,
    "start_time": "2025-02-13T01:32:36.599Z"
   },
   {
    "duration": 38,
    "start_time": "2025-02-13T01:32:36.625Z"
   },
   {
    "duration": 14,
    "start_time": "2025-02-13T01:32:36.665Z"
   },
   {
    "duration": 15,
    "start_time": "2025-02-13T01:32:36.680Z"
   },
   {
    "duration": 11,
    "start_time": "2025-02-13T01:32:36.696Z"
   },
   {
    "duration": 2,
    "start_time": "2025-02-13T01:32:36.725Z"
   },
   {
    "duration": 3,
    "start_time": "2025-02-13T01:32:36.729Z"
   },
   {
    "duration": 3,
    "start_time": "2025-02-13T01:32:36.733Z"
   },
   {
    "duration": 3,
    "start_time": "2025-02-13T01:32:36.738Z"
   },
   {
    "duration": 8,
    "start_time": "2025-02-13T01:32:36.742Z"
   },
   {
    "duration": 2,
    "start_time": "2025-02-13T01:32:36.751Z"
   },
   {
    "duration": 3,
    "start_time": "2025-02-13T01:32:36.755Z"
   },
   {
    "duration": 3,
    "start_time": "2025-02-13T01:32:36.759Z"
   },
   {
    "duration": 11,
    "start_time": "2025-02-13T01:32:52.956Z"
   },
   {
    "duration": 11,
    "start_time": "2025-02-13T01:33:08.778Z"
   },
   {
    "duration": 21,
    "start_time": "2025-02-13T01:34:15.281Z"
   },
   {
    "duration": 20,
    "start_time": "2025-02-13T01:34:48.536Z"
   },
   {
    "duration": 22,
    "start_time": "2025-02-13T01:35:36.738Z"
   },
   {
    "duration": 14,
    "start_time": "2025-02-13T01:35:50.899Z"
   },
   {
    "duration": 9,
    "start_time": "2025-02-13T01:36:39.007Z"
   },
   {
    "duration": 50,
    "start_time": "2025-02-13T01:36:58.367Z"
   },
   {
    "duration": 13,
    "start_time": "2025-02-13T01:37:05.808Z"
   },
   {
    "duration": 14,
    "start_time": "2025-02-13T01:41:10.450Z"
   },
   {
    "duration": 481,
    "start_time": "2025-02-13T01:43:07.871Z"
   },
   {
    "duration": 16,
    "start_time": "2025-02-13T01:44:46.591Z"
   },
   {
    "duration": 50,
    "start_time": "2025-02-13T01:52:19.347Z"
   },
   {
    "duration": 15,
    "start_time": "2025-02-13T01:52:29.311Z"
   },
   {
    "duration": 13,
    "start_time": "2025-02-13T01:57:30.579Z"
   },
   {
    "duration": 18,
    "start_time": "2025-02-13T01:57:41.240Z"
   },
   {
    "duration": 16,
    "start_time": "2025-02-13T01:57:47.390Z"
   },
   {
    "duration": 7,
    "start_time": "2025-02-13T01:57:58.121Z"
   },
   {
    "duration": 6,
    "start_time": "2025-02-13T01:58:06.323Z"
   },
   {
    "duration": 6,
    "start_time": "2025-02-13T01:58:28.933Z"
   },
   {
    "duration": 9,
    "start_time": "2025-02-13T02:02:28.933Z"
   },
   {
    "duration": 5,
    "start_time": "2025-02-13T02:02:34.644Z"
   },
   {
    "duration": 5,
    "start_time": "2025-02-13T02:02:51.570Z"
   },
   {
    "duration": 6,
    "start_time": "2025-02-13T02:04:03.162Z"
   },
   {
    "duration": 4,
    "start_time": "2025-02-13T02:08:46.451Z"
   },
   {
    "duration": 44,
    "start_time": "2025-02-13T02:09:03.082Z"
   },
   {
    "duration": 57,
    "start_time": "2025-02-13T02:09:24.474Z"
   },
   {
    "duration": 132,
    "start_time": "2025-02-13T02:09:39.561Z"
   },
   {
    "duration": 18,
    "start_time": "2025-02-13T02:10:00.356Z"
   },
   {
    "duration": 176,
    "start_time": "2025-02-13T02:10:08.133Z"
   },
   {
    "duration": 138,
    "start_time": "2025-02-13T02:10:26.110Z"
   },
   {
    "duration": 50,
    "start_time": "2025-02-13T02:10:49.173Z"
   },
   {
    "duration": 5,
    "start_time": "2025-02-13T02:10:55.773Z"
   },
   {
    "duration": 7,
    "start_time": "2025-02-13T02:11:41.800Z"
   },
   {
    "duration": 24,
    "start_time": "2025-02-13T02:12:00.446Z"
   },
   {
    "duration": 6,
    "start_time": "2025-02-13T02:12:32.470Z"
   },
   {
    "duration": 10,
    "start_time": "2025-02-13T02:13:03.255Z"
   },
   {
    "duration": 18,
    "start_time": "2025-02-13T02:14:10.869Z"
   },
   {
    "duration": 7,
    "start_time": "2025-02-13T02:14:18.785Z"
   },
   {
    "duration": 4,
    "start_time": "2025-02-13T02:17:28.323Z"
   },
   {
    "duration": 8,
    "start_time": "2025-02-13T02:17:40.054Z"
   },
   {
    "duration": 6,
    "start_time": "2025-02-13T02:17:50.032Z"
   },
   {
    "duration": 9,
    "start_time": "2025-02-13T02:18:53.272Z"
   },
   {
    "duration": 12,
    "start_time": "2025-02-13T02:19:13.485Z"
   },
   {
    "duration": 3,
    "start_time": "2025-02-13T02:24:26.313Z"
   },
   {
    "duration": 241,
    "start_time": "2025-02-13T02:24:26.319Z"
   },
   {
    "duration": 16,
    "start_time": "2025-02-13T02:24:26.563Z"
   },
   {
    "duration": 15,
    "start_time": "2025-02-13T02:24:26.582Z"
   },
   {
    "duration": 26,
    "start_time": "2025-02-13T02:24:26.599Z"
   },
   {
    "duration": 10,
    "start_time": "2025-02-13T02:24:26.627Z"
   },
   {
    "duration": 12,
    "start_time": "2025-02-13T02:24:26.638Z"
   },
   {
    "duration": 11,
    "start_time": "2025-02-13T02:24:26.652Z"
   },
   {
    "duration": 5,
    "start_time": "2025-02-13T02:24:26.667Z"
   },
   {
    "duration": 12,
    "start_time": "2025-02-13T02:24:26.676Z"
   },
   {
    "duration": 7,
    "start_time": "2025-02-13T02:24:26.725Z"
   },
   {
    "duration": 7,
    "start_time": "2025-02-13T02:24:26.735Z"
   },
   {
    "duration": 10,
    "start_time": "2025-02-13T02:24:26.744Z"
   },
   {
    "duration": 8,
    "start_time": "2025-02-13T02:24:26.756Z"
   },
   {
    "duration": 78,
    "start_time": "2025-02-13T02:24:26.767Z"
   },
   {
    "duration": 5,
    "start_time": "2025-02-13T02:24:26.847Z"
   },
   {
    "duration": 89,
    "start_time": "2025-02-13T02:24:26.855Z"
   },
   {
    "duration": 33,
    "start_time": "2025-02-13T02:24:26.946Z"
   },
   {
    "duration": 7,
    "start_time": "2025-02-13T02:24:26.981Z"
   },
   {
    "duration": 69,
    "start_time": "2025-02-13T02:24:26.992Z"
   },
   {
    "duration": 19,
    "start_time": "2025-02-13T02:24:27.063Z"
   },
   {
    "duration": 10,
    "start_time": "2025-02-13T02:24:27.085Z"
   },
   {
    "duration": 92,
    "start_time": "2025-02-13T02:24:27.097Z"
   },
   {
    "duration": 5,
    "start_time": "2025-02-13T02:24:27.194Z"
   },
   {
    "duration": 43,
    "start_time": "2025-02-13T02:24:27.201Z"
   },
   {
    "duration": 29,
    "start_time": "2025-02-13T02:24:27.245Z"
   },
   {
    "duration": 22,
    "start_time": "2025-02-13T02:24:27.276Z"
   },
   {
    "duration": 31,
    "start_time": "2025-02-13T02:24:27.324Z"
   },
   {
    "duration": 19,
    "start_time": "2025-02-13T02:24:27.357Z"
   },
   {
    "duration": 20,
    "start_time": "2025-02-13T02:24:27.378Z"
   },
   {
    "duration": 33,
    "start_time": "2025-02-13T02:24:27.400Z"
   },
   {
    "duration": 9,
    "start_time": "2025-02-13T02:24:27.435Z"
   },
   {
    "duration": 14,
    "start_time": "2025-02-13T02:24:27.446Z"
   },
   {
    "duration": 3,
    "start_time": "2025-02-13T02:24:27.461Z"
   },
   {
    "duration": 4,
    "start_time": "2025-02-13T02:24:27.465Z"
   },
   {
    "duration": 13,
    "start_time": "2025-02-13T02:24:27.471Z"
   },
   {
    "duration": 2,
    "start_time": "2025-02-13T02:24:27.486Z"
   },
   {
    "duration": 12,
    "start_time": "2025-02-13T02:24:27.526Z"
   },
   {
    "duration": 2,
    "start_time": "2025-02-13T02:24:27.540Z"
   },
   {
    "duration": 3,
    "start_time": "2025-02-13T02:24:27.544Z"
   },
   {
    "duration": 132,
    "start_time": "2025-02-13T02:26:26.032Z"
   },
   {
    "duration": 12,
    "start_time": "2025-02-13T02:27:13.781Z"
   },
   {
    "duration": 7,
    "start_time": "2025-02-13T02:31:55.425Z"
   },
   {
    "duration": 10,
    "start_time": "2025-02-13T02:32:17.607Z"
   },
   {
    "duration": 161,
    "start_time": "2025-02-13T05:48:34.449Z"
   },
   {
    "duration": 2146,
    "start_time": "2025-02-13T05:48:39.095Z"
   },
   {
    "duration": 228,
    "start_time": "2025-02-13T05:48:41.244Z"
   },
   {
    "duration": 17,
    "start_time": "2025-02-13T05:48:41.474Z"
   },
   {
    "duration": 13,
    "start_time": "2025-02-13T05:48:41.494Z"
   },
   {
    "duration": 11,
    "start_time": "2025-02-13T05:48:41.509Z"
   },
   {
    "duration": 8,
    "start_time": "2025-02-13T05:48:41.522Z"
   },
   {
    "duration": 38,
    "start_time": "2025-02-13T05:48:41.532Z"
   },
   {
    "duration": 9,
    "start_time": "2025-02-13T05:48:41.572Z"
   },
   {
    "duration": 6,
    "start_time": "2025-02-13T05:48:41.583Z"
   },
   {
    "duration": 9,
    "start_time": "2025-02-13T05:48:41.592Z"
   },
   {
    "duration": 5,
    "start_time": "2025-02-13T05:48:41.603Z"
   },
   {
    "duration": 5,
    "start_time": "2025-02-13T05:48:41.609Z"
   },
   {
    "duration": 8,
    "start_time": "2025-02-13T05:48:41.616Z"
   },
   {
    "duration": 48,
    "start_time": "2025-02-13T05:48:41.626Z"
   },
   {
    "duration": 42,
    "start_time": "2025-02-13T05:48:41.676Z"
   },
   {
    "duration": 5,
    "start_time": "2025-02-13T05:48:41.720Z"
   },
   {
    "duration": 93,
    "start_time": "2025-02-13T05:48:41.726Z"
   },
   {
    "duration": 23,
    "start_time": "2025-02-13T05:48:41.821Z"
   },
   {
    "duration": 7,
    "start_time": "2025-02-13T05:48:41.845Z"
   },
   {
    "duration": 58,
    "start_time": "2025-02-13T05:48:41.854Z"
   },
   {
    "duration": 18,
    "start_time": "2025-02-13T05:48:41.914Z"
   },
   {
    "duration": 9,
    "start_time": "2025-02-13T05:48:41.933Z"
   },
   {
    "duration": 79,
    "start_time": "2025-02-13T05:48:41.943Z"
   },
   {
    "duration": 5,
    "start_time": "2025-02-13T05:48:42.023Z"
   },
   {
    "duration": 48,
    "start_time": "2025-02-13T05:48:42.030Z"
   },
   {
    "duration": 65,
    "start_time": "2025-02-13T05:48:42.080Z"
   },
   {
    "duration": 32,
    "start_time": "2025-02-13T05:48:42.146Z"
   },
   {
    "duration": 20,
    "start_time": "2025-02-13T05:48:42.182Z"
   },
   {
    "duration": 14,
    "start_time": "2025-02-13T05:48:42.204Z"
   },
   {
    "duration": 15,
    "start_time": "2025-02-13T05:48:42.219Z"
   },
   {
    "duration": 38,
    "start_time": "2025-02-13T05:48:42.235Z"
   },
   {
    "duration": 127,
    "start_time": "2025-02-13T05:48:42.275Z"
   },
   {
    "duration": 10,
    "start_time": "2025-02-13T05:48:42.403Z"
   },
   {
    "duration": 2,
    "start_time": "2025-02-13T05:48:42.415Z"
   },
   {
    "duration": 3,
    "start_time": "2025-02-13T05:48:42.419Z"
   },
   {
    "duration": 9,
    "start_time": "2025-02-13T05:48:42.424Z"
   },
   {
    "duration": 2,
    "start_time": "2025-02-13T05:48:42.435Z"
   },
   {
    "duration": 9,
    "start_time": "2025-02-13T05:48:42.470Z"
   },
   {
    "duration": 6,
    "start_time": "2025-02-13T05:48:42.480Z"
   },
   {
    "duration": 7,
    "start_time": "2025-02-13T05:48:42.488Z"
   },
   {
    "duration": 2,
    "start_time": "2025-02-13T05:48:42.497Z"
   },
   {
    "duration": 2,
    "start_time": "2025-02-13T05:48:42.501Z"
   },
   {
    "duration": 260,
    "start_time": "2025-02-13T05:53:29.069Z"
   },
   {
    "duration": 223,
    "start_time": "2025-02-13T05:55:25.135Z"
   },
   {
    "duration": 231,
    "start_time": "2025-02-13T05:55:38.661Z"
   },
   {
    "duration": 11,
    "start_time": "2025-02-13T05:56:19.651Z"
   },
   {
    "duration": 397,
    "start_time": "2025-02-13T05:57:24.367Z"
   },
   {
    "duration": 10,
    "start_time": "2025-02-13T05:58:22.892Z"
   },
   {
    "duration": 11,
    "start_time": "2025-02-13T05:58:27.808Z"
   },
   {
    "duration": 305,
    "start_time": "2025-02-13T05:58:39.000Z"
   },
   {
    "duration": 135,
    "start_time": "2025-02-13T05:59:01.110Z"
   },
   {
    "duration": 323,
    "start_time": "2025-02-13T05:59:16.496Z"
   },
   {
    "duration": 6,
    "start_time": "2025-02-13T05:59:58.971Z"
   },
   {
    "duration": 6,
    "start_time": "2025-02-13T06:00:04.078Z"
   },
   {
    "duration": 13,
    "start_time": "2025-02-13T06:00:26.536Z"
   },
   {
    "duration": 372,
    "start_time": "2025-02-13T06:01:47.568Z"
   },
   {
    "duration": 15,
    "start_time": "2025-02-13T06:04:34.954Z"
   },
   {
    "duration": 16,
    "start_time": "2025-02-13T06:04:42.100Z"
   },
   {
    "duration": 5,
    "start_time": "2025-02-13T06:04:49.254Z"
   },
   {
    "duration": 18,
    "start_time": "2025-02-13T06:05:18.152Z"
   },
   {
    "duration": 17,
    "start_time": "2025-02-13T06:05:29.356Z"
   },
   {
    "duration": 6,
    "start_time": "2025-02-13T06:05:47.957Z"
   },
   {
    "duration": 596,
    "start_time": "2025-02-13T06:05:50.274Z"
   },
   {
    "duration": 138,
    "start_time": "2025-02-13T06:06:21.329Z"
   },
   {
    "duration": 102,
    "start_time": "2025-02-13T06:06:29.473Z"
   },
   {
    "duration": 156,
    "start_time": "2025-02-13T16:26:46.345Z"
   },
   {
    "duration": 2105,
    "start_time": "2025-02-13T16:26:49.651Z"
   },
   {
    "duration": 227,
    "start_time": "2025-02-13T16:26:51.759Z"
   },
   {
    "duration": 16,
    "start_time": "2025-02-13T16:26:51.988Z"
   },
   {
    "duration": 13,
    "start_time": "2025-02-13T16:26:52.006Z"
   },
   {
    "duration": 11,
    "start_time": "2025-02-13T16:26:52.021Z"
   },
   {
    "duration": 8,
    "start_time": "2025-02-13T16:26:52.034Z"
   },
   {
    "duration": 8,
    "start_time": "2025-02-13T16:26:52.044Z"
   },
   {
    "duration": 8,
    "start_time": "2025-02-13T16:26:52.054Z"
   },
   {
    "duration": 6,
    "start_time": "2025-02-13T16:26:52.064Z"
   },
   {
    "duration": 46,
    "start_time": "2025-02-13T16:26:52.072Z"
   },
   {
    "duration": 5,
    "start_time": "2025-02-13T16:26:52.120Z"
   },
   {
    "duration": 5,
    "start_time": "2025-02-13T16:26:52.127Z"
   },
   {
    "duration": 9,
    "start_time": "2025-02-13T16:26:52.134Z"
   },
   {
    "duration": 6,
    "start_time": "2025-02-13T16:26:52.148Z"
   },
   {
    "duration": 70,
    "start_time": "2025-02-13T16:26:52.156Z"
   },
   {
    "duration": 4,
    "start_time": "2025-02-13T16:26:52.229Z"
   },
   {
    "duration": 86,
    "start_time": "2025-02-13T16:26:52.235Z"
   },
   {
    "duration": 24,
    "start_time": "2025-02-13T16:26:52.322Z"
   },
   {
    "duration": 8,
    "start_time": "2025-02-13T16:26:52.348Z"
   },
   {
    "duration": 70,
    "start_time": "2025-02-13T16:26:52.358Z"
   },
   {
    "duration": 17,
    "start_time": "2025-02-13T16:26:52.431Z"
   },
   {
    "duration": 8,
    "start_time": "2025-02-13T16:26:52.450Z"
   },
   {
    "duration": 77,
    "start_time": "2025-02-13T16:26:52.460Z"
   },
   {
    "duration": 4,
    "start_time": "2025-02-13T16:26:52.539Z"
   },
   {
    "duration": 32,
    "start_time": "2025-02-13T16:26:52.545Z"
   },
   {
    "duration": 51,
    "start_time": "2025-02-13T16:26:52.579Z"
   },
   {
    "duration": 51,
    "start_time": "2025-02-13T16:26:52.632Z"
   },
   {
    "duration": 33,
    "start_time": "2025-02-13T16:26:52.685Z"
   },
   {
    "duration": 14,
    "start_time": "2025-02-13T16:26:52.719Z"
   },
   {
    "duration": 15,
    "start_time": "2025-02-13T16:26:52.734Z"
   },
   {
    "duration": 12,
    "start_time": "2025-02-13T16:26:52.750Z"
   },
   {
    "duration": 258,
    "start_time": "2025-02-13T16:26:52.763Z"
   },
   {
    "duration": 10,
    "start_time": "2025-02-13T16:26:53.023Z"
   },
   {
    "duration": 5,
    "start_time": "2025-02-13T16:26:53.035Z"
   },
   {
    "duration": 117,
    "start_time": "2025-02-13T16:26:53.041Z"
   },
   {
    "duration": 10,
    "start_time": "2025-02-13T16:26:53.160Z"
   },
   {
    "duration": 2,
    "start_time": "2025-02-13T16:26:53.172Z"
   },
   {
    "duration": 9,
    "start_time": "2025-02-13T16:26:53.176Z"
   },
   {
    "duration": 27,
    "start_time": "2025-02-13T16:26:53.188Z"
   },
   {
    "duration": 10,
    "start_time": "2025-02-13T16:26:53.216Z"
   },
   {
    "duration": 5,
    "start_time": "2025-02-13T16:26:53.233Z"
   },
   {
    "duration": 4,
    "start_time": "2025-02-13T16:26:53.240Z"
   },
   {
    "duration": 180,
    "start_time": "2025-02-13T16:32:17.809Z"
   },
   {
    "duration": 2,
    "start_time": "2025-02-13T16:38:09.375Z"
   },
   {
    "duration": 163,
    "start_time": "2025-02-13T16:38:09.379Z"
   },
   {
    "duration": 15,
    "start_time": "2025-02-13T16:38:09.544Z"
   },
   {
    "duration": 13,
    "start_time": "2025-02-13T16:38:09.561Z"
   },
   {
    "duration": 12,
    "start_time": "2025-02-13T16:38:09.575Z"
   },
   {
    "duration": 25,
    "start_time": "2025-02-13T16:38:09.589Z"
   },
   {
    "duration": 8,
    "start_time": "2025-02-13T16:38:09.615Z"
   },
   {
    "duration": 9,
    "start_time": "2025-02-13T16:38:09.626Z"
   },
   {
    "duration": 4,
    "start_time": "2025-02-13T16:38:09.638Z"
   },
   {
    "duration": 9,
    "start_time": "2025-02-13T16:38:09.644Z"
   },
   {
    "duration": 5,
    "start_time": "2025-02-13T16:38:09.654Z"
   },
   {
    "duration": 4,
    "start_time": "2025-02-13T16:38:09.661Z"
   },
   {
    "duration": 8,
    "start_time": "2025-02-13T16:38:09.667Z"
   },
   {
    "duration": 40,
    "start_time": "2025-02-13T16:38:09.677Z"
   },
   {
    "duration": 40,
    "start_time": "2025-02-13T16:38:09.718Z"
   },
   {
    "duration": 4,
    "start_time": "2025-02-13T16:38:09.760Z"
   },
   {
    "duration": 96,
    "start_time": "2025-02-13T16:38:09.766Z"
   },
   {
    "duration": 29,
    "start_time": "2025-02-13T16:38:09.863Z"
   },
   {
    "duration": 22,
    "start_time": "2025-02-13T16:38:09.895Z"
   },
   {
    "duration": 56,
    "start_time": "2025-02-13T16:38:09.919Z"
   },
   {
    "duration": 19,
    "start_time": "2025-02-13T16:38:09.977Z"
   },
   {
    "duration": 9,
    "start_time": "2025-02-13T16:38:10.012Z"
   },
   {
    "duration": 55,
    "start_time": "2025-02-13T16:38:10.022Z"
   },
   {
    "duration": 4,
    "start_time": "2025-02-13T16:38:10.081Z"
   },
   {
    "duration": 49,
    "start_time": "2025-02-13T16:38:10.087Z"
   },
   {
    "duration": 27,
    "start_time": "2025-02-13T16:38:10.138Z"
   },
   {
    "duration": 18,
    "start_time": "2025-02-13T16:38:10.166Z"
   },
   {
    "duration": 36,
    "start_time": "2025-02-13T16:38:10.187Z"
   },
   {
    "duration": 13,
    "start_time": "2025-02-13T16:38:10.225Z"
   },
   {
    "duration": 14,
    "start_time": "2025-02-13T16:38:10.240Z"
   },
   {
    "duration": 12,
    "start_time": "2025-02-13T16:38:10.255Z"
   },
   {
    "duration": 296,
    "start_time": "2025-02-13T16:38:10.268Z"
   },
   {
    "duration": 180,
    "start_time": "2025-02-13T16:38:10.566Z"
   },
   {
    "duration": 7,
    "start_time": "2025-02-13T16:38:10.748Z"
   },
   {
    "duration": 102,
    "start_time": "2025-02-13T16:38:10.756Z"
   },
   {
    "duration": 10,
    "start_time": "2025-02-13T16:38:10.860Z"
   },
   {
    "duration": 2,
    "start_time": "2025-02-13T16:38:10.872Z"
   },
   {
    "duration": 10,
    "start_time": "2025-02-13T16:38:10.875Z"
   },
   {
    "duration": 27,
    "start_time": "2025-02-13T16:38:10.886Z"
   },
   {
    "duration": 6,
    "start_time": "2025-02-13T16:38:10.915Z"
   },
   {
    "duration": 3,
    "start_time": "2025-02-13T16:38:10.923Z"
   },
   {
    "duration": 3,
    "start_time": "2025-02-13T16:38:10.927Z"
   },
   {
    "duration": 93,
    "start_time": "2025-02-13T16:38:48.648Z"
   },
   {
    "duration": 98,
    "start_time": "2025-02-13T16:38:59.814Z"
   },
   {
    "duration": 184,
    "start_time": "2025-02-13T16:48:00.767Z"
   },
   {
    "duration": 98,
    "start_time": "2025-02-13T16:48:34.623Z"
   },
   {
    "duration": 83,
    "start_time": "2025-02-13T16:50:55.239Z"
   },
   {
    "duration": 126,
    "start_time": "2025-02-13T16:52:42.844Z"
   },
   {
    "duration": 137,
    "start_time": "2025-02-13T16:53:40.134Z"
   },
   {
    "duration": 171,
    "start_time": "2025-02-13T17:19:04.956Z"
   },
   {
    "duration": 132,
    "start_time": "2025-02-13T17:32:41.759Z"
   },
   {
    "duration": 174,
    "start_time": "2025-02-13T17:32:54.666Z"
   },
   {
    "duration": 345,
    "start_time": "2025-02-13T17:38:28.013Z"
   },
   {
    "duration": 297,
    "start_time": "2025-02-13T17:40:56.651Z"
   },
   {
    "duration": 311,
    "start_time": "2025-02-13T17:41:47.525Z"
   },
   {
    "duration": 367,
    "start_time": "2025-02-13T17:42:19.528Z"
   },
   {
    "duration": 283,
    "start_time": "2025-02-13T17:42:49.508Z"
   },
   {
    "duration": 256,
    "start_time": "2025-02-13T17:43:11.382Z"
   },
   {
    "duration": 434,
    "start_time": "2025-02-13T17:55:48.921Z"
   },
   {
    "duration": 56,
    "start_time": "2025-02-13T17:56:03.518Z"
   },
   {
    "duration": 52,
    "start_time": "2025-02-13T17:56:31.764Z"
   },
   {
    "duration": 2,
    "start_time": "2025-02-13T17:56:34.122Z"
   },
   {
    "duration": 169,
    "start_time": "2025-02-13T17:56:34.126Z"
   },
   {
    "duration": 17,
    "start_time": "2025-02-13T17:56:34.297Z"
   },
   {
    "duration": 12,
    "start_time": "2025-02-13T17:56:34.317Z"
   },
   {
    "duration": 12,
    "start_time": "2025-02-13T17:56:34.331Z"
   },
   {
    "duration": 8,
    "start_time": "2025-02-13T17:56:34.344Z"
   },
   {
    "duration": 8,
    "start_time": "2025-02-13T17:56:34.353Z"
   },
   {
    "duration": 9,
    "start_time": "2025-02-13T17:56:34.363Z"
   },
   {
    "duration": 39,
    "start_time": "2025-02-13T17:56:34.373Z"
   },
   {
    "duration": 9,
    "start_time": "2025-02-13T17:56:34.416Z"
   },
   {
    "duration": 5,
    "start_time": "2025-02-13T17:56:34.426Z"
   },
   {
    "duration": 5,
    "start_time": "2025-02-13T17:56:34.432Z"
   },
   {
    "duration": 8,
    "start_time": "2025-02-13T17:56:34.439Z"
   },
   {
    "duration": 6,
    "start_time": "2025-02-13T17:56:34.449Z"
   },
   {
    "duration": 70,
    "start_time": "2025-02-13T17:56:34.458Z"
   },
   {
    "duration": 5,
    "start_time": "2025-02-13T17:56:34.530Z"
   },
   {
    "duration": 82,
    "start_time": "2025-02-13T17:56:34.536Z"
   },
   {
    "duration": 22,
    "start_time": "2025-02-13T17:56:34.620Z"
   },
   {
    "duration": 7,
    "start_time": "2025-02-13T17:56:34.645Z"
   },
   {
    "duration": 70,
    "start_time": "2025-02-13T17:56:34.653Z"
   },
   {
    "duration": 19,
    "start_time": "2025-02-13T17:56:34.725Z"
   },
   {
    "duration": 8,
    "start_time": "2025-02-13T17:56:34.746Z"
   },
   {
    "duration": 70,
    "start_time": "2025-02-13T17:56:34.756Z"
   },
   {
    "duration": 5,
    "start_time": "2025-02-13T17:56:34.828Z"
   },
   {
    "duration": 28,
    "start_time": "2025-02-13T17:56:34.834Z"
   },
   {
    "duration": 28,
    "start_time": "2025-02-13T17:56:34.863Z"
   },
   {
    "duration": 22,
    "start_time": "2025-02-13T17:56:34.913Z"
   },
   {
    "duration": 21,
    "start_time": "2025-02-13T17:56:34.940Z"
   },
   {
    "duration": 14,
    "start_time": "2025-02-13T17:56:34.962Z"
   },
   {
    "duration": 43,
    "start_time": "2025-02-13T17:56:34.978Z"
   },
   {
    "duration": 13,
    "start_time": "2025-02-13T17:56:35.023Z"
   },
   {
    "duration": 313,
    "start_time": "2025-02-13T17:56:35.037Z"
   },
   {
    "duration": 186,
    "start_time": "2025-02-13T17:56:35.352Z"
   },
   {
    "duration": 6,
    "start_time": "2025-02-13T17:56:35.539Z"
   },
   {
    "duration": 91,
    "start_time": "2025-02-13T17:56:35.547Z"
   },
   {
    "duration": 279,
    "start_time": "2025-02-13T17:56:35.641Z"
   },
   {
    "duration": 3,
    "start_time": "2025-02-13T17:56:35.921Z"
   },
   {
    "duration": 52,
    "start_time": "2025-02-13T17:56:35.925Z"
   },
   {
    "duration": 0,
    "start_time": "2025-02-13T17:56:35.978Z"
   },
   {
    "duration": 0,
    "start_time": "2025-02-13T17:56:35.980Z"
   },
   {
    "duration": 0,
    "start_time": "2025-02-13T17:56:35.981Z"
   },
   {
    "duration": 0,
    "start_time": "2025-02-13T17:56:35.981Z"
   },
   {
    "duration": 125,
    "start_time": "2025-02-13T17:57:23.480Z"
   },
   {
    "duration": 241,
    "start_time": "2025-02-13T18:15:12.756Z"
   },
   {
    "duration": 52,
    "start_time": "2025-02-13T18:16:31.363Z"
   },
   {
    "duration": 6,
    "start_time": "2025-02-13T18:16:41.857Z"
   },
   {
    "duration": 132,
    "start_time": "2025-02-13T18:16:48.502Z"
   },
   {
    "duration": 126,
    "start_time": "2025-02-13T18:17:13.816Z"
   },
   {
    "duration": 154,
    "start_time": "2025-02-14T02:10:28.749Z"
   },
   {
    "duration": 170,
    "start_time": "2025-02-14T06:20:40.289Z"
   },
   {
    "duration": 2135,
    "start_time": "2025-02-14T06:20:43.795Z"
   },
   {
    "duration": 207,
    "start_time": "2025-02-14T06:20:45.932Z"
   },
   {
    "duration": 16,
    "start_time": "2025-02-14T06:20:46.140Z"
   },
   {
    "duration": 14,
    "start_time": "2025-02-14T06:20:46.158Z"
   },
   {
    "duration": 12,
    "start_time": "2025-02-14T06:20:46.174Z"
   },
   {
    "duration": 25,
    "start_time": "2025-02-14T06:20:46.187Z"
   },
   {
    "duration": 7,
    "start_time": "2025-02-14T06:20:46.214Z"
   },
   {
    "duration": 8,
    "start_time": "2025-02-14T06:20:46.222Z"
   },
   {
    "duration": 6,
    "start_time": "2025-02-14T06:20:46.232Z"
   },
   {
    "duration": 9,
    "start_time": "2025-02-14T06:20:46.239Z"
   },
   {
    "duration": 5,
    "start_time": "2025-02-14T06:20:46.249Z"
   },
   {
    "duration": 4,
    "start_time": "2025-02-14T06:20:46.256Z"
   },
   {
    "duration": 47,
    "start_time": "2025-02-14T06:20:46.262Z"
   },
   {
    "duration": 6,
    "start_time": "2025-02-14T06:20:46.313Z"
   },
   {
    "duration": 40,
    "start_time": "2025-02-14T06:20:46.321Z"
   },
   {
    "duration": 6,
    "start_time": "2025-02-14T06:20:46.363Z"
   },
   {
    "duration": 93,
    "start_time": "2025-02-14T06:20:46.370Z"
   },
   {
    "duration": 23,
    "start_time": "2025-02-14T06:20:46.465Z"
   },
   {
    "duration": 7,
    "start_time": "2025-02-14T06:20:46.508Z"
   },
   {
    "duration": 45,
    "start_time": "2025-02-14T06:20:46.516Z"
   },
   {
    "duration": 21,
    "start_time": "2025-02-14T06:20:46.564Z"
   },
   {
    "duration": 27,
    "start_time": "2025-02-14T06:20:46.587Z"
   },
   {
    "duration": 57,
    "start_time": "2025-02-14T06:20:46.615Z"
   },
   {
    "duration": 4,
    "start_time": "2025-02-14T06:20:46.673Z"
   },
   {
    "duration": 55,
    "start_time": "2025-02-14T06:20:46.679Z"
   },
   {
    "duration": 75,
    "start_time": "2025-02-14T06:20:46.735Z"
   },
   {
    "duration": 18,
    "start_time": "2025-02-14T06:20:46.811Z"
   },
   {
    "duration": 21,
    "start_time": "2025-02-14T06:20:46.830Z"
   },
   {
    "duration": 13,
    "start_time": "2025-02-14T06:20:46.853Z"
   },
   {
    "duration": 13,
    "start_time": "2025-02-14T06:20:46.868Z"
   },
   {
    "duration": 12,
    "start_time": "2025-02-14T06:20:46.909Z"
   },
   {
    "duration": 243,
    "start_time": "2025-02-14T06:20:46.922Z"
   },
   {
    "duration": 217,
    "start_time": "2025-02-14T06:20:47.168Z"
   },
   {
    "duration": 6,
    "start_time": "2025-02-14T06:20:47.387Z"
   },
   {
    "duration": 95,
    "start_time": "2025-02-14T06:20:47.394Z"
   },
   {
    "duration": 289,
    "start_time": "2025-02-14T06:20:47.491Z"
   },
   {
    "duration": 2,
    "start_time": "2025-02-14T06:20:47.782Z"
   },
   {
    "duration": 330,
    "start_time": "2025-02-14T06:20:47.785Z"
   },
   {
    "duration": 134,
    "start_time": "2025-02-14T06:20:48.117Z"
   },
   {
    "duration": 133,
    "start_time": "2025-02-14T06:20:48.253Z"
   },
   {
    "duration": 55,
    "start_time": "2025-02-14T06:20:48.390Z"
   },
   {
    "duration": 0,
    "start_time": "2025-02-14T06:20:48.447Z"
   },
   {
    "duration": 316,
    "start_time": "2025-02-14T06:21:12.327Z"
   },
   {
    "duration": 155,
    "start_time": "2025-02-14T06:21:12.645Z"
   },
   {
    "duration": 16,
    "start_time": "2025-02-14T06:21:12.802Z"
   },
   {
    "duration": 13,
    "start_time": "2025-02-14T06:21:12.820Z"
   },
   {
    "duration": 10,
    "start_time": "2025-02-14T06:21:12.836Z"
   },
   {
    "duration": 7,
    "start_time": "2025-02-14T06:21:12.848Z"
   },
   {
    "duration": 9,
    "start_time": "2025-02-14T06:21:12.857Z"
   },
   {
    "duration": 41,
    "start_time": "2025-02-14T06:21:12.868Z"
   },
   {
    "duration": 5,
    "start_time": "2025-02-14T06:21:12.911Z"
   },
   {
    "duration": 9,
    "start_time": "2025-02-14T06:21:12.918Z"
   },
   {
    "duration": 5,
    "start_time": "2025-02-14T06:21:12.928Z"
   },
   {
    "duration": 5,
    "start_time": "2025-02-14T06:21:12.935Z"
   },
   {
    "duration": 8,
    "start_time": "2025-02-14T06:21:12.941Z"
   },
   {
    "duration": 6,
    "start_time": "2025-02-14T06:21:12.954Z"
   },
   {
    "duration": 78,
    "start_time": "2025-02-14T06:21:12.961Z"
   },
   {
    "duration": 6,
    "start_time": "2025-02-14T06:21:13.040Z"
   },
   {
    "duration": 83,
    "start_time": "2025-02-14T06:21:13.047Z"
   },
   {
    "duration": 23,
    "start_time": "2025-02-14T06:21:13.132Z"
   },
   {
    "duration": 7,
    "start_time": "2025-02-14T06:21:13.157Z"
   },
   {
    "duration": 70,
    "start_time": "2025-02-14T06:21:13.165Z"
   },
   {
    "duration": 19,
    "start_time": "2025-02-14T06:21:13.236Z"
   },
   {
    "duration": 7,
    "start_time": "2025-02-14T06:21:13.257Z"
   },
   {
    "duration": 72,
    "start_time": "2025-02-14T06:21:13.266Z"
   },
   {
    "duration": 5,
    "start_time": "2025-02-14T06:21:13.339Z"
   },
   {
    "duration": 30,
    "start_time": "2025-02-14T06:21:13.346Z"
   },
   {
    "duration": 46,
    "start_time": "2025-02-14T06:21:13.378Z"
   },
   {
    "duration": 85,
    "start_time": "2025-02-14T06:21:13.425Z"
   },
   {
    "duration": 19,
    "start_time": "2025-02-14T06:21:13.512Z"
   },
   {
    "duration": 14,
    "start_time": "2025-02-14T06:21:13.533Z"
   },
   {
    "duration": 14,
    "start_time": "2025-02-14T06:21:13.548Z"
   },
   {
    "duration": 12,
    "start_time": "2025-02-14T06:21:13.564Z"
   },
   {
    "duration": 253,
    "start_time": "2025-02-14T06:21:13.577Z"
   },
   {
    "duration": 182,
    "start_time": "2025-02-14T06:21:13.831Z"
   },
   {
    "duration": 6,
    "start_time": "2025-02-14T06:21:14.015Z"
   },
   {
    "duration": 100,
    "start_time": "2025-02-14T06:21:14.022Z"
   },
   {
    "duration": 286,
    "start_time": "2025-02-14T06:21:14.124Z"
   },
   {
    "duration": 2,
    "start_time": "2025-02-14T06:21:14.412Z"
   },
   {
    "duration": 256,
    "start_time": "2025-02-14T06:21:14.416Z"
   },
   {
    "duration": 146,
    "start_time": "2025-02-14T06:21:14.674Z"
   },
   {
    "duration": 132,
    "start_time": "2025-02-14T06:21:14.821Z"
   },
   {
    "duration": 6,
    "start_time": "2025-02-14T06:21:14.958Z"
   },
   {
    "duration": 4,
    "start_time": "2025-02-14T06:21:14.968Z"
   },
   {
    "duration": 434,
    "start_time": "2025-02-14T06:24:06.035Z"
   },
   {
    "duration": 110,
    "start_time": "2025-02-14T06:24:28.406Z"
   },
   {
    "duration": 5,
    "start_time": "2025-02-14T06:25:08.973Z"
   },
   {
    "duration": 6,
    "start_time": "2025-02-14T06:25:36.173Z"
   },
   {
    "duration": 6,
    "start_time": "2025-02-14T06:25:45.403Z"
   },
   {
    "duration": 3,
    "start_time": "2025-02-14T06:25:55.845Z"
   },
   {
    "duration": 3,
    "start_time": "2025-02-14T06:31:56.664Z"
   },
   {
    "duration": 148,
    "start_time": "2025-02-14T06:31:56.669Z"
   },
   {
    "duration": 16,
    "start_time": "2025-02-14T06:31:56.818Z"
   },
   {
    "duration": 13,
    "start_time": "2025-02-14T06:31:56.836Z"
   },
   {
    "duration": 12,
    "start_time": "2025-02-14T06:31:56.852Z"
   },
   {
    "duration": 7,
    "start_time": "2025-02-14T06:31:56.866Z"
   },
   {
    "duration": 8,
    "start_time": "2025-02-14T06:31:56.874Z"
   },
   {
    "duration": 9,
    "start_time": "2025-02-14T06:31:56.909Z"
   },
   {
    "duration": 5,
    "start_time": "2025-02-14T06:31:56.919Z"
   },
   {
    "duration": 9,
    "start_time": "2025-02-14T06:31:56.926Z"
   },
   {
    "duration": 4,
    "start_time": "2025-02-14T06:31:56.937Z"
   },
   {
    "duration": 6,
    "start_time": "2025-02-14T06:31:56.943Z"
   },
   {
    "duration": 7,
    "start_time": "2025-02-14T06:31:56.952Z"
   },
   {
    "duration": 6,
    "start_time": "2025-02-14T06:31:56.961Z"
   },
   {
    "duration": 7,
    "start_time": "2025-02-14T06:31:57.009Z"
   },
   {
    "duration": 37,
    "start_time": "2025-02-14T06:31:57.018Z"
   },
   {
    "duration": 5,
    "start_time": "2025-02-14T06:31:57.056Z"
   },
   {
    "duration": 94,
    "start_time": "2025-02-14T06:31:57.063Z"
   },
   {
    "duration": 33,
    "start_time": "2025-02-14T06:31:57.158Z"
   },
   {
    "duration": 13,
    "start_time": "2025-02-14T06:31:57.196Z"
   },
   {
    "duration": 49,
    "start_time": "2025-02-14T06:31:57.210Z"
   },
   {
    "duration": 22,
    "start_time": "2025-02-14T06:31:57.262Z"
   },
   {
    "duration": 26,
    "start_time": "2025-02-14T06:31:57.286Z"
   },
   {
    "duration": 57,
    "start_time": "2025-02-14T06:31:57.314Z"
   },
   {
    "duration": 5,
    "start_time": "2025-02-14T06:31:57.373Z"
   },
   {
    "duration": 52,
    "start_time": "2025-02-14T06:31:57.379Z"
   },
   {
    "duration": 27,
    "start_time": "2025-02-14T06:31:57.433Z"
   },
   {
    "duration": 23,
    "start_time": "2025-02-14T06:31:57.464Z"
   },
   {
    "duration": 35,
    "start_time": "2025-02-14T06:31:57.489Z"
   },
   {
    "duration": 14,
    "start_time": "2025-02-14T06:31:57.526Z"
   },
   {
    "duration": 14,
    "start_time": "2025-02-14T06:31:57.541Z"
   },
   {
    "duration": 11,
    "start_time": "2025-02-14T06:31:57.557Z"
   },
   {
    "duration": 259,
    "start_time": "2025-02-14T06:31:57.571Z"
   },
   {
    "duration": 181,
    "start_time": "2025-02-14T06:31:57.832Z"
   },
   {
    "duration": 6,
    "start_time": "2025-02-14T06:31:58.015Z"
   },
   {
    "duration": 98,
    "start_time": "2025-02-14T06:31:58.022Z"
   },
   {
    "duration": 274,
    "start_time": "2025-02-14T06:31:58.124Z"
   },
   {
    "duration": 2,
    "start_time": "2025-02-14T06:31:58.400Z"
   },
   {
    "duration": 278,
    "start_time": "2025-02-14T06:31:58.403Z"
   },
   {
    "duration": 134,
    "start_time": "2025-02-14T06:31:58.683Z"
   },
   {
    "duration": 131,
    "start_time": "2025-02-14T06:31:58.819Z"
   },
   {
    "duration": 6,
    "start_time": "2025-02-14T06:31:58.952Z"
   },
   {
    "duration": 5,
    "start_time": "2025-02-14T06:31:58.959Z"
   },
   {
    "duration": 215,
    "start_time": "2025-02-14T06:32:28.906Z"
   },
   {
    "duration": 43,
    "start_time": "2025-02-14T06:33:07.501Z"
   },
   {
    "duration": 2,
    "start_time": "2025-02-14T06:37:07.523Z"
   },
   {
    "duration": 165,
    "start_time": "2025-02-14T06:37:07.528Z"
   },
   {
    "duration": 20,
    "start_time": "2025-02-14T06:37:07.694Z"
   },
   {
    "duration": 14,
    "start_time": "2025-02-14T06:37:07.716Z"
   },
   {
    "duration": 11,
    "start_time": "2025-02-14T06:37:07.733Z"
   },
   {
    "duration": 8,
    "start_time": "2025-02-14T06:37:07.746Z"
   },
   {
    "duration": 8,
    "start_time": "2025-02-14T06:37:07.755Z"
   },
   {
    "duration": 8,
    "start_time": "2025-02-14T06:37:07.765Z"
   },
   {
    "duration": 34,
    "start_time": "2025-02-14T06:37:07.775Z"
   },
   {
    "duration": 11,
    "start_time": "2025-02-14T06:37:07.811Z"
   },
   {
    "duration": 5,
    "start_time": "2025-02-14T06:37:07.823Z"
   },
   {
    "duration": 5,
    "start_time": "2025-02-14T06:37:07.830Z"
   },
   {
    "duration": 8,
    "start_time": "2025-02-14T06:37:07.838Z"
   },
   {
    "duration": 8,
    "start_time": "2025-02-14T06:37:07.848Z"
   },
   {
    "duration": 7,
    "start_time": "2025-02-14T06:37:07.857Z"
   },
   {
    "duration": 40,
    "start_time": "2025-02-14T06:37:07.910Z"
   },
   {
    "duration": 5,
    "start_time": "2025-02-14T06:37:07.952Z"
   },
   {
    "duration": 88,
    "start_time": "2025-02-14T06:37:07.959Z"
   },
   {
    "duration": 24,
    "start_time": "2025-02-14T06:37:08.048Z"
   },
   {
    "duration": 7,
    "start_time": "2025-02-14T06:37:08.073Z"
   },
   {
    "duration": 61,
    "start_time": "2025-02-14T06:37:08.081Z"
   },
   {
    "duration": 18,
    "start_time": "2025-02-14T06:37:08.144Z"
   },
   {
    "duration": 8,
    "start_time": "2025-02-14T06:37:08.164Z"
   },
   {
    "duration": 80,
    "start_time": "2025-02-14T06:37:08.173Z"
   },
   {
    "duration": 5,
    "start_time": "2025-02-14T06:37:08.254Z"
   },
   {
    "duration": 29,
    "start_time": "2025-02-14T06:37:08.261Z"
   },
   {
    "duration": 47,
    "start_time": "2025-02-14T06:37:08.291Z"
   },
   {
    "duration": 17,
    "start_time": "2025-02-14T06:37:08.340Z"
   },
   {
    "duration": 22,
    "start_time": "2025-02-14T06:37:08.359Z"
   },
   {
    "duration": 36,
    "start_time": "2025-02-14T06:37:08.382Z"
   },
   {
    "duration": 14,
    "start_time": "2025-02-14T06:37:08.419Z"
   },
   {
    "duration": 12,
    "start_time": "2025-02-14T06:37:08.435Z"
   },
   {
    "duration": 255,
    "start_time": "2025-02-14T06:37:08.448Z"
   },
   {
    "duration": 176,
    "start_time": "2025-02-14T06:37:08.709Z"
   },
   {
    "duration": 6,
    "start_time": "2025-02-14T06:37:08.887Z"
   },
   {
    "duration": 96,
    "start_time": "2025-02-14T06:37:08.894Z"
   },
   {
    "duration": 265,
    "start_time": "2025-02-14T06:37:08.993Z"
   },
   {
    "duration": 3,
    "start_time": "2025-02-14T06:37:09.260Z"
   },
   {
    "duration": 265,
    "start_time": "2025-02-14T06:37:09.265Z"
   },
   {
    "duration": 132,
    "start_time": "2025-02-14T06:37:09.532Z"
   },
   {
    "duration": 239,
    "start_time": "2025-02-14T06:37:09.666Z"
   },
   {
    "duration": 8,
    "start_time": "2025-02-14T06:37:09.906Z"
   },
   {
    "duration": 39,
    "start_time": "2025-02-14T06:37:09.915Z"
   },
   {
    "duration": 46,
    "start_time": "2025-02-14T06:37:49.120Z"
   },
   {
    "duration": 44,
    "start_time": "2025-02-14T06:44:17.827Z"
   },
   {
    "duration": 5,
    "start_time": "2025-02-14T06:45:05.785Z"
   },
   {
    "duration": 4,
    "start_time": "2025-02-14T06:45:07.992Z"
   },
   {
    "duration": 25,
    "start_time": "2025-02-14T06:45:08.473Z"
   },
   {
    "duration": 5,
    "start_time": "2025-02-14T06:45:08.639Z"
   },
   {
    "duration": 360,
    "start_time": "2025-02-14T06:45:09.115Z"
   },
   {
    "duration": 0,
    "start_time": "2025-02-14T06:45:09.476Z"
   },
   {
    "duration": 8,
    "start_time": "2025-02-14T06:45:09.586Z"
   },
   {
    "duration": 32,
    "start_time": "2025-02-14T06:45:10.084Z"
   },
   {
    "duration": 3,
    "start_time": "2025-02-14T06:45:17.398Z"
   },
   {
    "duration": 168,
    "start_time": "2025-02-14T06:45:17.403Z"
   },
   {
    "duration": 15,
    "start_time": "2025-02-14T06:45:17.573Z"
   },
   {
    "duration": 19,
    "start_time": "2025-02-14T06:45:17.590Z"
   },
   {
    "duration": 13,
    "start_time": "2025-02-14T06:45:17.612Z"
   },
   {
    "duration": 8,
    "start_time": "2025-02-14T06:45:17.627Z"
   },
   {
    "duration": 10,
    "start_time": "2025-02-14T06:45:17.636Z"
   },
   {
    "duration": 8,
    "start_time": "2025-02-14T06:45:17.647Z"
   },
   {
    "duration": 5,
    "start_time": "2025-02-14T06:45:17.658Z"
   },
   {
    "duration": 46,
    "start_time": "2025-02-14T06:45:17.664Z"
   },
   {
    "duration": 6,
    "start_time": "2025-02-14T06:45:17.712Z"
   },
   {
    "duration": 4,
    "start_time": "2025-02-14T06:45:17.720Z"
   },
   {
    "duration": 13,
    "start_time": "2025-02-14T06:45:17.726Z"
   },
   {
    "duration": 6,
    "start_time": "2025-02-14T06:45:17.741Z"
   },
   {
    "duration": 6,
    "start_time": "2025-02-14T06:45:17.749Z"
   },
   {
    "duration": 66,
    "start_time": "2025-02-14T06:45:17.756Z"
   },
   {
    "duration": 5,
    "start_time": "2025-02-14T06:45:17.824Z"
   },
   {
    "duration": 100,
    "start_time": "2025-02-14T06:45:17.831Z"
   },
   {
    "duration": 25,
    "start_time": "2025-02-14T06:45:17.934Z"
   },
   {
    "duration": 7,
    "start_time": "2025-02-14T06:45:17.960Z"
   },
   {
    "duration": 61,
    "start_time": "2025-02-14T06:45:17.969Z"
   },
   {
    "duration": 18,
    "start_time": "2025-02-14T06:45:18.031Z"
   },
   {
    "duration": 9,
    "start_time": "2025-02-14T06:45:18.050Z"
   },
   {
    "duration": 75,
    "start_time": "2025-02-14T06:45:18.064Z"
   },
   {
    "duration": 5,
    "start_time": "2025-02-14T06:45:18.141Z"
   },
   {
    "duration": 30,
    "start_time": "2025-02-14T06:45:18.148Z"
   },
   {
    "duration": 45,
    "start_time": "2025-02-14T06:45:18.180Z"
   },
   {
    "duration": 18,
    "start_time": "2025-02-14T06:45:18.227Z"
   },
   {
    "duration": 22,
    "start_time": "2025-02-14T06:45:18.246Z"
   },
   {
    "duration": 14,
    "start_time": "2025-02-14T06:45:18.269Z"
   },
   {
    "duration": 35,
    "start_time": "2025-02-14T06:45:18.284Z"
   },
   {
    "duration": 12,
    "start_time": "2025-02-14T06:45:18.321Z"
   },
   {
    "duration": 240,
    "start_time": "2025-02-14T06:45:18.334Z"
   },
   {
    "duration": 177,
    "start_time": "2025-02-14T06:45:18.576Z"
   },
   {
    "duration": 6,
    "start_time": "2025-02-14T06:45:18.755Z"
   },
   {
    "duration": 97,
    "start_time": "2025-02-14T06:45:18.762Z"
   },
   {
    "duration": 284,
    "start_time": "2025-02-14T06:45:18.860Z"
   },
   {
    "duration": 2,
    "start_time": "2025-02-14T06:45:19.146Z"
   },
   {
    "duration": 262,
    "start_time": "2025-02-14T06:45:19.149Z"
   },
   {
    "duration": 135,
    "start_time": "2025-02-14T06:45:19.412Z"
   },
   {
    "duration": 132,
    "start_time": "2025-02-14T06:45:19.548Z"
   },
   {
    "duration": 7,
    "start_time": "2025-02-14T06:45:19.682Z"
   },
   {
    "duration": 54,
    "start_time": "2025-02-14T06:45:19.690Z"
   },
   {
    "duration": 15,
    "start_time": "2025-02-14T06:53:33.336Z"
   },
   {
    "duration": 14,
    "start_time": "2025-02-14T06:53:37.664Z"
   },
   {
    "duration": 2,
    "start_time": "2025-02-14T06:53:40.477Z"
   },
   {
    "duration": 153,
    "start_time": "2025-02-14T06:53:40.481Z"
   },
   {
    "duration": 16,
    "start_time": "2025-02-14T06:53:40.635Z"
   },
   {
    "duration": 13,
    "start_time": "2025-02-14T06:53:40.653Z"
   },
   {
    "duration": 12,
    "start_time": "2025-02-14T06:53:40.668Z"
   },
   {
    "duration": 8,
    "start_time": "2025-02-14T06:53:40.681Z"
   },
   {
    "duration": 26,
    "start_time": "2025-02-14T06:53:40.690Z"
   },
   {
    "duration": 9,
    "start_time": "2025-02-14T06:53:40.718Z"
   },
   {
    "duration": 6,
    "start_time": "2025-02-14T06:53:40.728Z"
   },
   {
    "duration": 8,
    "start_time": "2025-02-14T06:53:40.738Z"
   },
   {
    "duration": 5,
    "start_time": "2025-02-14T06:53:40.748Z"
   },
   {
    "duration": 5,
    "start_time": "2025-02-14T06:53:40.754Z"
   },
   {
    "duration": 49,
    "start_time": "2025-02-14T06:53:40.760Z"
   },
   {
    "duration": 6,
    "start_time": "2025-02-14T06:53:40.811Z"
   },
   {
    "duration": 5,
    "start_time": "2025-02-14T06:53:40.818Z"
   },
   {
    "duration": 39,
    "start_time": "2025-02-14T06:53:40.825Z"
   },
   {
    "duration": 4,
    "start_time": "2025-02-14T06:53:40.866Z"
   },
   {
    "duration": 101,
    "start_time": "2025-02-14T06:53:40.872Z"
   },
   {
    "duration": 23,
    "start_time": "2025-02-14T06:53:40.976Z"
   },
   {
    "duration": 12,
    "start_time": "2025-02-14T06:53:41.001Z"
   },
   {
    "duration": 46,
    "start_time": "2025-02-14T06:53:41.015Z"
   },
   {
    "duration": 17,
    "start_time": "2025-02-14T06:53:41.062Z"
   },
   {
    "duration": 9,
    "start_time": "2025-02-14T06:53:41.108Z"
   },
   {
    "duration": 58,
    "start_time": "2025-02-14T06:53:41.121Z"
   },
   {
    "duration": 4,
    "start_time": "2025-02-14T06:53:41.181Z"
   },
   {
    "duration": 46,
    "start_time": "2025-02-14T06:53:41.187Z"
   },
   {
    "duration": 27,
    "start_time": "2025-02-14T06:53:41.234Z"
   },
   {
    "duration": 19,
    "start_time": "2025-02-14T06:53:41.265Z"
   },
   {
    "duration": 156,
    "start_time": "2025-02-14T06:53:41.285Z"
   },
   {
    "duration": 16,
    "start_time": "2025-02-14T06:53:41.443Z"
   },
   {
    "duration": 14,
    "start_time": "2025-02-14T06:53:41.460Z"
   },
   {
    "duration": 36,
    "start_time": "2025-02-14T06:53:41.476Z"
   },
   {
    "duration": 227,
    "start_time": "2025-02-14T06:53:41.514Z"
   },
   {
    "duration": 189,
    "start_time": "2025-02-14T06:53:41.742Z"
   },
   {
    "duration": 5,
    "start_time": "2025-02-14T06:53:41.933Z"
   },
   {
    "duration": 97,
    "start_time": "2025-02-14T06:53:41.940Z"
   },
   {
    "duration": 268,
    "start_time": "2025-02-14T06:53:42.039Z"
   },
   {
    "duration": 2,
    "start_time": "2025-02-14T06:53:42.309Z"
   },
   {
    "duration": 253,
    "start_time": "2025-02-14T06:53:42.313Z"
   },
   {
    "duration": 130,
    "start_time": "2025-02-14T06:53:42.567Z"
   },
   {
    "duration": 134,
    "start_time": "2025-02-14T06:53:42.699Z"
   },
   {
    "duration": 6,
    "start_time": "2025-02-14T06:53:42.834Z"
   },
   {
    "duration": 45,
    "start_time": "2025-02-14T06:53:42.841Z"
   },
   {
    "duration": 77,
    "start_time": "2025-02-14T06:58:13.126Z"
   },
   {
    "duration": 44,
    "start_time": "2025-02-14T06:59:48.887Z"
   },
   {
    "duration": 41,
    "start_time": "2025-02-14T07:12:17.318Z"
   },
   {
    "duration": 45,
    "start_time": "2025-02-14T07:13:04.235Z"
   },
   {
    "duration": 3,
    "start_time": "2025-02-14T07:13:42.457Z"
   },
   {
    "duration": 150,
    "start_time": "2025-02-14T07:13:42.462Z"
   },
   {
    "duration": 20,
    "start_time": "2025-02-14T07:13:42.614Z"
   },
   {
    "duration": 13,
    "start_time": "2025-02-14T07:13:42.636Z"
   },
   {
    "duration": 11,
    "start_time": "2025-02-14T07:13:42.652Z"
   },
   {
    "duration": 8,
    "start_time": "2025-02-14T07:13:42.665Z"
   },
   {
    "duration": 8,
    "start_time": "2025-02-14T07:13:42.674Z"
   },
   {
    "duration": 34,
    "start_time": "2025-02-14T07:13:42.683Z"
   },
   {
    "duration": 5,
    "start_time": "2025-02-14T07:13:42.719Z"
   },
   {
    "duration": 9,
    "start_time": "2025-02-14T07:13:42.728Z"
   },
   {
    "duration": 6,
    "start_time": "2025-02-14T07:13:42.738Z"
   },
   {
    "duration": 5,
    "start_time": "2025-02-14T07:13:42.746Z"
   },
   {
    "duration": 10,
    "start_time": "2025-02-14T07:13:42.752Z"
   },
   {
    "duration": 43,
    "start_time": "2025-02-14T07:13:42.766Z"
   },
   {
    "duration": 4,
    "start_time": "2025-02-14T07:13:42.811Z"
   },
   {
    "duration": 38,
    "start_time": "2025-02-14T07:13:42.817Z"
   },
   {
    "duration": 4,
    "start_time": "2025-02-14T07:13:42.857Z"
   },
   {
    "duration": 93,
    "start_time": "2025-02-14T07:13:42.863Z"
   },
   {
    "duration": 22,
    "start_time": "2025-02-14T07:13:42.958Z"
   },
   {
    "duration": 7,
    "start_time": "2025-02-14T07:13:42.982Z"
   },
   {
    "duration": 68,
    "start_time": "2025-02-14T07:13:42.990Z"
   },
   {
    "duration": 18,
    "start_time": "2025-02-14T07:13:43.060Z"
   },
   {
    "duration": 7,
    "start_time": "2025-02-14T07:13:43.080Z"
   },
   {
    "duration": 54,
    "start_time": "2025-02-14T07:13:43.108Z"
   },
   {
    "duration": 5,
    "start_time": "2025-02-14T07:13:43.164Z"
   },
   {
    "duration": 44,
    "start_time": "2025-02-14T07:13:43.170Z"
   },
   {
    "duration": 24,
    "start_time": "2025-02-14T07:13:43.216Z"
   },
   {
    "duration": 18,
    "start_time": "2025-02-14T07:13:43.241Z"
   },
   {
    "duration": 20,
    "start_time": "2025-02-14T07:13:43.260Z"
   },
   {
    "duration": 37,
    "start_time": "2025-02-14T07:13:43.282Z"
   },
   {
    "duration": 14,
    "start_time": "2025-02-14T07:13:43.321Z"
   },
   {
    "duration": 12,
    "start_time": "2025-02-14T07:13:43.337Z"
   },
   {
    "duration": 242,
    "start_time": "2025-02-14T07:13:43.351Z"
   },
   {
    "duration": 182,
    "start_time": "2025-02-14T07:13:43.595Z"
   },
   {
    "duration": 8,
    "start_time": "2025-02-14T07:13:43.778Z"
   },
   {
    "duration": 96,
    "start_time": "2025-02-14T07:13:43.788Z"
   },
   {
    "duration": 416,
    "start_time": "2025-02-14T07:13:43.885Z"
   },
   {
    "duration": 6,
    "start_time": "2025-02-14T07:13:44.303Z"
   },
   {
    "duration": 255,
    "start_time": "2025-02-14T07:13:44.311Z"
   },
   {
    "duration": 133,
    "start_time": "2025-02-14T07:13:44.568Z"
   },
   {
    "duration": 152,
    "start_time": "2025-02-14T07:13:44.710Z"
   },
   {
    "duration": 7,
    "start_time": "2025-02-14T07:13:44.864Z"
   },
   {
    "duration": 14,
    "start_time": "2025-02-14T07:13:44.872Z"
   },
   {
    "duration": 53,
    "start_time": "2025-02-14T07:16:45.588Z"
   },
   {
    "duration": 2,
    "start_time": "2025-02-14T07:16:47.673Z"
   },
   {
    "duration": 158,
    "start_time": "2025-02-14T07:16:47.683Z"
   },
   {
    "duration": 17,
    "start_time": "2025-02-14T07:16:47.843Z"
   },
   {
    "duration": 13,
    "start_time": "2025-02-14T07:16:47.862Z"
   },
   {
    "duration": 11,
    "start_time": "2025-02-14T07:16:47.876Z"
   },
   {
    "duration": 8,
    "start_time": "2025-02-14T07:16:47.908Z"
   },
   {
    "duration": 9,
    "start_time": "2025-02-14T07:16:47.917Z"
   },
   {
    "duration": 9,
    "start_time": "2025-02-14T07:16:47.927Z"
   },
   {
    "duration": 5,
    "start_time": "2025-02-14T07:16:47.937Z"
   },
   {
    "duration": 10,
    "start_time": "2025-02-14T07:16:47.944Z"
   },
   {
    "duration": 6,
    "start_time": "2025-02-14T07:16:47.955Z"
   },
   {
    "duration": 5,
    "start_time": "2025-02-14T07:16:47.963Z"
   },
   {
    "duration": 47,
    "start_time": "2025-02-14T07:16:47.969Z"
   },
   {
    "duration": 6,
    "start_time": "2025-02-14T07:16:48.018Z"
   },
   {
    "duration": 4,
    "start_time": "2025-02-14T07:16:48.027Z"
   },
   {
    "duration": 38,
    "start_time": "2025-02-14T07:16:48.033Z"
   },
   {
    "duration": 4,
    "start_time": "2025-02-14T07:16:48.073Z"
   },
   {
    "duration": 98,
    "start_time": "2025-02-14T07:16:48.079Z"
   },
   {
    "duration": 35,
    "start_time": "2025-02-14T07:16:48.179Z"
   },
   {
    "duration": 6,
    "start_time": "2025-02-14T07:16:48.216Z"
   },
   {
    "duration": 52,
    "start_time": "2025-02-14T07:16:48.224Z"
   },
   {
    "duration": 38,
    "start_time": "2025-02-14T07:16:48.277Z"
   },
   {
    "duration": 8,
    "start_time": "2025-02-14T07:16:48.317Z"
   },
   {
    "duration": 55,
    "start_time": "2025-02-14T07:16:48.326Z"
   },
   {
    "duration": 5,
    "start_time": "2025-02-14T07:16:48.382Z"
   },
   {
    "duration": 25,
    "start_time": "2025-02-14T07:16:48.409Z"
   },
   {
    "duration": 22,
    "start_time": "2025-02-14T07:16:48.436Z"
   },
   {
    "duration": 19,
    "start_time": "2025-02-14T07:16:48.460Z"
   },
   {
    "duration": 42,
    "start_time": "2025-02-14T07:16:48.481Z"
   },
   {
    "duration": 13,
    "start_time": "2025-02-14T07:16:48.525Z"
   },
   {
    "duration": 14,
    "start_time": "2025-02-14T07:16:48.540Z"
   },
   {
    "duration": 13,
    "start_time": "2025-02-14T07:16:48.555Z"
   },
   {
    "duration": 253,
    "start_time": "2025-02-14T07:16:48.570Z"
   },
   {
    "duration": 176,
    "start_time": "2025-02-14T07:16:48.824Z"
   },
   {
    "duration": 10,
    "start_time": "2025-02-14T07:16:49.002Z"
   },
   {
    "duration": 98,
    "start_time": "2025-02-14T07:16:49.014Z"
   },
   {
    "duration": 275,
    "start_time": "2025-02-14T07:16:49.114Z"
   },
   {
    "duration": 2,
    "start_time": "2025-02-14T07:16:49.391Z"
   },
   {
    "duration": 264,
    "start_time": "2025-02-14T07:16:49.396Z"
   },
   {
    "duration": 140,
    "start_time": "2025-02-14T07:16:49.662Z"
   },
   {
    "duration": 265,
    "start_time": "2025-02-14T07:16:49.809Z"
   },
   {
    "duration": 6,
    "start_time": "2025-02-14T07:16:50.078Z"
   },
   {
    "duration": 23,
    "start_time": "2025-02-14T07:16:50.086Z"
   },
   {
    "duration": 20,
    "start_time": "2025-02-14T07:21:39.486Z"
   },
   {
    "duration": 19,
    "start_time": "2025-02-14T07:22:16.165Z"
   },
   {
    "duration": 20,
    "start_time": "2025-02-14T07:22:22.146Z"
   },
   {
    "duration": 102,
    "start_time": "2025-02-14T07:22:55.258Z"
   },
   {
    "duration": 11,
    "start_time": "2025-02-15T06:37:39.595Z"
   },
   {
    "duration": 2480,
    "start_time": "2025-02-15T18:10:23.800Z"
   },
   {
    "duration": 214,
    "start_time": "2025-02-15T18:10:26.283Z"
   },
   {
    "duration": 16,
    "start_time": "2025-02-15T18:10:26.499Z"
   },
   {
    "duration": 13,
    "start_time": "2025-02-15T18:10:26.517Z"
   },
   {
    "duration": 11,
    "start_time": "2025-02-15T18:10:26.533Z"
   },
   {
    "duration": 8,
    "start_time": "2025-02-15T18:10:26.545Z"
   },
   {
    "duration": 8,
    "start_time": "2025-02-15T18:10:26.555Z"
   },
   {
    "duration": 41,
    "start_time": "2025-02-15T18:10:26.564Z"
   },
   {
    "duration": 6,
    "start_time": "2025-02-15T18:10:26.607Z"
   },
   {
    "duration": 12,
    "start_time": "2025-02-15T18:10:26.615Z"
   },
   {
    "duration": 5,
    "start_time": "2025-02-15T18:10:26.629Z"
   },
   {
    "duration": 6,
    "start_time": "2025-02-15T18:10:26.635Z"
   },
   {
    "duration": 8,
    "start_time": "2025-02-15T18:10:26.643Z"
   },
   {
    "duration": 6,
    "start_time": "2025-02-15T18:10:26.655Z"
   },
   {
    "duration": 4,
    "start_time": "2025-02-15T18:10:26.662Z"
   },
   {
    "duration": 77,
    "start_time": "2025-02-15T18:10:26.667Z"
   },
   {
    "duration": 5,
    "start_time": "2025-02-15T18:10:26.745Z"
   },
   {
    "duration": 92,
    "start_time": "2025-02-15T18:10:26.751Z"
   },
   {
    "duration": 23,
    "start_time": "2025-02-15T18:10:26.844Z"
   },
   {
    "duration": 6,
    "start_time": "2025-02-15T18:10:26.869Z"
   },
   {
    "duration": 66,
    "start_time": "2025-02-15T18:10:26.877Z"
   },
   {
    "duration": 17,
    "start_time": "2025-02-15T18:10:26.944Z"
   },
   {
    "duration": 7,
    "start_time": "2025-02-15T18:10:26.963Z"
   },
   {
    "duration": 72,
    "start_time": "2025-02-15T18:10:26.972Z"
   },
   {
    "duration": 4,
    "start_time": "2025-02-15T18:10:27.046Z"
   },
   {
    "duration": 31,
    "start_time": "2025-02-15T18:10:27.052Z"
   },
   {
    "duration": 45,
    "start_time": "2025-02-15T18:10:27.085Z"
   },
   {
    "duration": 18,
    "start_time": "2025-02-15T18:10:27.131Z"
   },
   {
    "duration": 22,
    "start_time": "2025-02-15T18:10:27.151Z"
   },
   {
    "duration": 37,
    "start_time": "2025-02-15T18:10:27.175Z"
   },
   {
    "duration": 15,
    "start_time": "2025-02-15T18:10:27.213Z"
   },
   {
    "duration": 12,
    "start_time": "2025-02-15T18:10:27.230Z"
   },
   {
    "duration": 263,
    "start_time": "2025-02-15T18:10:27.243Z"
   },
   {
    "duration": 185,
    "start_time": "2025-02-15T18:10:27.508Z"
   },
   {
    "duration": 12,
    "start_time": "2025-02-15T18:10:27.694Z"
   },
   {
    "duration": 86,
    "start_time": "2025-02-15T18:10:27.707Z"
   },
   {
    "duration": 341,
    "start_time": "2025-02-15T18:10:27.795Z"
   },
   {
    "duration": 109,
    "start_time": "2025-02-15T18:10:28.138Z"
   },
   {
    "duration": 260,
    "start_time": "2025-02-15T18:10:28.249Z"
   },
   {
    "duration": 139,
    "start_time": "2025-02-15T18:10:28.511Z"
   },
   {
    "duration": 134,
    "start_time": "2025-02-15T18:10:28.654Z"
   },
   {
    "duration": 16,
    "start_time": "2025-02-15T18:10:28.790Z"
   },
   {
    "duration": 12,
    "start_time": "2025-02-15T18:10:28.807Z"
   },
   {
    "duration": 20,
    "start_time": "2025-02-15T18:13:03.439Z"
   },
   {
    "duration": 2470,
    "start_time": "2025-02-17T17:43:07.379Z"
   },
   {
    "duration": 230,
    "start_time": "2025-02-17T17:43:09.852Z"
   },
   {
    "duration": 16,
    "start_time": "2025-02-17T17:43:10.084Z"
   },
   {
    "duration": 13,
    "start_time": "2025-02-17T17:43:10.103Z"
   },
   {
    "duration": 11,
    "start_time": "2025-02-17T17:43:10.118Z"
   },
   {
    "duration": 8,
    "start_time": "2025-02-17T17:43:10.131Z"
   },
   {
    "duration": 8,
    "start_time": "2025-02-17T17:43:10.142Z"
   },
   {
    "duration": 10,
    "start_time": "2025-02-17T17:43:10.151Z"
   },
   {
    "duration": 6,
    "start_time": "2025-02-17T17:43:10.162Z"
   },
   {
    "duration": 43,
    "start_time": "2025-02-17T17:43:10.171Z"
   },
   {
    "duration": 6,
    "start_time": "2025-02-17T17:43:10.215Z"
   },
   {
    "duration": 6,
    "start_time": "2025-02-17T17:43:10.222Z"
   },
   {
    "duration": 9,
    "start_time": "2025-02-17T17:43:10.229Z"
   },
   {
    "duration": 7,
    "start_time": "2025-02-17T17:43:10.239Z"
   },
   {
    "duration": 5,
    "start_time": "2025-02-17T17:43:10.247Z"
   },
   {
    "duration": 77,
    "start_time": "2025-02-17T17:43:10.253Z"
   },
   {
    "duration": 4,
    "start_time": "2025-02-17T17:43:10.332Z"
   },
   {
    "duration": 84,
    "start_time": "2025-02-17T17:43:10.338Z"
   },
   {
    "duration": 23,
    "start_time": "2025-02-17T17:43:10.424Z"
   },
   {
    "duration": 8,
    "start_time": "2025-02-17T17:43:10.449Z"
   },
   {
    "duration": 70,
    "start_time": "2025-02-17T17:43:10.458Z"
   },
   {
    "duration": 19,
    "start_time": "2025-02-17T17:43:10.529Z"
   },
   {
    "duration": 8,
    "start_time": "2025-02-17T17:43:10.549Z"
   },
   {
    "duration": 78,
    "start_time": "2025-02-17T17:43:10.559Z"
   },
   {
    "duration": 4,
    "start_time": "2025-02-17T17:43:10.639Z"
   },
   {
    "duration": 31,
    "start_time": "2025-02-17T17:43:10.645Z"
   },
   {
    "duration": 251,
    "start_time": "2025-02-17T17:43:10.678Z"
   },
   {
    "duration": 0,
    "start_time": "2025-02-17T17:43:10.931Z"
   },
   {
    "duration": 0,
    "start_time": "2025-02-17T17:43:10.933Z"
   },
   {
    "duration": 0,
    "start_time": "2025-02-17T17:43:10.934Z"
   },
   {
    "duration": 0,
    "start_time": "2025-02-17T17:43:10.935Z"
   },
   {
    "duration": 0,
    "start_time": "2025-02-17T17:43:10.936Z"
   },
   {
    "duration": 0,
    "start_time": "2025-02-17T17:43:10.937Z"
   },
   {
    "duration": 0,
    "start_time": "2025-02-17T17:43:10.938Z"
   },
   {
    "duration": 0,
    "start_time": "2025-02-17T17:43:10.939Z"
   },
   {
    "duration": 0,
    "start_time": "2025-02-17T17:43:10.940Z"
   },
   {
    "duration": 0,
    "start_time": "2025-02-17T17:43:10.941Z"
   },
   {
    "duration": 0,
    "start_time": "2025-02-17T17:43:10.942Z"
   },
   {
    "duration": 0,
    "start_time": "2025-02-17T17:43:10.944Z"
   },
   {
    "duration": 0,
    "start_time": "2025-02-17T17:43:10.945Z"
   },
   {
    "duration": 0,
    "start_time": "2025-02-17T17:43:10.946Z"
   },
   {
    "duration": 0,
    "start_time": "2025-02-17T17:43:10.948Z"
   },
   {
    "duration": 0,
    "start_time": "2025-02-17T17:43:10.949Z"
   },
   {
    "duration": 2,
    "start_time": "2025-02-17T17:47:59.550Z"
   },
   {
    "duration": 160,
    "start_time": "2025-02-17T17:47:59.555Z"
   },
   {
    "duration": 15,
    "start_time": "2025-02-17T17:47:59.717Z"
   },
   {
    "duration": 13,
    "start_time": "2025-02-17T17:47:59.734Z"
   },
   {
    "duration": 11,
    "start_time": "2025-02-17T17:47:59.749Z"
   },
   {
    "duration": 8,
    "start_time": "2025-02-17T17:47:59.762Z"
   },
   {
    "duration": 8,
    "start_time": "2025-02-17T17:47:59.771Z"
   },
   {
    "duration": 37,
    "start_time": "2025-02-17T17:47:59.781Z"
   },
   {
    "duration": 5,
    "start_time": "2025-02-17T17:47:59.820Z"
   },
   {
    "duration": 9,
    "start_time": "2025-02-17T17:47:59.827Z"
   },
   {
    "duration": 5,
    "start_time": "2025-02-17T17:47:59.840Z"
   },
   {
    "duration": 5,
    "start_time": "2025-02-17T17:47:59.846Z"
   },
   {
    "duration": 9,
    "start_time": "2025-02-17T17:47:59.852Z"
   },
   {
    "duration": 9,
    "start_time": "2025-02-17T17:47:59.862Z"
   },
   {
    "duration": 39,
    "start_time": "2025-02-17T17:47:59.872Z"
   },
   {
    "duration": 41,
    "start_time": "2025-02-17T17:47:59.913Z"
   },
   {
    "duration": 6,
    "start_time": "2025-02-17T17:47:59.956Z"
   },
   {
    "duration": 87,
    "start_time": "2025-02-17T17:47:59.963Z"
   },
   {
    "duration": 24,
    "start_time": "2025-02-17T17:48:00.051Z"
   },
   {
    "duration": 7,
    "start_time": "2025-02-17T17:48:00.076Z"
   },
   {
    "duration": 69,
    "start_time": "2025-02-17T17:48:00.085Z"
   },
   {
    "duration": 17,
    "start_time": "2025-02-17T17:48:00.155Z"
   },
   {
    "duration": 7,
    "start_time": "2025-02-17T17:48:00.175Z"
   },
   {
    "duration": 77,
    "start_time": "2025-02-17T17:48:00.184Z"
   },
   {
    "duration": 5,
    "start_time": "2025-02-17T17:48:00.263Z"
   },
   {
    "duration": 47,
    "start_time": "2025-02-17T17:48:00.270Z"
   },
   {
    "duration": 32,
    "start_time": "2025-02-17T17:48:00.319Z"
   },
   {
    "duration": 0,
    "start_time": "2025-02-17T17:48:00.354Z"
   },
   {
    "duration": 0,
    "start_time": "2025-02-17T17:48:00.355Z"
   },
   {
    "duration": 0,
    "start_time": "2025-02-17T17:48:00.356Z"
   },
   {
    "duration": 0,
    "start_time": "2025-02-17T17:48:00.357Z"
   },
   {
    "duration": 0,
    "start_time": "2025-02-17T17:48:00.358Z"
   },
   {
    "duration": 0,
    "start_time": "2025-02-17T17:48:00.360Z"
   },
   {
    "duration": 0,
    "start_time": "2025-02-17T17:48:00.361Z"
   },
   {
    "duration": 0,
    "start_time": "2025-02-17T17:48:00.363Z"
   },
   {
    "duration": 0,
    "start_time": "2025-02-17T17:48:00.364Z"
   },
   {
    "duration": 0,
    "start_time": "2025-02-17T17:48:00.365Z"
   },
   {
    "duration": 0,
    "start_time": "2025-02-17T17:48:00.367Z"
   },
   {
    "duration": 0,
    "start_time": "2025-02-17T17:48:00.368Z"
   },
   {
    "duration": 0,
    "start_time": "2025-02-17T17:48:00.370Z"
   },
   {
    "duration": 0,
    "start_time": "2025-02-17T17:48:00.371Z"
   },
   {
    "duration": 0,
    "start_time": "2025-02-17T17:48:00.372Z"
   },
   {
    "duration": 0,
    "start_time": "2025-02-17T17:48:00.412Z"
   },
   {
    "duration": 3,
    "start_time": "2025-02-17T17:48:08.626Z"
   },
   {
    "duration": 147,
    "start_time": "2025-02-17T17:48:09.268Z"
   },
   {
    "duration": 17,
    "start_time": "2025-02-17T17:48:09.853Z"
   },
   {
    "duration": 13,
    "start_time": "2025-02-17T17:48:10.160Z"
   },
   {
    "duration": 12,
    "start_time": "2025-02-17T17:48:10.572Z"
   },
   {
    "duration": 8,
    "start_time": "2025-02-17T17:48:10.787Z"
   },
   {
    "duration": 9,
    "start_time": "2025-02-17T17:48:11.033Z"
   },
   {
    "duration": 10,
    "start_time": "2025-02-17T17:48:11.368Z"
   },
   {
    "duration": 5,
    "start_time": "2025-02-17T17:48:11.567Z"
   },
   {
    "duration": 11,
    "start_time": "2025-02-17T17:48:12.191Z"
   },
   {
    "duration": 6,
    "start_time": "2025-02-17T17:48:12.368Z"
   },
   {
    "duration": 5,
    "start_time": "2025-02-17T17:48:13.206Z"
   },
   {
    "duration": 9,
    "start_time": "2025-02-17T17:48:13.732Z"
   },
   {
    "duration": 7,
    "start_time": "2025-02-17T17:48:14.778Z"
   },
   {
    "duration": 7,
    "start_time": "2025-02-17T17:48:16.228Z"
   },
   {
    "duration": 39,
    "start_time": "2025-02-17T17:48:17.656Z"
   },
   {
    "duration": 5,
    "start_time": "2025-02-17T17:48:18.127Z"
   },
   {
    "duration": 68,
    "start_time": "2025-02-17T17:48:19.216Z"
   },
   {
    "duration": 23,
    "start_time": "2025-02-17T17:48:19.675Z"
   },
   {
    "duration": 7,
    "start_time": "2025-02-17T17:48:19.858Z"
   },
   {
    "duration": 44,
    "start_time": "2025-02-17T17:48:20.536Z"
   },
   {
    "duration": 18,
    "start_time": "2025-02-17T17:48:20.990Z"
   },
   {
    "duration": 8,
    "start_time": "2025-02-17T17:48:21.226Z"
   },
   {
    "duration": 56,
    "start_time": "2025-02-17T17:48:22.515Z"
   },
   {
    "duration": 367,
    "start_time": "2025-02-17T17:48:44.315Z"
   },
   {
    "duration": 3,
    "start_time": "2025-02-17T17:56:08.522Z"
   },
   {
    "duration": 150,
    "start_time": "2025-02-17T17:56:09.107Z"
   },
   {
    "duration": 15,
    "start_time": "2025-02-17T17:56:09.537Z"
   },
   {
    "duration": 13,
    "start_time": "2025-02-17T17:56:09.709Z"
   },
   {
    "duration": 13,
    "start_time": "2025-02-17T17:56:09.900Z"
   },
   {
    "duration": 11,
    "start_time": "2025-02-17T17:56:10.096Z"
   },
   {
    "duration": 9,
    "start_time": "2025-02-17T17:56:10.264Z"
   },
   {
    "duration": 9,
    "start_time": "2025-02-17T17:56:10.630Z"
   },
   {
    "duration": 6,
    "start_time": "2025-02-17T17:56:10.814Z"
   },
   {
    "duration": 11,
    "start_time": "2025-02-17T17:56:11.376Z"
   },
   {
    "duration": 5,
    "start_time": "2025-02-17T17:56:11.604Z"
   },
   {
    "duration": 7,
    "start_time": "2025-02-17T17:56:12.283Z"
   },
   {
    "duration": 12,
    "start_time": "2025-02-17T17:56:12.949Z"
   },
   {
    "duration": 7,
    "start_time": "2025-02-17T17:56:14.168Z"
   },
   {
    "duration": 4,
    "start_time": "2025-02-17T17:56:14.633Z"
   },
   {
    "duration": 40,
    "start_time": "2025-02-17T17:56:15.029Z"
   },
   {
    "duration": 5,
    "start_time": "2025-02-17T17:56:15.231Z"
   },
   {
    "duration": 69,
    "start_time": "2025-02-17T17:56:15.828Z"
   },
   {
    "duration": 24,
    "start_time": "2025-02-17T17:56:16.235Z"
   },
   {
    "duration": 8,
    "start_time": "2025-02-17T17:56:16.421Z"
   },
   {
    "duration": 44,
    "start_time": "2025-02-17T17:56:17.088Z"
   },
   {
    "duration": 19,
    "start_time": "2025-02-17T17:56:17.511Z"
   },
   {
    "duration": 9,
    "start_time": "2025-02-17T17:56:17.714Z"
   },
   {
    "duration": 55,
    "start_time": "2025-02-17T17:56:18.317Z"
   },
   {
    "duration": 5,
    "start_time": "2025-02-17T17:56:21.396Z"
   },
   {
    "duration": 45,
    "start_time": "2025-02-17T17:56:27.971Z"
   },
   {
    "duration": 33,
    "start_time": "2025-02-17T17:56:30.729Z"
   },
   {
    "duration": 25,
    "start_time": "2025-02-17T17:56:37.513Z"
   },
   {
    "duration": 19,
    "start_time": "2025-02-17T17:56:54.171Z"
   },
   {
    "duration": 28,
    "start_time": "2025-02-17T17:56:58.927Z"
   },
   {
    "duration": 24,
    "start_time": "2025-02-17T17:57:17.073Z"
   },
   {
    "duration": 17,
    "start_time": "2025-02-17T17:57:27.219Z"
   },
   {
    "duration": 15,
    "start_time": "2025-02-17T17:57:28.713Z"
   },
   {
    "duration": 13,
    "start_time": "2025-02-17T17:57:30.725Z"
   },
   {
    "duration": 224,
    "start_time": "2025-02-17T17:57:49.850Z"
   },
   {
    "duration": 184,
    "start_time": "2025-02-17T17:58:09.048Z"
   },
   {
    "duration": 6,
    "start_time": "2025-02-17T17:58:14.332Z"
   },
   {
    "duration": 134,
    "start_time": "2025-02-17T17:58:16.530Z"
   },
   {
    "duration": 8,
    "start_time": "2025-02-17T17:58:59.576Z"
   },
   {
    "duration": 7,
    "start_time": "2025-02-17T17:59:21.428Z"
   },
   {
    "duration": 263,
    "start_time": "2025-02-17T17:59:33.009Z"
   },
   {
    "duration": 105,
    "start_time": "2025-02-17T17:59:43.547Z"
   },
   {
    "duration": 312,
    "start_time": "2025-02-17T17:59:49.404Z"
   },
   {
    "duration": 122,
    "start_time": "2025-02-17T18:00:02.849Z"
   },
   {
    "duration": 141,
    "start_time": "2025-02-17T18:00:05.706Z"
   },
   {
    "duration": 8,
    "start_time": "2025-02-18T01:21:26.990Z"
   },
   {
    "duration": 5,
    "start_time": "2025-02-18T01:22:20.550Z"
   },
   {
    "duration": 3165,
    "start_time": "2025-02-18T01:27:25.631Z"
   },
   {
    "duration": 249,
    "start_time": "2025-02-18T01:27:28.799Z"
   },
   {
    "duration": 19,
    "start_time": "2025-02-18T01:27:29.049Z"
   },
   {
    "duration": 13,
    "start_time": "2025-02-18T01:27:29.071Z"
   },
   {
    "duration": 14,
    "start_time": "2025-02-18T01:27:29.086Z"
   },
   {
    "duration": 31,
    "start_time": "2025-02-18T01:27:29.101Z"
   },
   {
    "duration": 10,
    "start_time": "2025-02-18T01:27:29.559Z"
   },
   {
    "duration": 19,
    "start_time": "2025-02-18T01:27:30.967Z"
   },
   {
    "duration": 6,
    "start_time": "2025-02-18T01:27:31.504Z"
   },
   {
    "duration": 10,
    "start_time": "2025-02-18T01:27:33.136Z"
   },
   {
    "duration": 7,
    "start_time": "2025-02-18T01:27:33.245Z"
   },
   {
    "duration": 6,
    "start_time": "2025-02-18T01:27:34.238Z"
   },
   {
    "duration": 10,
    "start_time": "2025-02-18T01:27:34.679Z"
   },
   {
    "duration": 8,
    "start_time": "2025-02-18T01:27:35.664Z"
   },
   {
    "duration": 5,
    "start_time": "2025-02-18T01:27:36.595Z"
   },
   {
    "duration": 46,
    "start_time": "2025-02-18T01:27:39.247Z"
   },
   {
    "duration": 5,
    "start_time": "2025-02-18T01:27:39.661Z"
   },
   {
    "duration": 78,
    "start_time": "2025-02-18T01:27:40.726Z"
   },
   {
    "duration": 26,
    "start_time": "2025-02-18T01:27:41.465Z"
   },
   {
    "duration": 7,
    "start_time": "2025-02-18T01:27:41.570Z"
   },
   {
    "duration": 51,
    "start_time": "2025-02-18T01:27:44.006Z"
   },
   {
    "duration": 22,
    "start_time": "2025-02-18T01:27:44.605Z"
   },
   {
    "duration": 9,
    "start_time": "2025-02-18T01:27:45.438Z"
   },
   {
    "duration": 62,
    "start_time": "2025-02-18T01:27:48.815Z"
   },
   {
    "duration": 8,
    "start_time": "2025-02-18T01:27:52.238Z"
   },
   {
    "duration": 34,
    "start_time": "2025-02-18T01:27:53.294Z"
   },
   {
    "duration": 40,
    "start_time": "2025-02-18T01:27:53.897Z"
   },
   {
    "duration": 21,
    "start_time": "2025-02-18T01:27:54.539Z"
   },
   {
    "duration": 29,
    "start_time": "2025-02-18T01:27:55.241Z"
   },
   {
    "duration": 17,
    "start_time": "2025-02-18T01:27:58.168Z"
   },
   {
    "duration": 15,
    "start_time": "2025-02-18T01:27:59.172Z"
   },
   {
    "duration": 13,
    "start_time": "2025-02-18T01:28:07.881Z"
   },
   {
    "duration": 225,
    "start_time": "2025-02-18T01:28:11.185Z"
   },
   {
    "duration": 176,
    "start_time": "2025-02-18T01:28:13.233Z"
   },
   {
    "duration": 8,
    "start_time": "2025-02-18T01:28:14.841Z"
   },
   {
    "duration": 90,
    "start_time": "2025-02-18T01:28:16.035Z"
   },
   {
    "duration": 349,
    "start_time": "2025-02-18T01:28:18.429Z"
   },
   {
    "duration": 166,
    "start_time": "2025-02-18T01:28:19.445Z"
   },
   {
    "duration": 104,
    "start_time": "2025-02-18T01:29:13.414Z"
   },
   {
    "duration": 157,
    "start_time": "2025-02-18T01:30:49.028Z"
   },
   {
    "duration": 164,
    "start_time": "2025-02-18T01:31:45.697Z"
   },
   {
    "duration": 161,
    "start_time": "2025-02-18T01:32:17.589Z"
   },
   {
    "duration": 165,
    "start_time": "2025-02-18T01:32:29.620Z"
   },
   {
    "duration": 803,
    "start_time": "2025-02-18T19:36:22.056Z"
   },
   {
    "duration": 166,
    "start_time": "2025-02-18T19:36:22.862Z"
   },
   {
    "duration": 17,
    "start_time": "2025-02-18T19:36:23.029Z"
   },
   {
    "duration": 13,
    "start_time": "2025-02-18T19:36:23.047Z"
   },
   {
    "duration": 11,
    "start_time": "2025-02-18T19:36:23.064Z"
   },
   {
    "duration": 9,
    "start_time": "2025-02-18T19:36:23.076Z"
   },
   {
    "duration": 8,
    "start_time": "2025-02-18T19:36:23.086Z"
   },
   {
    "duration": 9,
    "start_time": "2025-02-18T19:36:23.096Z"
   },
   {
    "duration": 40,
    "start_time": "2025-02-18T19:36:23.106Z"
   },
   {
    "duration": 10,
    "start_time": "2025-02-18T19:36:23.147Z"
   },
   {
    "duration": 4,
    "start_time": "2025-02-18T19:36:23.160Z"
   },
   {
    "duration": 6,
    "start_time": "2025-02-18T19:36:23.167Z"
   },
   {
    "duration": 9,
    "start_time": "2025-02-18T19:36:23.175Z"
   },
   {
    "duration": 7,
    "start_time": "2025-02-18T19:36:23.188Z"
   },
   {
    "duration": 7,
    "start_time": "2025-02-18T19:36:23.196Z"
   },
   {
    "duration": 79,
    "start_time": "2025-02-18T19:36:23.205Z"
   },
   {
    "duration": 5,
    "start_time": "2025-02-18T19:36:23.286Z"
   },
   {
    "duration": 88,
    "start_time": "2025-02-18T19:36:23.292Z"
   },
   {
    "duration": 22,
    "start_time": "2025-02-18T19:36:23.382Z"
   },
   {
    "duration": 6,
    "start_time": "2025-02-18T19:36:23.406Z"
   },
   {
    "duration": 70,
    "start_time": "2025-02-18T19:36:23.414Z"
   },
   {
    "duration": 20,
    "start_time": "2025-02-18T19:36:23.486Z"
   },
   {
    "duration": 8,
    "start_time": "2025-02-18T19:36:23.508Z"
   },
   {
    "duration": 82,
    "start_time": "2025-02-18T19:36:23.518Z"
   },
   {
    "duration": 6,
    "start_time": "2025-02-18T19:36:23.603Z"
   },
   {
    "duration": 48,
    "start_time": "2025-02-18T19:36:23.610Z"
   },
   {
    "duration": 30,
    "start_time": "2025-02-18T19:36:23.660Z"
   },
   {
    "duration": 18,
    "start_time": "2025-02-18T19:36:23.692Z"
   },
   {
    "duration": 48,
    "start_time": "2025-02-18T19:36:23.712Z"
   },
   {
    "duration": 14,
    "start_time": "2025-02-18T19:36:23.763Z"
   },
   {
    "duration": 14,
    "start_time": "2025-02-18T19:36:23.779Z"
   },
   {
    "duration": 12,
    "start_time": "2025-02-18T19:36:23.794Z"
   },
   {
    "duration": 301,
    "start_time": "2025-02-18T19:36:23.808Z"
   },
   {
    "duration": 184,
    "start_time": "2025-02-18T19:36:24.110Z"
   },
   {
    "duration": 7,
    "start_time": "2025-02-18T19:36:24.296Z"
   },
   {
    "duration": 102,
    "start_time": "2025-02-18T19:36:24.306Z"
   },
   {
    "duration": 178,
    "start_time": "2025-02-18T19:36:24.410Z"
   },
   {
    "duration": 117,
    "start_time": "2025-02-18T19:36:24.590Z"
   },
   {
    "duration": 157,
    "start_time": "2025-02-18T19:36:24.708Z"
   },
   {
    "duration": 166,
    "start_time": "2025-02-18T19:36:24.867Z"
   },
   {
    "duration": 6,
    "start_time": "2025-02-18T19:36:25.042Z"
   },
   {
    "duration": 12,
    "start_time": "2025-02-18T19:36:25.050Z"
   },
   {
    "duration": 19,
    "start_time": "2025-02-18T19:36:37.083Z"
   }
  ],
  "colab": {
   "provenance": []
  },
  "kernelspec": {
   "display_name": "Python 3 (ipykernel)",
   "language": "python",
   "name": "python3"
  },
  "language_info": {
   "codemirror_mode": {
    "name": "ipython",
    "version": 3
   },
   "file_extension": ".py",
   "mimetype": "text/x-python",
   "name": "python",
   "nbconvert_exporter": "python",
   "pygments_lexer": "ipython3",
   "version": "3.9.19"
  },
  "toc": {
   "base_numbering": 1,
   "nav_menu": {},
   "number_sections": true,
   "sideBar": true,
   "skip_h1_title": false,
   "title_cell": "Table of Contents",
   "title_sidebar": "Contents",
   "toc_cell": false,
   "toc_position": {
    "height": "calc(100% - 180px)",
    "left": "10px",
    "top": "150px",
    "width": "449.727px"
   },
   "toc_section_display": true,
   "toc_window_display": false
  }
 },
 "nbformat": 4,
 "nbformat_minor": 1
}
